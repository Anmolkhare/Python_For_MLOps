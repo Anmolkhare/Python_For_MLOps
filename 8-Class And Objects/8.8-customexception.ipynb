{
 "cells": [
  {
   "cell_type": "markdown",
   "id": "d764072a",
   "metadata": {},
   "source": [
    "# 🚨 Custom Exceptions in Python\n",
    "\n",
    "In Python, exceptions are objects that represent errors or unexpected behavior. While Python provides many built-in exceptions (like `ValueError`, `TypeError`, etc.), you can also create your own custom exceptions for specific use cases in your programs.\n",
    "\n",
    "---\n",
    "\n",
    "## 🔧 Why Use Custom Exceptions?\n",
    "Custom exceptions help you:\n",
    "- Make your error messages more meaningful.\n",
    "- Handle domain-specific errors more precisely.\n",
    "- Maintain clean and readable code.\n",
    "\n",
    "---\n",
    "\n",
    "## 🧱 Defining a Custom Exception\n",
    "\n",
    "To define a custom exception, create a new class that inherits from the built-in `Exception` class:\n",
    "\n",
    "```python\n",
    "class MyCustomError(Exception):\n",
    "    \"\"\"Custom exception for a specific error.\"\"\"\n",
    "    pass\n",
    "````\n",
    "\n",
    "---\n",
    "\n",
    "## 🚀 Raising an Exception\n",
    "\n",
    "Use the `raise` keyword to throw an exception when a specific condition occurs:\n",
    "\n",
    "```python\n",
    "def check_age(age):\n",
    "    if age < 18:\n",
    "        raise MyCustomError(\"Age must be 18 or older!\")\n",
    "```\n",
    "\n",
    "---\n",
    "\n",
    "## ⚠️ Catching a Custom Exception\n",
    "\n",
    "You can handle your custom exception using `try` and `except`:\n",
    "\n",
    "```python\n",
    "try:\n",
    "    check_age(16)\n",
    "except MyCustomError as e:\n",
    "    print(f\"Caught an error: {e}\")\n",
    "```\n",
    "\n",
    "---\n",
    "\n",
    "## ✨ Adding Extra Functionality\n",
    "\n",
    "You can customize your exception by overriding the `__init__` or `__str__` methods:\n",
    "\n",
    "```python\n",
    "class InputTooSmallError(Exception):\n",
    "    def __init__(self, message=\"Input is too small!\"):\n",
    "        self.message = message\n",
    "        super().__init__(self.message)\n",
    "```\n",
    "\n",
    "---\n",
    "\n",
    "## ✅ Best Practices\n",
    "\n",
    "* Always inherit from `Exception` or its subclasses (not `BaseException`).\n",
    "* Use descriptive names (e.g., `InvalidLoginError`, `FileSizeLimitError`).\n",
    "* Include docstrings in your custom exceptions.\n",
    "\n",
    "---\n",
    "\n",
    "Happy Exception Handling! 🐍🚧\n",
    "\n",
    "```"
   ]
  },
  {
   "cell_type": "code",
   "execution_count": 1,
   "id": "9f382538",
   "metadata": {},
   "outputs": [],
   "source": [
    "class Error(Exception):\n",
    "    pass\n",
    "class dobException(Error):\n",
    "    pass"
   ]
  },
  {
   "cell_type": "code",
   "execution_count": 4,
   "id": "8cb24c16",
   "metadata": {},
   "outputs": [
    {
     "name": "stdout",
     "output_type": "stream",
     "text": [
      "The age is valid so you can apply for the exam\n"
     ]
    }
   ],
   "source": [
    "year=int(input(\"Enter the dob\"))\n",
    "age= 2024-year\n",
    "try:\n",
    "    if age<=30 and age >=20:\n",
    "        print(\"The age is valid so you can apply for the exam\")\n",
    "    else:\n",
    "        raise dobException\n",
    "except dobException:\n",
    "    print(\"Sorry,your age shoud be greater that 20 or less that 30 \")"
   ]
  }
 ],
 "metadata": {
  "kernelspec": {
   "display_name": "venv",
   "language": "python",
   "name": "python3"
  },
  "language_info": {
   "codemirror_mode": {
    "name": "ipython",
    "version": 3
   },
   "file_extension": ".py",
   "mimetype": "text/x-python",
   "name": "python",
   "nbconvert_exporter": "python",
   "pygments_lexer": "ipython3",
   "version": "3.12.9"
  }
 },
 "nbformat": 4,
 "nbformat_minor": 5
}
