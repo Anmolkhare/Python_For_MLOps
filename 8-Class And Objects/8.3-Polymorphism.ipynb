{
 "cells": [
  {
   "cell_type": "markdown",
   "id": "c7565a32",
   "metadata": {},
   "source": [
    "# 🌀 Polymorphism in Python\n",
    "\n",
    "## 📘 What is Polymorphism?\n",
    "\n",
    "Polymorphism means \"many forms.\" In programming, it refers to the ability of different objects to respond to the same function or method in different ways.\n",
    "\n",
    "In Python, polymorphism allows the same method or function name to behave differently depending on the object calling it.\n",
    "\n",
    "---\n",
    "\n",
    "## 🔍 Types of Polymorphism in Python\n",
    "\n",
    "### 1. Duck Typing\n",
    "- “If it looks like a duck and quacks like a duck, it must be a duck.”\n",
    "- Python doesn't check types explicitly; it only checks for presence of methods and properties.\n",
    "\n",
    "### 2. Operator Overloading\n",
    "- Allows custom implementation of built-in operators for user-defined classes.\n",
    "- For example, you can define how + works for a custom class.\n",
    "\n",
    "### 3. Method Overriding (Runtime Polymorphism)\n",
    "- Child class provides a specific implementation of a method already defined in its parent class.\n",
    "- Used in inheritance.\n",
    "\n",
    "---\n",
    "\n",
    "## 🧪 Examples of Polymorphism\n",
    "\n",
    "### Duck Typing Example\n",
    "```python\n",
    "class Cat:\n",
    "    def sound(self):\n",
    "        return \"Meow\"\n",
    "\n",
    "class Dog:\n",
    "    def sound(self):\n",
    "        return \"Bark\"\n",
    "\n",
    "def make_sound(animal):\n",
    "    print(animal.sound())\n",
    "\n",
    "make_sound(Cat())\n",
    "make_sound(Dog())\n",
    "\n",
    "### Operator Overloading Example\n",
    "\n",
    "```python\n",
    "class Point:\n",
    "    def __init__(self, x, y):\n",
    "        self.x = x\n",
    "        self.y = y\n",
    "\n",
    "    def __add__(self, other):\n",
    "        return Point(self.x + other.x, self.y + other.y)\n",
    "\n",
    "p1 = Point(1, 2)\n",
    "p2 = Point(3, 4)\n",
    "p3 = p1 + p2\n",
    "print(p3.x, p3.y)  # Output: 4 6\n",
    "```\n",
    "\n",
    "### Method Overriding Example\n",
    "\n",
    "```python\n",
    "class Shape:\n",
    "    def area(self):\n",
    "        return 0\n",
    "\n",
    "class Circle(Shape):\n",
    "    def __init__(self, r):\n",
    "        self.r = r\n",
    "    def area(self):\n",
    "        return 3.14 * self.r * self.r\n",
    "\n",
    "obj = Circle(5)\n",
    "print(obj.area())  # Output: 78.5\n",
    "```\n",
    "\n",
    "---\n",
    "\n",
    "## ✅ Benefits of Polymorphism\n",
    "\n",
    "* Code reusability\n",
    "* Interfaces are more flexible\n",
    "* Helps in achieving loose coupling\n",
    "* Simplifies code maintenance\n",
    "\n",
    "---\n",
    "\n",
    "🧠 Use polymorphism when multiple classes share a common interface but implement behavior differently.\n",
    "\n",
    "➡️ Ready to dive into some practice questions next?\n",
    "\n",
    "```"
   ]
  },
  {
   "cell_type": "code",
   "execution_count": null,
   "id": "92f1db3d",
   "metadata": {},
   "outputs": [
    {
     "name": "stdout",
     "output_type": "stream",
     "text": [
      "Woof!\n",
      "Meow1\n",
      "Woof!\n"
     ]
    }
   ],
   "source": [
    "# Base Class\n",
    "class Animal:\n",
    "    def speak(self):\n",
    "        return \"Sound of the animal\"\n",
    "\n",
    "# Derived Class 1\n",
    "class Dog(Animal):\n",
    "    def speak(self):\n",
    "        return \"Woof!\"\n",
    "\n",
    "# Derived Class 2\n",
    "class Cat(Animal):\n",
    "    def speak(self):\n",
    "        return \"Meow1\"\n",
    "\n",
    "# Function that demostrates polymorphism\n",
    "def animal_speak(animal):\n",
    "    print(animal.speak())\n",
    "\n",
    "\n",
    "dog=Dog()\n",
    "cat = Cat()\n",
    "\n",
    "print(dog.speak())\n",
    "print(cat.speak())\n",
    "animal_speak(dog)"
   ]
  },
  {
   "cell_type": "code",
   "execution_count": null,
   "id": "449d86ea",
   "metadata": {},
   "outputs": [
    {
     "name": "stdout",
     "output_type": "stream",
     "text": [
      "the area is 20\n",
      "the area is 28.259999999999998\n"
     ]
    }
   ],
   "source": [
    "# Ploymorphissm with functions and methods\n",
    "# base class\n",
    "class Shape:\n",
    "    def area(self):\n",
    "        return \"The area of the figure\"\n",
    "# derived class 1\n",
    "class Rectangle(Shape):\n",
    "    def __init__(self,width,height):\n",
    "        self.width=width\n",
    "        self.height=height\n",
    "\n",
    "    def area(self):\n",
    "        return self.width * self.height\n",
    "\n",
    "# Derived class 2\n",
    "class Circle(Shape):\n",
    "    def __init__(self,radius):\n",
    "        self.radius=radius\n",
    "\n",
    "    def area(self):\n",
    "        return 3.14* self.radius * self.radius\n",
    "        \n",
    "# Function that demonstrates polymorphism\n",
    "\n",
    "def print_area(shape):\n",
    "    print(f\"the area is { shape.area()}\")\n",
    "\n",
    "rectangle = Rectangle(4,5)\n",
    "circle = Circle(3)\n",
    "\n",
    "print_area(rectangle)\n",
    "print_area(circle)"
   ]
  },
  {
   "cell_type": "code",
   "execution_count": null,
   "id": "c65b9d1b",
   "metadata": {},
   "outputs": [
    {
     "name": "stdout",
     "output_type": "stream",
     "text": [
      "25\n",
      "78.5\n"
     ]
    }
   ],
   "source": [
    "# Calling Object\n",
    "s = Shape()\n",
    "s.area()\n",
    "r = Rectangle(5,5)\n",
    "print(r.area())\n",
    "r2 = Rectangle(10,10)\n",
    "r2.area()\n",
    "c = Circle(5)\n",
    "print(c.area())"
   ]
  },
  {
   "cell_type": "markdown",
   "id": "03801485",
   "metadata": {},
   "source": [
    "### Abstract Base Classes (ABCs) are used to define common methods for a group of related objects. They can enforce that derived classes implement particulat methods, promoting consistency across different implementations."
   ]
  },
  {
   "cell_type": "code",
   "execution_count": 29,
   "id": "cb91f7e9",
   "metadata": {},
   "outputs": [
    {
     "name": "stdout",
     "output_type": "stream",
     "text": [
      "Car engine started\n",
      "Motorcycle enginer started\n"
     ]
    }
   ],
   "source": [
    "# Abstractmethod\n",
    "\n",
    "from abc import ABC,abstractmethod\n",
    "# Define an abstract class\n",
    "class Vehicle(ABC):\n",
    "    @abstractmethod\n",
    "    def start_engine(self):\n",
    "        pass\n",
    "# Derived classs 1\n",
    "class Car(Vehicle):\n",
    "    def start_engine(self):\n",
    "        return \"Car engine started\"\n",
    "\n",
    "# Derived class 2\n",
    "class Motorcycle(Vehicle):\n",
    "    def start_engine(self):\n",
    "        return \"Motorcycle enginer started\"\n",
    "\n",
    "# Function that demonstrates polymorphism\n",
    "def start_vehicle(vehicle):\n",
    "    print(vehicle.start_engine())\n",
    "\n",
    "car = Car()\n",
    "motorcycle = Motorcycle()\n",
    "\n",
    "start_vehicle(car)\n",
    "start_vehicle(motorcycle)"
   ]
  },
  {
   "cell_type": "markdown",
   "id": "367e2f33",
   "metadata": {},
   "source": [
    "## 📝 Polymorphism – Practice Questions\n",
    "\n",
    "### 🔸 Basic Understanding\n",
    "\n",
    "1. What is polymorphism in Python? Explain with an example.\n",
    "\n",
    "2. How does duck typing support polymorphism in Python?\n",
    "\n",
    "3. What is the difference between method overloading and method overriding? Which one is supported in Python?\n",
    "\n",
    "---\n",
    "\n",
    "### 🔹 Coding Challenges\n",
    "\n",
    "4. Create a class `Bird` with a method `fly()`. Now create two subclasses `Sparrow` and `Penguin` that override the `fly()` method. Write a function that takes an object and calls its `fly()` method using polymorphism.\n",
    "\n",
    "5. Implement operator overloading for a `Vector` class so that you can add two vectors using the `+` operator.\n",
    "\n",
    "6. Write a class `Shape` with a method `area()`. Create at least two subclasses like `Rectangle` and `Triangle`, each with its own area calculation. Demonstrate polymorphism using these classes.\n",
    "\n",
    "7. Create a function `display_sound(animal)` that accepts any object with a `sound()` method. Use it with different classes like `Dog`, `Cat`, and `Cow`.\n",
    "\n",
    "---\n",
    "\n",
    "### 💡 Advanced Thinking\n",
    "\n",
    "8. Can polymorphism be implemented without inheritance in Python? Justify your answer with an example.\n",
    "\n",
    "9. Discuss the role of abstract classes in supporting polymorphism. Implement a simple example using the `abc` module.\n",
    "\n",
    "10. How does polymorphism help in reducing code duplication and increasing code flexibility?\n",
    "\n",
    "---\n",
    "\n",
    "🧠 Hint: Focus on writing reusable and flexible code using the same method names across different classes!\n",
    "```\n"
   ]
  },
  {
   "cell_type": "code",
   "execution_count": null,
   "id": "28ea95a3",
   "metadata": {},
   "outputs": [
    {
     "name": "stdout",
     "output_type": "stream",
     "text": [
      "Sparrow flies high in the sky.\n",
      "Penguins can't fly, they swim.\n"
     ]
    }
   ],
   "source": [
    "# 4. Create a class `Bird` with a method `fly()`. Now create two subclasses `Sparrow` and `Penguin` that override the `fly()` method. \n",
    "# Write a function that takes an object and calls its `fly()` method using polymorphism.\n",
    "\n",
    "# Base class\n",
    "class Bird:\n",
    "    def fly(self):\n",
    "        print(\"Some bird is flying.\")\n",
    "\n",
    "# Subclass Sparrow\n",
    "class Sparrow(Bird):\n",
    "    def fly(self):\n",
    "        print(\"Sparrow flies high in the sky.\")\n",
    "\n",
    "# Subclass Penguin\n",
    "class Penguin(Bird):\n",
    "    def fly(self):\n",
    "        print(\"Penguins can't fly, they swim.\")\n",
    "\n",
    "# Polymorphic function\n",
    "def bird_fly_action(bird_obj):\n",
    "    bird_obj.fly()  # Calls the appropriate fly() method based on object type\n",
    "\n",
    "# Example usage\n",
    "sparrow = Sparrow()\n",
    "penguin = Penguin()\n",
    "\n",
    "bird_fly_action(sparrow)   # Output: Sparrow flies high in the sky.\n",
    "bird_fly_action(penguin)   # Output: Penguins can't fly, they swim."
   ]
  },
  {
   "cell_type": "code",
   "execution_count": null,
   "id": "9f87ccc2",
   "metadata": {},
   "outputs": [
    {
     "name": "stdout",
     "output_type": "stream",
     "text": [
      "Vector(6, 4)\n"
     ]
    }
   ],
   "source": [
    "# Implement operator overloading for a `Vector` class so that you can add two vectors using the `+` operator\n",
    "class Vector:\n",
    "    def __init__(self, x, y):\n",
    "        self.x = x\n",
    "        self.y = y\n",
    "\n",
    "    # Overloading the + operator\n",
    "    def __add__(self, other):\n",
    "        return Vector(self.x + other.x, self.y + other.y)\n",
    "\n",
    "    def __str__(self):\n",
    "        return f\"Vector({self.x}, {self.y})\"\n",
    "\n",
    "# Example usage\n",
    "v1 = Vector(2, 3)\n",
    "v2 = Vector(4, 1)\n",
    "v3 = v1 + v2\n",
    "\n",
    "print(v3)  # Output: Vector(6, 4)"
   ]
  },
  {
   "cell_type": "code",
   "execution_count": null,
   "id": "c65cfcda",
   "metadata": {},
   "outputs": [
    {
     "name": "stdout",
     "output_type": "stream",
     "text": [
      "Shape is rectangle Area is : 25\n",
      "This is triangle area : 12.5\n"
     ]
    }
   ],
   "source": [
    "# Write a class `Shape` with a method `area()`. Create at least two subclasses like `Rectangle` and `Triangle`, \n",
    "# each with its own area calculation. Demonstrate polymorphism using these classes.\n",
    "\n",
    "class Shape:\n",
    "    def area(self):\n",
    "        print(f\"This Shape is comman\")\n",
    "class Rectangle(Shape):\n",
    "    def __init__(self,width,height):\n",
    "        self.height =height\n",
    "        self.width = width\n",
    "    def area(self):\n",
    "        print(f\"Shape is rectangle Area is : {self.width * self.height}\")\n",
    "class Triangle(Shape):\n",
    "    def __init__(self,base,height):\n",
    "        self.height =height\n",
    "        self.base = base\n",
    "    def area(self):\n",
    "        print(f\"This is triangle area : {0.5* self.height * self.base}\")\n",
    "    \n",
    "def shape_area(func_name):\n",
    "    func_name.area()\n",
    "\n",
    "rectangle1 = Rectangle(5,5)\n",
    "triangle1 = Triangle(5,5)\n",
    "shape_area(rectangle1)\n",
    "shape_area(triangle1)"
   ]
  },
  {
   "cell_type": "code",
   "execution_count": 21,
   "id": "5a5ff779",
   "metadata": {},
   "outputs": [
    {
     "name": "stdout",
     "output_type": "stream",
     "text": [
      "Dog says: Woof!\n",
      "Cat says: Meow!\n",
      "Cow says: Moo!\n"
     ]
    }
   ],
   "source": [
    "# Create a function `display_sound(animal)` that accepts any object with a `sound()` method. \n",
    "# Use it with different classes like `Dog`, `Cat`, and `Cow`.\n",
    "class Dog:\n",
    "    def sound(self):\n",
    "        print(\"Dog says: Woof!\")\n",
    "\n",
    "class Cat:\n",
    "    def sound(self):\n",
    "        print(\"Cat says: Meow!\")\n",
    "\n",
    "class Cow:\n",
    "    def sound(self):\n",
    "        print(\"Cow says: Moo!\")\n",
    "\n",
    "# Polymorphic function\n",
    "def display_sound(animal):\n",
    "    animal.sound()\n",
    "\n",
    "# Example usage\n",
    "dog = Dog()\n",
    "cat = Cat()\n",
    "cow = Cow()\n",
    "\n",
    "display_sound(dog)\n",
    "display_sound(cat)\n",
    "display_sound(cow)\n"
   ]
  },
  {
   "cell_type": "code",
   "execution_count": null,
   "id": "305bb4cd",
   "metadata": {},
   "outputs": [],
   "source": []
  }
 ],
 "metadata": {
  "kernelspec": {
   "display_name": "venv",
   "language": "python",
   "name": "python3"
  },
  "language_info": {
   "codemirror_mode": {
    "name": "ipython",
    "version": 3
   },
   "file_extension": ".py",
   "mimetype": "text/x-python",
   "name": "python",
   "nbconvert_exporter": "python",
   "pygments_lexer": "ipython3",
   "version": "3.12.9"
  }
 },
 "nbformat": 4,
 "nbformat_minor": 5
}
