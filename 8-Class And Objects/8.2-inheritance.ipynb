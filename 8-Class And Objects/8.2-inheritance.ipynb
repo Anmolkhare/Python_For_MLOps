{
 "cells": [
  {
   "cell_type": "markdown",
   "id": "acb8fb8f",
   "metadata": {},
   "source": [
    "# 🧬 Inheritance in Python\n",
    "\n",
    "Inheritance is one of the core concepts of Object-Oriented Programming (OOP). It allows a class (called a child or derived class) to inherit the attributes and methods of another class (called a parent or base class). This promotes code reusability and logical hierarchy.\n",
    "\n",
    "---\n",
    "\n",
    "## 🔍 Why Use Inheritance?\n",
    "\n",
    "- ✅ To reuse existing code.\n",
    "- ✅ To establish a relationship between parent and child classes.\n",
    "- ✅ To implement polymorphism.\n",
    "- ✅ To keep code DRY (Don't Repeat Yourself).\n",
    "\n",
    "---\n",
    "\n",
    "## 🏷️ Syntax of Inheritance\n",
    "\n",
    "```python\n",
    "class Parent:\n",
    "    # parent class members\n",
    "\n",
    "class Child(Parent):\n",
    "    # child class members (inherits Parent)\n",
    "````\n",
    "\n",
    "---\n",
    "\n",
    "## 🧱 Types of Inheritance in Python\n",
    "\n",
    "| Type                     | Description                                                         |\n",
    "| ------------------------ | ------------------------------------------------------------------- |\n",
    "| Single Inheritance       | A child class inherits from one parent class.                       |\n",
    "| Multiple Inheritance     | A child class inherits from more than one parent class.             |\n",
    "| Multilevel Inheritance   | A child inherits from a parent, which inherits from another parent. |\n",
    "| Hierarchical Inheritance | Multiple child classes inherit from the same parent class.          |\n",
    "| Hybrid Inheritance       | A combination of multiple types of inheritance.                     |\n",
    "\n",
    "---\n",
    "\n",
    "## 💡 Example\n",
    "\n",
    "```python\n",
    "class Animal:\n",
    "    def speak(self):\n",
    "        print(\"Animal speaks\")\n",
    "\n",
    "class Dog(Animal):\n",
    "    def bark(self):\n",
    "        print(\"Dog barks\")\n",
    "\n",
    "d = Dog()\n",
    "d.speak()\n",
    "d.bark()\n",
    "```\n",
    "\n",
    "---\n",
    "\n",
    "## ⚠️ Common Pitfalls\n",
    "\n",
    "* Overriding methods without calling the parent class.\n",
    "* MRO (Method Resolution Order) issues in multiple inheritance.\n",
    "* Forgetting to use super() when extending behavior.\n",
    "\n",
    "---\n",
    "\n",
    "Inheritance helps you write cleaner, scalable, and maintainable code. It's a must-know for any aspiring Python developer or data engineer!\n",
    "\n",
    "🧠 Tip: Use inheritance wisely; not everything that \"can\" be inherited \"should\" be.\n",
    "\n",
    "```"
   ]
  },
  {
   "cell_type": "code",
   "execution_count": null,
   "id": "0d6ff5f7",
   "metadata": {},
   "outputs": [],
   "source": [
    "# Inheritance (Single Inheritance)\n",
    "# Parent class\n",
    "\n",
    "class Car:\n",
    "    def __init__(self,windows,doors,enginetype):\n",
    "        self.windows=windows\n",
    "        self.doors=doors\n",
    "        self.enginetype=enginetype\n",
    "    def drive(self):\n",
    "        print(f\"The person will drive the {self.enginetype} car \")\n"
   ]
  },
  {
   "cell_type": "code",
   "execution_count": 7,
   "id": "bbaa77ba",
   "metadata": {},
   "outputs": [
    {
     "name": "stdout",
     "output_type": "stream",
     "text": [
      "The person will drive the petrol car \n"
     ]
    }
   ],
   "source": [
    "car1=Car(4,5,\"petrol\")\n",
    "car1.drive()"
   ]
  },
  {
   "cell_type": "code",
   "execution_count": 8,
   "id": "a4b37207",
   "metadata": {},
   "outputs": [],
   "source": [
    "class Tesla(Car):\n",
    "    def __init__(self,windows,doors,enginetype,is_selfdriving):\n",
    "        super().__init__(windows,doors,enginetype)\n",
    "        self.is_selfdriving=is_selfdriving\n",
    "    def selfdriving(self):\n",
    "        print(f\"Tesla supports self driving :{self.is_selfdriving}\")"
   ]
  },
  {
   "cell_type": "code",
   "execution_count": 10,
   "id": "3a91aed2",
   "metadata": {},
   "outputs": [
    {
     "name": "stdout",
     "output_type": "stream",
     "text": [
      "Tesla supports self driving :True\n"
     ]
    }
   ],
   "source": [
    "tesla1 = Tesla(4,5,\"electric\",True)\n",
    "tesla1.selfdriving()"
   ]
  },
  {
   "cell_type": "code",
   "execution_count": null,
   "id": "f9174798",
   "metadata": {},
   "outputs": [
    {
     "name": "stdout",
     "output_type": "stream",
     "text": [
      "Buddy say woof\n",
      "Owner:Anmol\n"
     ]
    }
   ],
   "source": [
    "# Multiple Inheritance\n",
    "\n",
    "# Base class1\n",
    "\n",
    "class Animal:\n",
    "    def __init__(self,name):\n",
    "        self.name=name\n",
    "    def speak(self):\n",
    "        print(\"Subclass mush implement this method\")\n",
    "# Base class2\n",
    "class Pet:\n",
    "    def __init__(self,owner):\n",
    "        self.owner = owner\n",
    "\n",
    "#Derived class\n",
    "class Dog(Animal,Pet):\n",
    "    def __init__(self,name,owner):\n",
    "        Animal.__init__(self,name)\n",
    "        Pet.__init__(self,owner)\n",
    "    def speak(self):\n",
    "        return f\"{self.name} say woof\"\n",
    "\n",
    "# creating object\n",
    "dog = Dog(\"Buddy\",\"Anmol\")\n",
    "print(dog.speak())\n",
    "print(f\"Owner:{dog.owner}\")\n"
   ]
  },
  {
   "cell_type": "code",
   "execution_count": null,
   "id": "7481e21c",
   "metadata": {},
   "outputs": [],
   "source": []
  }
 ],
 "metadata": {
  "kernelspec": {
   "display_name": "venv",
   "language": "python",
   "name": "python3"
  },
  "language_info": {
   "codemirror_mode": {
    "name": "ipython",
    "version": 3
   },
   "file_extension": ".py",
   "mimetype": "text/x-python",
   "name": "python",
   "nbconvert_exporter": "python",
   "pygments_lexer": "ipython3",
   "version": "3.12.9"
  }
 },
 "nbformat": 4,
 "nbformat_minor": 5
}
