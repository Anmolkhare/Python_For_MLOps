{
 "cells": [
  {
   "cell_type": "markdown",
   "id": "acb8fb8f",
   "metadata": {},
   "source": [
    "# 🧬 Inheritance in Python\n",
    "\n",
    "Inheritance is one of the core concepts of Object-Oriented Programming (OOP). It allows a class (called a child or derived class) to inherit the attributes and methods of another class (called a parent or base class). This promotes code reusability and logical hierarchy.\n",
    "\n",
    "---\n",
    "\n",
    "## 🔍 Why Use Inheritance?\n",
    "\n",
    "- ✅ To reuse existing code.\n",
    "- ✅ To establish a relationship between parent and child classes.\n",
    "- ✅ To implement polymorphism.\n",
    "- ✅ To keep code DRY (Don't Repeat Yourself).\n",
    "\n",
    "---\n",
    "\n",
    "## 🏷️ Syntax of Inheritance\n",
    "\n",
    "```python\n",
    "class Parent:\n",
    "    # parent class members\n",
    "\n",
    "class Child(Parent):\n",
    "    # child class members (inherits Parent)\n",
    "````\n",
    "\n",
    "---\n",
    "\n",
    "## 🧱 Types of Inheritance in Python\n",
    "\n",
    "| Type                     | Description                                                         |\n",
    "| ------------------------ | ------------------------------------------------------------------- |\n",
    "| Single Inheritance       | A child class inherits from one parent class.                       |\n",
    "| Multiple Inheritance     | A child class inherits from more than one parent class.             |\n",
    "| Multilevel Inheritance   | A child inherits from a parent, which inherits from another parent. |\n",
    "| Hierarchical Inheritance | Multiple child classes inherit from the same parent class.          |\n",
    "| Hybrid Inheritance       | A combination of multiple types of inheritance.                     |\n",
    "\n",
    "---\n",
    "\n",
    "## 💡 Example\n",
    "\n",
    "```python\n",
    "class Animal:\n",
    "    def speak(self):\n",
    "        print(\"Animal speaks\")\n",
    "\n",
    "class Dog(Animal):\n",
    "    def bark(self):\n",
    "        print(\"Dog barks\")\n",
    "\n",
    "d = Dog()\n",
    "d.speak()\n",
    "d.bark()\n",
    "```\n",
    "\n",
    "---\n",
    "\n",
    "## ⚠️ Common Pitfalls\n",
    "\n",
    "* Overriding methods without calling the parent class.\n",
    "* MRO (Method Resolution Order) issues in multiple inheritance.\n",
    "* Forgetting to use super() when extending behavior.\n",
    "\n",
    "---\n",
    "\n",
    "Inheritance helps you write cleaner, scalable, and maintainable code. It's a must-know for any aspiring Python developer or data engineer!\n",
    "\n",
    "🧠 Tip: Use inheritance wisely; not everything that \"can\" be inherited \"should\" be.\n",
    "\n",
    "```"
   ]
  },
  {
   "cell_type": "code",
   "execution_count": null,
   "id": "0d6ff5f7",
   "metadata": {},
   "outputs": [],
   "source": [
    "# Inheritance (Single Inheritance)\n",
    "# Parent class\n",
    "\n",
    "class Car:\n",
    "    def __init__(self,windows,doors,enginetype):\n",
    "        self.windows=windows\n",
    "        self.doors=doors\n",
    "        self.enginetype=enginetype\n",
    "    def drive(self):\n",
    "        print(f\"The person will drive the {self.enginetype} car \")\n"
   ]
  },
  {
   "cell_type": "code",
   "execution_count": 7,
   "id": "bbaa77ba",
   "metadata": {},
   "outputs": [
    {
     "name": "stdout",
     "output_type": "stream",
     "text": [
      "The person will drive the petrol car \n"
     ]
    }
   ],
   "source": [
    "car1=Car(4,5,\"petrol\")\n",
    "car1.drive()"
   ]
  },
  {
   "cell_type": "code",
   "execution_count": 8,
   "id": "a4b37207",
   "metadata": {},
   "outputs": [],
   "source": [
    "class Tesla(Car):\n",
    "    def __init__(self,windows,doors,enginetype,is_selfdriving):\n",
    "        super().__init__(windows,doors,enginetype)\n",
    "        self.is_selfdriving=is_selfdriving\n",
    "    def selfdriving(self):\n",
    "        print(f\"Tesla supports self driving :{self.is_selfdriving}\")"
   ]
  },
  {
   "cell_type": "code",
   "execution_count": 10,
   "id": "3a91aed2",
   "metadata": {},
   "outputs": [
    {
     "name": "stdout",
     "output_type": "stream",
     "text": [
      "Tesla supports self driving :True\n"
     ]
    }
   ],
   "source": [
    "tesla1 = Tesla(4,5,\"electric\",True)\n",
    "tesla1.selfdriving()"
   ]
  },
  {
   "cell_type": "code",
   "execution_count": null,
   "id": "f9174798",
   "metadata": {},
   "outputs": [
    {
     "name": "stdout",
     "output_type": "stream",
     "text": [
      "Buddy say woof\n",
      "Owner:Anmol\n"
     ]
    }
   ],
   "source": [
    "# Multiple Inheritance\n",
    "\n",
    "# Base class1\n",
    "class Animal:\n",
    "    def __init__(self,name):\n",
    "        self.name=name\n",
    "    def speak(self):\n",
    "        print(\"Subclass mush implement this method\")\n",
    "# Base class2\n",
    "class Pet:\n",
    "    def __init__(self,owner):\n",
    "        self.owner = owner\n",
    "\n",
    "#Derived class\n",
    "class Dog(Animal,Pet):\n",
    "    def __init__(self,name,owner):\n",
    "        Animal.__init__(self,name)\n",
    "        Pet.__init__(self,owner)\n",
    "    def speak(self):\n",
    "        return f\"{self.name} say woof\"\n",
    "\n",
    "# creating object\n",
    "dog = Dog(\"Buddy\",\"Anmol\")\n",
    "print(dog.speak())\n",
    "print(f\"Owner:{dog.owner}\")\n"
   ]
  },
  {
   "cell_type": "markdown",
   "id": "8bf27d60",
   "metadata": {},
   "source": [
    "# 🧬 Practice Questions: Inheritance in Python\n",
    "\n",
    "### 📖 Conceptual Understanding\n",
    "\n",
    "1. ❓ What is inheritance in Python? Why is it useful?\n",
    "   - 📝 Hint: Think about code reuse and parent-child relationships.\n",
    "\n",
    "2. ❓ Explain the difference between single, multiple, multilevel, hierarchical, and hybrid inheritance with examples.\n",
    "\n",
    "3. ❓ What is the difference between method overriding and method overloading in Python?\n",
    "\n",
    "4. ❓ What is the role of the super() function in inheritance?\n",
    "\n",
    "---\n",
    "\n",
    "### 🧱 Coding Practice\n",
    "\n",
    "5. 🧑‍💻 Create a class Animal with methods like eat() and sleep(). Derive classes Dog and Cat that inherit from Animal and add their own methods.\n",
    "\n",
    "6. 🧑‍💻 Demonstrate single inheritance using a class Vehicle and subclass Car.\n",
    "\n",
    "7. 🧑‍💻 Write a program showing multilevel inheritance with classes: Person → Employee → Manager.\n",
    "\n",
    "8. 🧑‍💻 Create an example of multiple inheritance using classes Father and Mother, and a class Child that inherits from both.\n",
    "\n",
    "9. 🧑‍💻 Use the super() function to access the parent class constructor and methods in a child class.\n",
    "\n",
    "10. 🧑‍💻 Create a class `Shape` with a method `area()`. Inherit `Rectangle` and `Circle` from it and override the `area()` method in both.\n",
    "\n",
    "---\n",
    "\n",
    "### 🔍 Conceptual Deep Dive\n",
    "\n",
    "11. ❓ What will happen if both parent classes in multiple inheritance have a method with the same name?\n",
    "\n",
    "12. ❓ How does Python resolve method calls in multiple inheritance (MRO - Method Resolution Order)?\n",
    "\n",
    "13. ❓ Can a subclass override the `__init__` method of the parent class? What happens then?\n",
    "\n",
    "14. ❓ What is the difference between inheritance and composition in Python?\n",
    "\n",
    "---\n",
    "\n",
    "### 🧪 Challenge Exercises\n",
    "\n",
    "15. 🚀 Build a class structure for a university system: Person → Student → GraduateStudent with appropriate attributes and methods.\n",
    "\n",
    "16. 🧩 Create a base class Account and derive classes SavingsAccount and CheckingAccount. Include methods like deposit(), withdraw(), and check_balance().\n",
    "\n",
    "17. 🔄 Demonstrate hierarchical inheritance by creating a base class Employee and two child classes: Developer and Tester.\n",
    "\n",
    "---\n",
    "\n",
    "✅ Work on these questions to strengthen your understanding of Python's inheritance model and how it helps build modular, maintainable programs.\n",
    "```"
   ]
  },
  {
   "cell_type": "code",
   "execution_count": 9,
   "id": "b35e7cf5",
   "metadata": {},
   "outputs": [
    {
     "name": "stdout",
     "output_type": "stream",
     "text": [
      "my dog name is rocky and my dog is eatting at morning \n",
      "Then sleeping at night\n",
      "my cat is name is kitty and my cat is eatting at morning \n",
      "Then sleeping at night\n"
     ]
    }
   ],
   "source": [
    "# Create a class Animal with methods like eat() and sleep(). \n",
    "# Derive classes Dog and Cat that inherit from Animal and add their own methods.\n",
    "\n",
    "class Animal:\n",
    "    def __init__(self,eat ,sleep):\n",
    "        self.eat = eat\n",
    "        self.sleep = sleep\n",
    "class Dog(Animal):\n",
    "    def __init__(self,eat,sleep,dog_name):\n",
    "        Animal.__init__(self,eat,sleep)\n",
    "        self.dog_name = dog_name\n",
    "    def dog_doing(self):\n",
    "        print(f\"my dog name is {self.dog_name} and my dog is {self.eat} at morning \\nThen {self.sleep} at night\")\n",
    "class Cat(Animal):\n",
    "    def __init__(self,eat,sleep,cat_name):\n",
    "        self.cat_name = cat_name\n",
    "        Animal.__init__(self,eat,sleep)\n",
    "    def cat_doing(self):\n",
    "        print(f\"my cat is name is {self.cat_name} and my cat is {self.eat} at morning \\nThen {self.sleep} at night\")\n",
    "\n",
    "dog1 = Dog(\"eatting\",\"sleeping\",\"rocky\")\n",
    "dog1.dog_doing()\n",
    "cat1 = Cat(\"eatting\",\"sleeping\",\"kitty\")\n",
    "cat1.cat_doing()"
   ]
  },
  {
   "cell_type": "code",
   "execution_count": 10,
   "id": "ef7bd1e6",
   "metadata": {},
   "outputs": [
    {
     "name": "stdout",
     "output_type": "stream",
     "text": [
      "My dog's name is Rocky. It is eating in the morning and sleeping at night.\n",
      "My cat's name is Kitty. It is eating in the morning and sleeping at night.\n"
     ]
    }
   ],
   "source": [
    "class Animal:\n",
    "    def __init__(self, eat, sleep):\n",
    "        self.eat = eat\n",
    "        self.sleep = sleep\n",
    "\n",
    "class Dog(Animal):\n",
    "    def __init__(self, eat, sleep, dog_name):\n",
    "        super().__init__(eat, sleep)\n",
    "        self.dog_name = dog_name\n",
    "\n",
    "    def describe(self):\n",
    "        print(f\"My dog's name is {self.dog_name}. It is {self.eat} in the morning and {self.sleep} at night.\")\n",
    "\n",
    "class Cat(Animal):\n",
    "    def __init__(self, eat, sleep, cat_name):\n",
    "        super().__init__(eat, sleep)\n",
    "        self.cat_name = cat_name\n",
    "\n",
    "    def describe(self):\n",
    "        print(f\"My cat's name is {self.cat_name}. It is {self.eat} in the morning and {self.sleep} at night.\")\n",
    "\n",
    "# Example usage\n",
    "dog1 = Dog(\"eating\", \"sleeping\", \"Rocky\")\n",
    "dog1.describe()\n",
    "\n",
    "cat1 = Cat(\"eating\", \"sleeping\", \"Kitty\")\n",
    "cat1.describe()\n"
   ]
  },
  {
   "cell_type": "code",
   "execution_count": 16,
   "id": "a1ee2659",
   "metadata": {},
   "outputs": [
    {
     "name": "stdout",
     "output_type": "stream",
     "text": [
      "Car company is Tesla \n",
      "Car version 4.5.36 \n",
      "Vehicle started yes or no ? \n",
      "  Yes \n",
      "Vehicle stoped yes or no ?\n",
      "   No\n"
     ]
    }
   ],
   "source": [
    "# Demonstrate single inheritance using a class Vehicle and subclass Car.\n",
    "class vehicle:\n",
    "    def __init__(self,start,stop):\n",
    "        self.start = start\n",
    "        self.stop = stop\n",
    "class Car(vehicle):\n",
    "    def __init__(self,start,stop,car_company,car_version):\n",
    "        super().__init__(start,stop)\n",
    "        self.car_company = car_company\n",
    "        self.car_version = car_version\n",
    "    def detail(self):\n",
    "        print(f\"Car company is {self.car_company} \\nCar version {self.car_version} \\nVehicle started yes or no ? \\n  {self.start} \\nVehicle stoped yes or no ?\\n   {self.stop}\")\n",
    "\n",
    "\n",
    "car1 = Car(\"Yes\",\"No\",\"Tesla\",\"4.5.36\")\n",
    "car1.detail()"
   ]
  },
  {
   "cell_type": "code",
   "execution_count": null,
   "id": "0923ad9e",
   "metadata": {},
   "outputs": [
    {
     "name": "stdout",
     "output_type": "stream",
     "text": [
      "This is person access permission. \n",
      " Wellcome Anmol\n",
      "--------------------------------------------\n",
      "This is Employpee level permission \n",
      " Wellcome Prasoon\n",
      "Currently updating cash for Anmol last balance is 100000\n",
      "--------------------------------------------\n",
      "This is Manager level permission \n",
      " Wellcome Ashu\n",
      "Prasoon is updating cash of Anmol last balance is 100000\n"
     ]
    }
   ],
   "source": [
    "# Write a program showing multilevel inheritance with classes: Person → Employee → Manager.\n",
    "class Person:\n",
    "    def __init__(self,person_name,account_balance):\n",
    "        self.person_name = person_name\n",
    "        self.account_balance = account_balance\n",
    "    def person_access(self):\n",
    "        print(f\"This is person access permission. \\n Wellcome {self.person_name}\")\n",
    "\n",
    "class Employpee(Person):\n",
    "    def __init__(self,person_name,account_balance,employpee_name):\n",
    "        self.employpee_name = employpee_name\n",
    "        super().__init__(person_name,account_balance)\n",
    "    def employpee_access(self):\n",
    "        print(f\"This is Employpee level permission \\n Wellcome {self.employpee_name}\")\n",
    "        print(f\"Currently updating cash for {self.person_name} last balance is {self.account_balance}\")\n",
    "\n",
    "class Manager(Employpee):\n",
    "    def __init__(self,person_name,account_balance,employpee_name,manager_name):\n",
    "        super().__init__(person_name,account_balance,employpee_name)\n",
    "        self.manager_name = manager_name\n",
    "    def manager_access(self):\n",
    "        print(f\"This is Manager level permission \\n Wellcome {self.manager_name}\")\n",
    "        print(f\"{self.employpee_name} is updating cash of {self.person_name} last balance is {self.account_balance}\")\n",
    "\n",
    "person1 = Person(\"Anmol\",\"100000\")\n",
    "person1.person_access()\n",
    "print(\"--------------------------------------------\")\n",
    "Employpee1 = Employpee(\"Anmol\",\"100000\",\"Prasoon\")\n",
    "Employpee1.employpee_access()\n",
    "print(\"--------------------------------------------\")\n",
    "Manager1 = Manager(\"Anmol\",\"100000\",\"Prasoon\",\"Ashu\")\n",
    "Manager1.manager_access()"
   ]
  },
  {
   "cell_type": "code",
   "execution_count": null,
   "id": "5ebd8c8f",
   "metadata": {},
   "outputs": [],
   "source": []
  }
 ],
 "metadata": {
  "kernelspec": {
   "display_name": "venv",
   "language": "python",
   "name": "python3"
  },
  "language_info": {
   "codemirror_mode": {
    "name": "ipython",
    "version": 3
   },
   "file_extension": ".py",
   "mimetype": "text/x-python",
   "name": "python",
   "nbconvert_exporter": "python",
   "pygments_lexer": "ipython3",
   "version": "3.12.9"
  }
 },
 "nbformat": 4,
 "nbformat_minor": 5
}
