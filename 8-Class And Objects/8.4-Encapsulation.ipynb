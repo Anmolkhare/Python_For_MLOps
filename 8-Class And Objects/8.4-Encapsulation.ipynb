{
 "cells": [
  {
   "cell_type": "markdown",
   "id": "69c0c795",
   "metadata": {},
   "source": [
    "# 🧱 Encapsulation in Python\n",
    "\n",
    "Encapsulation is one of the fundamental concepts in Object-Oriented Programming (OOP). It refers to the bundling of data (attributes) and methods (functions) that operate on the data into a single unit — a class — and restricting access to some of the object’s components.\n",
    "\n",
    "---\n",
    "\n",
    "## 🎯 Key Objectives of Encapsulation\n",
    "- Protect internal object state\n",
    "- Restrict direct access to some components\n",
    "- Prevent unintended interference and misuse\n",
    "- Improve maintainability and flexibility\n",
    "\n",
    "---\n",
    "\n",
    "## 🔐 Access Specifiers in Python\n",
    "\n",
    "Unlike some other languages, Python doesn't have built-in access specifiers like public, private, and protected. Instead, it follows a naming convention:\n",
    "\n",
    "| Access Type     | Convention      | Description                                                  |\n",
    "|-----------------|------------------|--------------------------------------------------------------|\n",
    "| Public          | var_name         | Accessible from anywhere                                     |\n",
    "| Protected       | _var_name        | Should not be accessed outside the class (by convention)     |\n",
    "| Private         | __var_name       | Name mangled to prevent access from outside the class        |\n",
    "\n",
    "---\n",
    "\n",
    "## 🛠 Types / Techniques of Encapsulation\n",
    "\n",
    "1. ✅ Public Members  \n",
    "   - Members declared normally are public and accessible everywhere.\n",
    "\n",
    "2. 🛡 Protected Members  \n",
    "   - Declared with a single underscore `_`, can be accessed within the class and subclasses.\n",
    "\n",
    "3. 🔒 Private Members  \n",
    "   - Declared with double underscores `__`, not accessible directly from outside the class due to name mangling.\n",
    "\n",
    "---\n",
    "\n",
    "## 📦 Example of Encapsulation\n",
    "\n",
    "```python\n",
    "class Employee:\n",
    "    def __init__(self, name, salary):\n",
    "        self.name = name          # public\n",
    "        self._department = 'IT'   # protected\n",
    "        self.__salary = salary    # private\n",
    "\n",
    "    def display_info(self):\n",
    "        print(f\"Name: {self.name}, Department: {self._department}, Salary: {self.__salary}\")\n",
    "\n",
    "    def update_salary(self, new_salary):\n",
    "        if new_salary > 0:\n",
    "            self.__salary = new_salary\n",
    "\n",
    "emp = Employee(\"Anmol\", 50000)\n",
    "emp.display_info()\n",
    "\n",
    "# Access public\n",
    "print(emp.name)\n",
    "\n",
    "# Access protected (by convention, should not)\n",
    "print(emp._department)\n",
    "\n",
    "# Access private (will throw error)\n",
    "# print(emp.__salary) ❌\n",
    "\n",
    "# But can be accessed like this (not recommended)\n",
    "print(emp._Employee__salary)\n",
    "````\n",
    "\n",
    "---\n",
    "\n",
    "## ⚠ Common Pitfalls\n",
    "\n",
    "* Python does not enforce strict access control; conventions are followed instead.\n",
    "* Overusing private variables can reduce code readability.\n",
    "* Use setter and getter methods to access private data safely.\n",
    "\n",
    "---\n",
    "\n",
    "## 💡 Benefits of Encapsulation\n",
    "\n",
    "* Protects data from unintended modifications\n",
    "* Makes code more organized and modular\n",
    "* Promotes maintainability and scalability\n",
    "* Enables data hiding and controlled access\n",
    "\n",
    "---\n",
    "\n",
    "📘 In summary, encapsulation in Python is more about programmer discipline and conventions than compiler enforcement. It plays a vital role in building robust and secure applications.\n",
    "\n",
    "```"
   ]
  },
  {
   "cell_type": "markdown",
   "id": "3c0c65d8",
   "metadata": {},
   "source": []
  },
  {
   "cell_type": "code",
   "execution_count": 4,
   "id": "e5c2f4bd",
   "metadata": {},
   "outputs": [
    {
     "name": "stdout",
     "output_type": "stream",
     "text": [
      "Anmol\n"
     ]
    }
   ],
   "source": [
    "# Encapsulation with Getter and setter methods\n",
    "# Public, Protected, Private, variables\n",
    "\n",
    "class Person:\n",
    "    def __init__(self,name,age):\n",
    "        self.name=name    # public variables\n",
    "        self.age=age      # public variables\n",
    "\n",
    "def get_name(person):\n",
    "    return person.name\n",
    "\n",
    "person=Person(\"Anmol\",34)\n",
    "print(person.name)"
   ]
  },
  {
   "cell_type": "code",
   "execution_count": 2,
   "id": "4bf8fc04",
   "metadata": {},
   "outputs": [
    {
     "data": {
      "text/plain": [
       "['__class__',\n",
       " '__delattr__',\n",
       " '__dict__',\n",
       " '__dir__',\n",
       " '__doc__',\n",
       " '__eq__',\n",
       " '__format__',\n",
       " '__ge__',\n",
       " '__getattribute__',\n",
       " '__getstate__',\n",
       " '__gt__',\n",
       " '__hash__',\n",
       " '__init__',\n",
       " '__init_subclass__',\n",
       " '__le__',\n",
       " '__lt__',\n",
       " '__module__',\n",
       " '__ne__',\n",
       " '__new__',\n",
       " '__reduce__',\n",
       " '__reduce_ex__',\n",
       " '__repr__',\n",
       " '__setattr__',\n",
       " '__sizeof__',\n",
       " '__str__',\n",
       " '__subclasshook__',\n",
       " '__weakref__',\n",
       " 'age',\n",
       " 'name']"
      ]
     },
     "execution_count": 2,
     "metadata": {},
     "output_type": "execute_result"
    }
   ],
   "source": [
    "dir(person)"
   ]
  },
  {
   "cell_type": "code",
   "execution_count": 13,
   "id": "32cc4a06",
   "metadata": {},
   "outputs": [],
   "source": [
    "class Person:\n",
    "    def __init__(self,name,age,gender):\n",
    "        self.__name=name    # private variables\n",
    "        self.__age=age      # private variables\n",
    "        self.gender=gender\n",
    "\n",
    "def get_name(person):\n",
    "    return person.__name\n",
    "person =Person(\"Anmol\",34,\"Male\")\n"
   ]
  },
  {
   "cell_type": "code",
   "execution_count": 9,
   "id": "35edbdca",
   "metadata": {},
   "outputs": [
    {
     "data": {
      "text/plain": [
       "['_Person__age',\n",
       " '_Person__name',\n",
       " '__class__',\n",
       " '__delattr__',\n",
       " '__dict__',\n",
       " '__dir__',\n",
       " '__doc__',\n",
       " '__eq__',\n",
       " '__format__',\n",
       " '__ge__',\n",
       " '__getattribute__',\n",
       " '__getstate__',\n",
       " '__gt__',\n",
       " '__hash__',\n",
       " '__init__',\n",
       " '__init_subclass__',\n",
       " '__le__',\n",
       " '__lt__',\n",
       " '__module__',\n",
       " '__ne__',\n",
       " '__new__',\n",
       " '__reduce__',\n",
       " '__reduce_ex__',\n",
       " '__repr__',\n",
       " '__setattr__',\n",
       " '__sizeof__',\n",
       " '__str__',\n",
       " '__subclasshook__',\n",
       " '__weakref__',\n",
       " 'gender']"
      ]
     },
     "execution_count": 9,
     "metadata": {},
     "output_type": "execute_result"
    }
   ],
   "source": [
    "person=Person(\"Anmol\",34,\"Male\")\n",
    "dir(person)"
   ]
  },
  {
   "cell_type": "code",
   "execution_count": 15,
   "id": "becc15c6",
   "metadata": {},
   "outputs": [
    {
     "name": "stdout",
     "output_type": "stream",
     "text": [
      "Anmol\n"
     ]
    }
   ],
   "source": [
    "class Person:\n",
    "    def __init__(self,name,age,gender):\n",
    "        self._name=name    # protected variables\n",
    "        self._age=age      # protected variables\n",
    "        self.gender=gender\n",
    "\n",
    "def get_name(person):\n",
    "    return person.__name\n",
    "class Employee(Person):\n",
    "    def __init__(self,name,age,gender):\n",
    "        super().__init__(name,age,gender)\n",
    "\n",
    "employee = Person(\"Anmol\",34,\"Male\")\n",
    "print(employee._name)\n"
   ]
  },
  {
   "cell_type": "code",
   "execution_count": 16,
   "id": "d329a522",
   "metadata": {},
   "outputs": [
    {
     "data": {
      "text/plain": [
       "['__class__',\n",
       " '__delattr__',\n",
       " '__dict__',\n",
       " '__dir__',\n",
       " '__doc__',\n",
       " '__eq__',\n",
       " '__format__',\n",
       " '__ge__',\n",
       " '__getattribute__',\n",
       " '__getstate__',\n",
       " '__gt__',\n",
       " '__hash__',\n",
       " '__init__',\n",
       " '__init_subclass__',\n",
       " '__le__',\n",
       " '__lt__',\n",
       " '__module__',\n",
       " '__ne__',\n",
       " '__new__',\n",
       " '__reduce__',\n",
       " '__reduce_ex__',\n",
       " '__repr__',\n",
       " '__setattr__',\n",
       " '__sizeof__',\n",
       " '__str__',\n",
       " '__subclasshook__',\n",
       " '__weakref__',\n",
       " '_age',\n",
       " '_name',\n",
       " 'gender']"
      ]
     },
     "execution_count": 16,
     "metadata": {},
     "output_type": "execute_result"
    }
   ],
   "source": [
    "person=Person(\"Anmol\",34,\"Male\")\n",
    "dir(person)"
   ]
  },
  {
   "cell_type": "code",
   "execution_count": 23,
   "id": "86a1fad7",
   "metadata": {},
   "outputs": [
    {
     "name": "stdout",
     "output_type": "stream",
     "text": [
      "Anmol\n",
      "34\n",
      "35\n",
      "Age cannot be negative.\n"
     ]
    }
   ],
   "source": [
    "# Encapsulation with Getter and setter \n",
    "class Person:\n",
    "    def __init__(self,name,age):\n",
    "        self.__name = name # Private access modifier or variable\n",
    "        self.__age = age # Privae variable\n",
    "\n",
    "    def get_name(person):\n",
    "        return person.__name\n",
    "    def get_name(self):\n",
    "        return self.__name\n",
    "\n",
    "    # Getter method for age\n",
    "    def get_age(self):\n",
    "        return self.__age\n",
    "\n",
    "\n",
    "    # Setter method for age \n",
    "    def set_age(self,age):\n",
    "        if age > 0:\n",
    "            self.__age = age\n",
    "        else:\n",
    "            print(\"Age cannot be negative.\")\n",
    "    \n",
    "        \n",
    "person = Person(\"Anmol\",34)\n",
    "\n",
    "# Access and modify private variables using getter and setter \n",
    "print(person.get_name())\n",
    "print(person.get_age())\n",
    "\n",
    "person.set_age(35)\n",
    "print(person.get_age())\n",
    "\n",
    "person.set_age(-5)\n",
    "\n"
   ]
  },
  {
   "cell_type": "markdown",
   "id": "90e31e5b",
   "metadata": {},
   "source": [
    "# 🧪 Encapsulation Practice Questions\n",
    "\n",
    "These questions will help you strengthen your understanding of Encapsulation in Python.\n",
    "\n",
    "---\n",
    "\n",
    "## 🔰 Beginner Level\n",
    "\n",
    "1. ✅ Define encapsulation. How is it implemented in Python?\n",
    "2. ✅ What is the difference between public, protected, and private variables in Python?\n",
    "3. ✅ Create a class called Student that has a private attribute __marks. Add a method to update and retrieve the marks.\n",
    "4. ✅ How does Python perform name mangling for private variables? Give an example.\n",
    "5. ✅ Why is encapsulation important in object-oriented programming?\n",
    "\n",
    "---\n",
    "\n",
    "## ⚙ Intermediate Level\n",
    "\n",
    "6. 🛠 Create a class BankAccount with private balance. Add methods to deposit, withdraw, and check balance. Ensure balance cannot be accessed directly.\n",
    "7. 🛠 What would happen if you try to access a private attribute directly? Demonstrate with code.\n",
    "8. 🛠 Rewrite a class with public attributes to make them private and use setter/getter methods.\n",
    "9. 🛠 How can encapsulation be used to restrict access to sensitive data in a class?\n",
    "10. 🛠 What is the role of name mangling in protecting private attributes?\n",
    "\n",
    "---\n",
    "\n",
    "## 🧠 Advanced Level\n",
    "\n",
    "11. 🚀 Can a subclass access private variables of the parent class? If not, how can you work around it?\n",
    "12. 🚀 Design a class hierarchy that involves encapsulation at multiple levels (base class and derived class).\n",
    "13. 🚀 Use encapsulation to build a User class with login credentials and ensure password is never printed or accessed directly.\n",
    "14. 🚀 How does Python’s dynamic nature affect encapsulation compared to statically typed languages like Java?\n",
    "15. 🚀 Demonstrate how getter/setter methods can be replaced with @property decorator in Python.\n",
    "\n",
    "---\n",
    "\n",
    "💡 Tip: Practice writing clean, readable, and secure code while applying encapsulation techniques.\n"
   ]
  },
  {
   "cell_type": "code",
   "execution_count": 14,
   "id": "2b681aa1",
   "metadata": {},
   "outputs": [
    {
     "name": "stdout",
     "output_type": "stream",
     "text": [
      "Deposited: 2000\n",
      "Withdrew: 1000\n",
      "Current balance is: 6000\n"
     ]
    }
   ],
   "source": [
    "# 🛠 Create a class BankAccount with private balance. \n",
    "# Add methods to deposit, withdraw, and check balance. \n",
    "# Ensure balance cannot be accessed directly.\n",
    "\n",
    "class BankAccount:\n",
    "    def __init__(self, balance):\n",
    "        self.__balance = balance  # private variable\n",
    "\n",
    "    def deposit(self, amount):\n",
    "        if amount > 0:\n",
    "            self.__balance += amount\n",
    "            print(f\"Deposited: {amount}\")\n",
    "        else:\n",
    "            print(\"Deposit amount must be positive.\")\n",
    "\n",
    "    def withdraw(self, amount):\n",
    "        if 0 < amount <= self.__balance:\n",
    "            self.__balance -= amount\n",
    "            print(f\"Withdrew: {amount}\")\n",
    "        else:\n",
    "            print(\"Insufficient balance or invalid amount.\")\n",
    "\n",
    "    def check_balance(self):\n",
    "        print(f\"Current balance is: {self.__balance}\")\n",
    "\n",
    "# Example usage\n",
    "person1 = BankAccount(5000)\n",
    "person1.deposit(2000)        # Deposited: 2000\n",
    "person1.withdraw(1000)       # Withdrew: 1000\n",
    "person1.check_balance()      # Current balance is: 6000\n",
    "\n",
    "\n"
   ]
  },
  {
   "cell_type": "code",
   "execution_count": 15,
   "id": "2efe2fe0",
   "metadata": {},
   "outputs": [
    {
     "data": {
      "text/plain": [
       "['__class__',\n",
       " '__delattr__',\n",
       " '__dict__',\n",
       " '__dir__',\n",
       " '__doc__',\n",
       " '__eq__',\n",
       " '__format__',\n",
       " '__ge__',\n",
       " '__getattribute__',\n",
       " '__getstate__',\n",
       " '__gt__',\n",
       " '__hash__',\n",
       " '__init__',\n",
       " '__init_subclass__',\n",
       " '__le__',\n",
       " '__lt__',\n",
       " '__module__',\n",
       " '__ne__',\n",
       " '__new__',\n",
       " '__reduce__',\n",
       " '__reduce_ex__',\n",
       " '__repr__',\n",
       " '__setattr__',\n",
       " '__sizeof__',\n",
       " '__str__',\n",
       " '__subclasshook__',\n",
       " '__weakref__',\n",
       " 'check_balance',\n",
       " 'deposit',\n",
       " 'withdraw']"
      ]
     },
     "execution_count": 15,
     "metadata": {},
     "output_type": "execute_result"
    }
   ],
   "source": [
    "dir(BankAccount)"
   ]
  },
  {
   "cell_type": "code",
   "execution_count": null,
   "id": "20398fbf",
   "metadata": {},
   "outputs": [],
   "source": []
  }
 ],
 "metadata": {
  "kernelspec": {
   "display_name": "venv",
   "language": "python",
   "name": "python3"
  },
  "language_info": {
   "codemirror_mode": {
    "name": "ipython",
    "version": 3
   },
   "file_extension": ".py",
   "mimetype": "text/x-python",
   "name": "python",
   "nbconvert_exporter": "python",
   "pygments_lexer": "ipython3",
   "version": "3.12.9"
  }
 },
 "nbformat": 4,
 "nbformat_minor": 5
}
