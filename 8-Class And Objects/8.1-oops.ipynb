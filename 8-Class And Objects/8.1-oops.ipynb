{
 "cells": [
  {
   "cell_type": "markdown",
   "id": "e2e6fb41",
   "metadata": {},
   "source": [
    "# 🧱 Classes and Objects in Python\n",
    "\n",
    "Object-Oriented Programming (OOP) is a powerful paradigm in Python that allows you to structure your code into reusable pieces known as classes and objects.\n",
    "\n",
    "---\n",
    "\n",
    "## 🎯 What is a Class?\n",
    "\n",
    "A class is a blueprint for creating objects (instances). It defines a set of attributes and methods that the created objects will have.\n",
    "\n",
    "🔹 Think of a class like a template (e.g., a blueprint for a house).\n",
    "\n",
    "```python\n",
    "class Dog:\n",
    "    def __init__(self, name, breed):\n",
    "        self.name = name\n",
    "        self.breed = breed\n",
    "\n",
    "    def bark(self):\n",
    "        print(f\"{self.name} says woof!\")\n",
    "````\n",
    "\n",
    "---\n",
    "\n",
    "## 🐾 What is an Object?\n",
    "\n",
    "An object is an instance of a class. It contains real data.\n",
    "\n",
    "```python\n",
    "my_dog = Dog(\"Buddy\", \"Golden Retriever\")\n",
    "my_dog.bark()  # Output: Buddy says woof!\n",
    "```\n",
    "\n",
    "---\n",
    "\n",
    "## ⚙️ Constructor: `__init__()`\n",
    "\n",
    "The `__init__` method is a special method automatically called when a new object is created. It's used to initialize attributes.\n",
    "\n",
    "---\n",
    "\n",
    "## 🎒 Attributes and Methods\n",
    "\n",
    "* Attributes: Variables that belong to the object (`self.name`)\n",
    "* Methods: Functions defined inside a class\n",
    "\n",
    "---\n",
    "\n",
    "## 🔄 Self Keyword\n",
    "\n",
    "The `self` keyword refers to the instance of the class. It allows access to attributes and methods.\n",
    "\n",
    "---\n",
    "\n",
    "## 🧬 Types of Methods\n",
    "\n",
    "* Instance Method (default, uses self)\n",
    "* Class Method (`@classmethod`, uses cls)\n",
    "* Static Method (`@staticmethod`, no default first parameter)\n",
    "\n",
    "---\n",
    "\n",
    "## 🧰 Encapsulation, Inheritance, Polymorphism (Advanced Concepts)\n",
    "\n",
    "* Encapsulation: Keeping data safe inside an object\n",
    "* Inheritance: Creating a new class from an existing class\n",
    "* Polymorphism: Functions behaving differently based on the object\n",
    "\n",
    "---\n",
    "\n",
    "## ✅ Benefits of Using Classes\n",
    "\n",
    "✔ Reusability\n",
    "✔ Scalability\n",
    "✔ Modularity\n",
    "✔ Better code organization\n",
    "\n",
    "---\n",
    "\n",
    "💡 Classes are the backbone of object-oriented design. Mastering them will unlock new levels of code design and reusability.\n",
    "\n",
    "```\n"
   ]
  },
  {
   "cell_type": "code",
   "execution_count": 1,
   "id": "8744b9b2",
   "metadata": {},
   "outputs": [
    {
     "name": "stdout",
     "output_type": "stream",
     "text": [
      "<class '__main__.Car'>\n"
     ]
    }
   ],
   "source": [
    "class Car:\n",
    "    pass\n",
    "audi =Car()\n",
    "bmw=Car()\n",
    "\n",
    "print(type(audi))"
   ]
  },
  {
   "cell_type": "code",
   "execution_count": 2,
   "id": "14d65b16",
   "metadata": {},
   "outputs": [
    {
     "name": "stdout",
     "output_type": "stream",
     "text": [
      "<__main__.Car object at 0x108f8b170>\n",
      "<__main__.Car object at 0x108fb9100>\n"
     ]
    }
   ],
   "source": [
    "print(audi)\n",
    "print(bmw)"
   ]
  },
  {
   "cell_type": "code",
   "execution_count": 3,
   "id": "a57e92ea",
   "metadata": {},
   "outputs": [
    {
     "name": "stdout",
     "output_type": "stream",
     "text": [
      "4\n"
     ]
    }
   ],
   "source": [
    "audi.windows=4\n",
    "print(audi.windows)"
   ]
  },
  {
   "cell_type": "code",
   "execution_count": 4,
   "id": "eada7fbb",
   "metadata": {},
   "outputs": [
    {
     "ename": "AttributeError",
     "evalue": "'Car' object has no attribute 'windows'",
     "output_type": "error",
     "traceback": [
      "\u001b[31m---------------------------------------------------------------------------\u001b[39m",
      "\u001b[31mAttributeError\u001b[39m                            Traceback (most recent call last)",
      "\u001b[36mCell\u001b[39m\u001b[36m \u001b[39m\u001b[32mIn[4]\u001b[39m\u001b[32m, line 3\u001b[39m\n\u001b[32m      1\u001b[39m tata=Car()\n\u001b[32m      2\u001b[39m tata.doors=\u001b[32m4\u001b[39m\n\u001b[32m----> \u001b[39m\u001b[32m3\u001b[39m \u001b[38;5;28mprint\u001b[39m(\u001b[43mtata\u001b[49m\u001b[43m.\u001b[49m\u001b[43mwindows\u001b[49m)\n",
      "\u001b[31mAttributeError\u001b[39m: 'Car' object has no attribute 'windows'"
     ]
    }
   ],
   "source": [
    "tata=Car()\n",
    "tata.doors=4\n",
    "print(tata.windows)"
   ]
  },
  {
   "cell_type": "code",
   "execution_count": 5,
   "id": "88c89a1c",
   "metadata": {},
   "outputs": [
    {
     "data": {
      "text/plain": [
       "['__class__',\n",
       " '__delattr__',\n",
       " '__dict__',\n",
       " '__dir__',\n",
       " '__doc__',\n",
       " '__eq__',\n",
       " '__format__',\n",
       " '__ge__',\n",
       " '__getattribute__',\n",
       " '__getstate__',\n",
       " '__gt__',\n",
       " '__hash__',\n",
       " '__init__',\n",
       " '__init_subclass__',\n",
       " '__le__',\n",
       " '__lt__',\n",
       " '__module__',\n",
       " '__ne__',\n",
       " '__new__',\n",
       " '__reduce__',\n",
       " '__reduce_ex__',\n",
       " '__repr__',\n",
       " '__setattr__',\n",
       " '__sizeof__',\n",
       " '__str__',\n",
       " '__subclasshook__',\n",
       " '__weakref__',\n",
       " 'doors']"
      ]
     },
     "execution_count": 5,
     "metadata": {},
     "output_type": "execute_result"
    }
   ],
   "source": [
    "dir(tata)"
   ]
  },
  {
   "cell_type": "code",
   "execution_count": 7,
   "id": "2a4a9ebf",
   "metadata": {},
   "outputs": [
    {
     "name": "stdout",
     "output_type": "stream",
     "text": [
      "<__main__.Dogs object at 0x108fb8050>\n",
      "Buddy\n",
      "3\n"
     ]
    }
   ],
   "source": [
    "# Instance Variable and methords\n",
    "class Dogs:\n",
    "    # Constructor\n",
    "    def __init__(self,name,age):\n",
    "        self.name = name\n",
    "        self.age=age\n",
    "\n",
    "#create objects\n",
    "dog1=Dogs(\"Buddy\",3)\n",
    "print(dog1)\n",
    "print(dog1.name)\n",
    "print(dog1.age)"
   ]
  },
  {
   "cell_type": "code",
   "execution_count": 8,
   "id": "c213ba58",
   "metadata": {},
   "outputs": [
    {
     "name": "stdout",
     "output_type": "stream",
     "text": [
      "<__main__.Dogs object at 0x108fbbe60>\n",
      "lucy\n",
      "4\n"
     ]
    }
   ],
   "source": [
    "dog2=Dogs(\"lucy\",4)\n",
    "print(dog2)\n",
    "print(dog2.name)\n",
    "print(dog2.age)"
   ]
  },
  {
   "cell_type": "code",
   "execution_count": 11,
   "id": "26a6673e",
   "metadata": {},
   "outputs": [
    {
     "name": "stdout",
     "output_type": "stream",
     "text": [
      "Buddy says woof\n",
      "Lucy says woof\n"
     ]
    }
   ],
   "source": [
    "class Dogs:\n",
    "    def __init__(self,name,age):\n",
    "        self.name=name\n",
    "        self.age=age\n",
    "    def bark(self):\n",
    "        print(f\"{self.name} says woof\")\n",
    "\n",
    "dog1=Dogs(\"Buddy\",3)\n",
    "dog1.bark()\n",
    "dog2=Dogs(\"Lucy\",4)\n",
    "dog2.bark()"
   ]
  },
  {
   "cell_type": "code",
   "execution_count": 17,
   "id": "a9ec93f9",
   "metadata": {},
   "outputs": [
    {
     "name": "stdout",
     "output_type": "stream",
     "text": [
      "10000\n"
     ]
    }
   ],
   "source": [
    "# Modeling a Bank account\n",
    "# Define a class for bank account\n",
    "class BankAccount:\n",
    "    def __init__(self,owner,balance=0):\n",
    "        self.owner=owner\n",
    "        self.balance=balance\n",
    "    def deposit(self,amount):\n",
    "        self.balance+=amount\n",
    "        print(f\"{amount} is deposited.New balance is {self.balance}\")\n",
    "    def withdraw(self,amount):\n",
    "        if amount>self.balance:\n",
    "            print(\"Insufficient funds!\")\n",
    "        else:\n",
    "            self.balance-=amount\n",
    "            print(f\"{amount} is withdram. New Balance is  {self.balance}\")\n",
    "    def get_balance(self):\n",
    "        return self.balance\n",
    "    \n",
    "    #create an object\n",
    "\n",
    "account = BankAccount(\"Anmol\",10000)\n",
    "print(account.balance)"
   ]
  },
  {
   "cell_type": "code",
   "execution_count": 18,
   "id": "b572af04",
   "metadata": {},
   "outputs": [
    {
     "name": "stdout",
     "output_type": "stream",
     "text": [
      "500 is deposited.New balance is 10500\n"
     ]
    }
   ],
   "source": [
    "# Call isntance methods\n",
    "account.deposit(500)"
   ]
  },
  {
   "cell_type": "code",
   "execution_count": 19,
   "id": "fc7f4d81",
   "metadata": {},
   "outputs": [
    {
     "name": "stdout",
     "output_type": "stream",
     "text": [
      "1000 is withdram. New Balance is  9500\n"
     ]
    }
   ],
   "source": [
    "account.withdraw(1000)"
   ]
  },
  {
   "cell_type": "code",
   "execution_count": 20,
   "id": "c3b49e93",
   "metadata": {},
   "outputs": [
    {
     "name": "stdout",
     "output_type": "stream",
     "text": [
      "9500\n"
     ]
    }
   ],
   "source": [
    "print(account.get_balance())"
   ]
  },
  {
   "cell_type": "markdown",
   "id": "d037fab2",
   "metadata": {},
   "source": [
    "# 📝 Practice Questions: Classes and Objects in Python\n",
    "\n",
    "---\n",
    "\n",
    "## 🔰 Beginner Level\n",
    "\n",
    "1. ✅ Create a class called `Person` with attributes `name` and `age`. Add a method to display these details.\n",
    "2. ✅ Write a class `Circle` that takes radius as an argument and calculates area and circumference.\n",
    "3. ✅ Define a class `Student` with attributes for name, roll number, and grade. Create and display multiple student objects.\n",
    "4. ✅ Create a class `Car` with methods to start and stop the engine.\n",
    "5. ✅ Define a class `Book` with attributes: title, author, and price. Add a method to apply a discount on price.\n",
    "\n",
    "---\n",
    "\n",
    "## ⚙️ Intermediate Level\n",
    "\n",
    "6. 🔁 Create a class `BankAccount` with deposit, withdraw, and display balance methods.\n",
    "7. 🔁 Define a class `Rectangle` with methods to calculate area and perimeter. Add a method to check if it's a square.\n",
    "8. 🔁 Create a class `Employee` that tracks the number of employees created (use class variables).\n",
    "9. 🔁 Write a class `ShoppingCart` with methods to add, remove, and list items.\n",
    "10. 🔁 Create a `Library` class with methods to lend and return books.\n",
    "\n",
    "---\n",
    "\n",
    "## 🧠 Advanced Level\n",
    "\n",
    "11. 🔄 Create a base class `Animal` and derive `Dog` and `Cat` classes from it with unique methods.\n",
    "12. 🔄 Implement polymorphism by creating a `Shape` class with an area method, then override it in `Square`, `Rectangle`, and `Circle`.\n",
    "13. 🔄 Write a class `Laptop` that inherits from a class `ElectronicDevice` and adds extra specifications.\n",
    "14. 🔒 Create a class with private variables and use getter/setter methods to access them.\n",
    "15. 🧪 Create a static method in a class `MathTools` that returns whether a number is prime or not.\n",
    "\n",
    "---\n",
    "\n",
    "💡 Hints:\n",
    "\n",
    "- Use `__init__()` for constructors.\n",
    "- Remember to use `self` to access instance variables.\n",
    "- Use `@classmethod` and `@staticmethod` as needed.\n",
    "- Use inheritance with `class DerivedClass(BaseClass):`.\n",
    "\n",
    "Happy Coding! 🚀\n",
    "```\n"
   ]
  },
  {
   "cell_type": "code",
   "execution_count": null,
   "id": "5452d4f7",
   "metadata": {},
   "outputs": [],
   "source": []
  }
 ],
 "metadata": {
  "kernelspec": {
   "display_name": "venv",
   "language": "python",
   "name": "python3"
  },
  "language_info": {
   "codemirror_mode": {
    "name": "ipython",
    "version": 3
   },
   "file_extension": ".py",
   "mimetype": "text/x-python",
   "name": "python",
   "nbconvert_exporter": "python",
   "pygments_lexer": "ipython3",
   "version": "3.12.9"
  }
 },
 "nbformat": 4,
 "nbformat_minor": 5
}
