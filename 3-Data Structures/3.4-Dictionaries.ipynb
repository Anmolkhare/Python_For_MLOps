{
 "cells": [
  {
   "cell_type": "markdown",
   "id": "6228bf7b",
   "metadata": {},
   "source": [
    "# 📘 Python Dictionaries - Introduction and Types\n",
    "\n",
    "## 🧾 What is a Dictionary?\n",
    "\n",
    "A dictionary in Python is an unordered, mutable, and indexed collection of key-value pairs. Dictionaries are written using curly braces `{}` and consist of key-value pairs separated by colons `:`.\n",
    "\n",
    "📌 Example:\n",
    "```python\n",
    "person = {\n",
    "    \"name\": \"Anmol\",\n",
    "    \"age\": 30,\n",
    "    \"is_student\": False\n",
    "}\n",
    "````\n",
    "\n",
    "* 🔑 Keys must be unique and immutable (e.g., strings, numbers, tuples).\n",
    "* 📦 Values can be of any data type and can repeat.\n",
    "\n",
    "---\n",
    "\n",
    "## 🧱 Key Features\n",
    "\n",
    "* Mutable (can be changed)\n",
    "* Dynamic in size\n",
    "* Keys must be unique\n",
    "* Allows nesting (dictionaries within dictionaries)\n",
    "\n",
    "---\n",
    "\n",
    "## 🔍 Dictionary Types & Subtypes\n",
    "\n",
    "### 1. ✅ Standard Dictionary (dict)\n",
    "\n",
    "The most commonly used dictionary with key-value pairs.\n",
    "\n",
    "```python\n",
    "data = {\"name\": \"Alice\", \"age\": 25}\n",
    "```\n",
    "\n",
    "---\n",
    "\n",
    "### 2. 📚 Nested Dictionary\n",
    "\n",
    "A dictionary within another dictionary.\n",
    "\n",
    "```python\n",
    "students = {\n",
    "    \"101\": {\"name\": \"John\", \"grade\": \"A\"},\n",
    "    \"102\": {\"name\": \"Alice\", \"grade\": \"B\"}\n",
    "}\n",
    "```\n",
    "\n",
    "---\n",
    "\n",
    "### 3. 🔄 Dictionary with Mixed Key Types\n",
    "\n",
    "```python\n",
    "info = {\n",
    "    \"name\": \"Anmol\",\n",
    "    1: \"Engineer\",\n",
    "    (2023, 12): \"December Entry\"\n",
    "}\n",
    "```\n",
    "\n",
    "---\n",
    "\n",
    "### 4. 🧊 Empty Dictionary\n",
    "\n",
    "```python\n",
    "empty_dict = {}\n",
    "```\n",
    "\n",
    "---\n",
    "\n",
    "### 5. 🧰 Dictionary using `dict()` Constructor\n",
    "\n",
    "```python\n",
    "employee = dict(id=1001, name=\"Ravi\", department=\"IT\")\n",
    "```\n",
    "\n",
    "---\n",
    "\n",
    "### 6. 🛠️ Dictionary from Lists or Tuples\n",
    "\n",
    "```python\n",
    "pairs = [(\"a\", 1), (\"b\", 2)]\n",
    "dict_from_list = dict(pairs)\n",
    "```\n",
    "\n",
    "---\n",
    "\n",
    "## 🚫 What Dictionary Cannot Have?\n",
    "\n",
    "* ❌ Unhashable or mutable keys like lists, other dicts, or sets.\n",
    "* ❌ Duplicate keys — last assignment wins.\n",
    "\n",
    "---\n",
    "\n",
    "🔄 Stay tuned for syntax, operations, and hands-on examples in the next cell!\n",
    "\n",
    "```"
   ]
  },
  {
   "cell_type": "markdown",
   "id": "c146a964",
   "metadata": {},
   "source": []
  },
  {
   "cell_type": "code",
   "execution_count": 3,
   "id": "1025a798",
   "metadata": {},
   "outputs": [
    {
     "name": "stdout",
     "output_type": "stream",
     "text": [
      "{'name': 'Anmol', 'age': 21}\n",
      "Anmol\n",
      "20\n",
      "A\n",
      "A\n",
      "None\n",
      "Not Available\n"
     ]
    }
   ],
   "source": [
    "# single key-value pair\n",
    "students = {\"name\":\"Anmol\", \"age\": 21}\n",
    "print(students)\n",
    "\n",
    "\n",
    "student = {\"name\":\"Anmol\", \"age\": 20, \"grade\": \"A\"}\n",
    "\n",
    "# accessing Dictionary Elements\n",
    "print(student[\"name\"])  # Output: Anmol\n",
    "print(student[\"age\"])   # Output: 20\n",
    "print(student[\"grade\"]) # Output: A\n",
    "\n",
    "# Accessing using get() method\n",
    "print(student.get(\"grade\"))\n",
    "print(student.get(\"last_name\"))\n",
    "print(student.get(\"last_name\" , \"Not Available\")) # Output: Not Available\n",
    "\n"
   ]
  },
  {
   "cell_type": "code",
   "execution_count": 4,
   "id": "5f72b748",
   "metadata": {},
   "outputs": [
    {
     "name": "stdout",
     "output_type": "stream",
     "text": [
      "{'name': 'Anmol', 'age': 20, 'grade': 'A'}\n"
     ]
    }
   ],
   "source": [
    "# Mofifying Dictionary Elements\n",
    "# Dictionary are mutable, so you can change the value of a key\n",
    "print(student)"
   ]
  },
  {
   "cell_type": "code",
   "execution_count": null,
   "id": "4b8d39af",
   "metadata": {},
   "outputs": [
    {
     "name": "stdout",
     "output_type": "stream",
     "text": [
      "{'name': 'Anmol', 'age': 33, 'grade': 'A'}\n",
      "{'name': 'Anmol', 'age': 33, 'grade': 'A', 'address': 'India'}\n"
     ]
    }
   ],
   "source": [
    "student[\"age\"] = 33 #update value for the key\n",
    "print(student) # Output: {'name': 'Anmol', 'age': 33, 'grade': 'A'}\n",
    "student[\"address\"] = \"India\"\n",
    "print(student) # Output: {'name': 'Anmol', 'age': 33, 'grade': 'A', 'address': 'India'}"
   ]
  },
  {
   "cell_type": "code",
   "execution_count": 6,
   "id": "d8bb51c7",
   "metadata": {},
   "outputs": [
    {
     "name": "stdout",
     "output_type": "stream",
     "text": [
      "{'name': 'Anmol', 'age': 33, 'address': 'India'}\n"
     ]
    }
   ],
   "source": [
    "del student[\"grade\"] # delete key-value pair\n",
    "print(student) # Output: {'name': 'Anmol', 'age': 33, 'address': 'India'}"
   ]
  },
  {
   "cell_type": "code",
   "execution_count": 8,
   "id": "1b1a5ecc",
   "metadata": {},
   "outputs": [
    {
     "name": "stdout",
     "output_type": "stream",
     "text": [
      "dict_keys(['name', 'age', 'address'])\n",
      "dict_values(['Anmol', 33, 'India'])\n",
      "dict_items([('name', 'Anmol'), ('age', 33), ('address', 'India')])\n",
      "Anmol\n",
      "{'age': 33, 'address': 'India'}\n"
     ]
    }
   ],
   "source": [
    "# Dictionary Methods\n",
    "\n",
    "# 1. keys() - returns a list of all the keys in the dictionary\n",
    "print(student.keys()) # Output: dict_keys(['name', 'age', 'address'])\n",
    "\n",
    "# 2. values() - returns a list of all the values in the dictionary\n",
    "print(student.values()) # Output: dict_values(['Anmol', 33, 'India'])\n",
    "\n",
    "# 3. items() - returns a list of tuples, each tuple containing a key-value pair\n",
    "print(student.items()) # Output: dict_items([('name', 'Anmol'), ('age', 33), ('address', 'India')])\n",
    "\n",
    "# 4. pop() - removes the specified key and returns its value\n",
    "print(student.pop(\"name\")) # Output: Anmol\n",
    "print(student) # Output: {'age': 33, 'address': 'India'}\n"
   ]
  },
  {
   "cell_type": "markdown",
   "id": "79857b62",
   "metadata": {},
   "source": [
    "# Shallow Copy"
   ]
  },
  {
   "cell_type": "code",
   "execution_count": 9,
   "id": "6e70dafc",
   "metadata": {},
   "outputs": [
    {
     "name": "stdout",
     "output_type": "stream",
     "text": [
      "{'age': 33, 'address': 'India'}\n",
      "{'age': 33, 'address': 'India'}\n"
     ]
    }
   ],
   "source": [
    "student_copy = student\n",
    "print(student)\n",
    "print(student_copy)"
   ]
  },
  {
   "cell_type": "code",
   "execution_count": 10,
   "id": "d3fae666",
   "metadata": {},
   "outputs": [
    {
     "name": "stdout",
     "output_type": "stream",
     "text": [
      "{'age': 33, 'address': 'India', 'name': 'Anmol'}\n",
      "{'age': 33, 'address': 'India', 'name': 'Anmol'}\n"
     ]
    }
   ],
   "source": [
    "student['name'] = \"Anmol\"\n",
    "print(student)\n",
    "print(student_copy) # Output: {'age': 33, 'address': 'India', 'name': 'Anmol'}\n"
   ]
  },
  {
   "cell_type": "code",
   "execution_count": 12,
   "id": "35b48300",
   "metadata": {},
   "outputs": [
    {
     "name": "stdout",
     "output_type": "stream",
     "text": [
      "{'age': 33, 'address': 'India', 'name': 'Anmol'}\n",
      "{'age': 33, 'address': 'India', 'name': 'Anmol'}\n",
      "{'age': 33, 'address': 'India', 'name': 'Anmol Khare'}\n",
      "{'age': 33, 'address': 'India', 'name': 'Anmol'}\n"
     ]
    }
   ],
   "source": [
    "student_copy1 = student.copy() # shallow copy\n",
    "print(student_copy1) # Output: {'age': 33, 'address': 'India', 'name': 'Anmol'}\n",
    "print(student)\n",
    "\n",
    "student_copy1['name'] = \"Anmol Khare\"\n",
    "print(student_copy1) # Output: {'age': 33, 'address': 'India', 'name': 'Anmol Kumar'}\n",
    "print(student) # Output: {'age': 33, 'address': 'India', 'name': 'Anmol'}"
   ]
  },
  {
   "cell_type": "code",
   "execution_count": 15,
   "id": "2a7d6334",
   "metadata": {},
   "outputs": [
    {
     "name": "stdout",
     "output_type": "stream",
     "text": [
      "age 33\n",
      "address India\n",
      "name Anmol\n",
      "***************\n",
      "age 33\n",
      "address India\n",
      "name Anmol\n",
      "***************\n",
      "33\n",
      "India\n",
      "Anmol\n",
      "***************\n",
      "age 33\n",
      "address India\n",
      "name Anmol\n"
     ]
    }
   ],
   "source": [
    "# Itrate over dictionary\n",
    "for key in student:\n",
    "    print(key, student[key]) # Output: age 33 address India name Anmol\n",
    "print(\"***************\")\n",
    "# Itrate over keys \n",
    "for key in student.keys():\n",
    "    print(key, student[key]) # Output: age 33 address India name Anmol\n",
    "print(\"***************\")\n",
    "# Itrate over values\n",
    "for value in student.values():\n",
    "    print(value) # Output: 33 India Anmol\n",
    "print(\"***************\")\n",
    "# Itrate over items\n",
    "for key, value in student.items():\n",
    "    print(key, value) # Output: age 33 address India name Anmol"
   ]
  },
  {
   "cell_type": "code",
   "execution_count": 16,
   "id": "7c7ece71",
   "metadata": {},
   "outputs": [
    {
     "name": "stdout",
     "output_type": "stream",
     "text": [
      "{'name': 'Anmol', 'age': 33, 'address': 'India', 'courses': {'course1': {'name': 'Machine Learning', 'duration': '3 months'}, 'course2': {'name': 'Deep Learning', 'duration': '4 months'}}}\n"
     ]
    }
   ],
   "source": [
    "# Nested Dictionary\n",
    "student = {\n",
    "    'name': 'Anmol',\n",
    "    'age': 33,\n",
    "    'address': 'India',\n",
    "    'courses': {\n",
    "        'course1': {\n",
    "            'name': 'Machine Learning',\n",
    "            'duration': '3 months'\n",
    "        },\n",
    "        'course2': {\n",
    "            'name': 'Deep Learning',\n",
    "            'duration': '4 months'\n",
    "        }\n",
    "    }\n",
    "}\n",
    "print(student)"
   ]
  },
  {
   "cell_type": "code",
   "execution_count": 17,
   "id": "129c70b5",
   "metadata": {},
   "outputs": [
    {
     "name": "stdout",
     "output_type": "stream",
     "text": [
      "Machine Learning\n",
      "4 months\n",
      "3 months\n"
     ]
    }
   ],
   "source": [
    "# access nested dictionary\n",
    "print(student['courses']['course1']['name']) # Output: Machine Learning\n",
    "print(student['courses']['course2']['duration']) # Output: 4 months\n",
    "print(student['courses']['course1']['duration']) # Output: 3 months"
   ]
  },
  {
   "cell_type": "code",
   "execution_count": 23,
   "id": "c93187e6",
   "metadata": {},
   "outputs": [
    {
     "name": "stdout",
     "output_type": "stream",
     "text": [
      "course1: {'name': 'Machine Learning', 'duration': '3 months'}\n",
      "name: Machine Learning\n",
      "duration: 3 months\n",
      "course2: {'name': 'Deep Learning', 'duration': '4 months'}\n",
      "name: Deep Learning\n",
      "duration: 4 months\n"
     ]
    }
   ],
   "source": [
    "# Iterate over nested dictionary (courses)\n",
    "for course_id, course_info in student['courses'].items():\n",
    "    print(f\"{course_id}: {course_info}\")\n",
    "    for key, value in course_info.items():\n",
    "        print(f\"{key}: {value}\")"
   ]
  },
  {
   "cell_type": "code",
   "execution_count": 24,
   "id": "b5cd27a9",
   "metadata": {},
   "outputs": [
    {
     "name": "stdout",
     "output_type": "stream",
     "text": [
      "{1: 1, 2: 4, 3: 9, 4: 16, 5: 25}\n"
     ]
    }
   ],
   "source": [
    "# Dictionary comprehension\n",
    "squares = {x: x**2 for x in range(1, 6)}\n",
    "print(squares) # Output: {1: 1, 2: 4, 3: 9, 4: 16, 5: 25}"
   ]
  },
  {
   "cell_type": "code",
   "execution_count": 25,
   "id": "82aba23a",
   "metadata": {},
   "outputs": [
    {
     "name": "stdout",
     "output_type": "stream",
     "text": [
      "{2: 4, 4: 16, 6: 36, 8: 64, 10: 100}\n"
     ]
    }
   ],
   "source": [
    "# Conditional Dictionary Comprehension\n",
    "even_squares = {x: x**2 for x in range(1, 11) if x % 2 == 0}\n",
    "print(even_squares) # Output: {2: 4, 4: 16, 6: 36, 8: 64, 10: 100}"
   ]
  },
  {
   "cell_type": "code",
   "execution_count": 34,
   "id": "35c6a78c",
   "metadata": {},
   "outputs": [
    {
     "name": "stdout",
     "output_type": "stream",
     "text": [
      "{1: 3, 2: 3, 3: 1, 4: 4, 5: 1}\n"
     ]
    }
   ],
   "source": [
    "# count numbers present in list\n",
    "numbers = [1,1,1,2,2, 2, 3, 4,4,4, 4, 5]\n",
    "result = {}\n",
    "for i in numbers:\n",
    "    if i in result:\n",
    "        result[i] +=1\n",
    "    else:\n",
    "        result[i] =1\n",
    "\n",
    "print(result)"
   ]
  },
  {
   "cell_type": "code",
   "execution_count": 35,
   "id": "93d82449",
   "metadata": {},
   "outputs": [
    {
     "name": "stdout",
     "output_type": "stream",
     "text": [
      "{'a': 1, 'b': 3, 'c': 4}\n"
     ]
    }
   ],
   "source": [
    "# Merge 2 dict\n",
    "\n",
    "dict1 = {'a': 1, 'b': 2}\n",
    "dict2 = {'b': 3, 'c': 4}\n",
    "dict3 = {**dict1, **dict2}\n",
    "print(dict3) # Output: {'a': 1, 'b': 3, 'c': 4}"
   ]
  },
  {
   "cell_type": "markdown",
   "id": "db23b423",
   "metadata": {},
   "source": [
    "# 🧪 Python Dictionary Practice Questions\n",
    "\n",
    "Here are some hands-on exercises to master Python dictionaries. Try solving each one. Hints are provided to guide you!\n",
    "\n",
    "---\n",
    "\n",
    "### 1. Create a dictionary of 5 students and their marks out of 100.\n",
    "- Hint: Use names as keys and marks as values.\n",
    "\n",
    "---\n",
    "\n",
    "### 2. Retrieve the marks of a specific student from the dictionary.\n",
    "- Hint: Use the `[]` or `.get()` method.\n",
    "\n",
    "---\n",
    "\n",
    "### 3. Add a new student and their marks to the dictionary.\n",
    "- Hint: Use `dict[key] = value`.\n",
    "\n",
    "---\n",
    "\n",
    "### 4. Update the marks of an existing student.\n",
    "- Hint: Just reassign a new value to an existing key.\n",
    "\n",
    "---\n",
    "\n",
    "### 5. Delete a student from the dictionary.\n",
    "- Hint: Use `del dict[key]` or `dict.pop(key)`.\n",
    "\n",
    "---\n",
    "\n",
    "### 6. Write a program to print all keys and values in a dictionary.\n",
    "- Hint: Use `.keys()` and `.values()` methods.\n",
    "\n",
    "---\n",
    "\n",
    "### 7. Check if a particular student is in the dictionary.\n",
    "- Hint: Use the `in` keyword.\n",
    "\n",
    "---\n",
    "\n",
    "### 8. Merge two dictionaries into one.\n",
    "- Hint: Use the `update()` method or `{**dict1, **dict2}`.\n",
    "\n",
    "---\n",
    "\n",
    "### 9. Create a dictionary from two lists: one of keys and one of values.\n",
    "- Hint: Use `zip()` and `dict()`.\n",
    "\n",
    "---\n",
    "\n",
    "### 10. Count the frequency of characters in a given string using a dictionary.\n",
    "- Hint: Loop through the string and use a dict to store frequency.\n",
    "\n",
    "---\n",
    "\n",
    "### 11. Sort a dictionary by values.\n",
    "- Hint: Use `sorted(dict.items(), key=lambda x: x[1])`.\n",
    "\n",
    "---\n",
    "\n",
    "### 12. Create a nested dictionary for employees with keys like ID and nested values like name and department.\n",
    "- Hint:\n",
    "```python\n",
    "{\n",
    "  101: {\"name\": \"Anmol\", \"dept\": \"Data\"},\n",
    "  102: {\"name\": \"Amit\", \"dept\": \"ML\"}\n",
    "}\n"
   ]
  },
  {
   "cell_type": "markdown",
   "id": "6b9b71db",
   "metadata": {},
   "source": []
  }
 ],
 "metadata": {
  "kernelspec": {
   "display_name": "Python 3",
   "language": "python",
   "name": "python3"
  },
  "language_info": {
   "codemirror_mode": {
    "name": "ipython",
    "version": 3
   },
   "file_extension": ".py",
   "mimetype": "text/x-python",
   "name": "python",
   "nbconvert_exporter": "python",
   "pygments_lexer": "ipython3",
   "version": "3.12.0"
  }
 },
 "nbformat": 4,
 "nbformat_minor": 5
}
