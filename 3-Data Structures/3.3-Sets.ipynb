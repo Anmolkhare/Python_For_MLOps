{
 "cells": [
  {
   "cell_type": "markdown",
   "id": "ba29cdf1",
   "metadata": {},
   "source": [
    "# 🔷 Sets in Python\n",
    "\n",
    "Sets are a built-in data type in Python used to store multiple items in a single variable. Unlike lists or tuples, sets are:\n",
    "\n",
    "✅ Unordered  \n",
    "✅ Unindexed  \n",
    "✅ Do not allow duplicate values  \n",
    "\n",
    "Sets are useful for operations like membership tests, removing duplicates from a sequence, and performing mathematical set operations like union, intersection, etc.\n",
    "\n",
    "---\n",
    "\n",
    "## 📌 Key Features:\n",
    "\n",
    "- Defined using curly braces `{}` or the built-in set() function.\n",
    "- Cannot contain mutable items (like lists or dictionaries).\n",
    "- Commonly used for eliminating duplicates and performing set algebra.\n",
    "\n",
    "---\n",
    "\n",
    "## 📘 Example:"
   ]
  },
  {
   "cell_type": "code",
   "execution_count": null,
   "id": "88c893e8",
   "metadata": {},
   "outputs": [
    {
     "name": "stdout",
     "output_type": "stream",
     "text": [
      "True\n",
      "{1, 2, 3, 4, 5}\n",
      "{3}\n",
      "{1, 2}\n"
     ]
    }
   ],
   "source": [
    "# Create a set\n",
    "my_set = {1, 2, 3, 4, 5}\n",
    "\n",
    "# Add an item\n",
    "my_set.add(6)\n",
    "\n",
    "# Remove an item\n",
    "my_set.remove(2)\n",
    "\n",
    "# Check membership\n",
    "print(3 in my_set)\n",
    "\n",
    "# Set operations\n",
    "a = {1, 2, 3}\n",
    "b = {3, 4, 5}\n",
    "print(a.union(b))       # {1, 2, 3, 4, 5}\n",
    "print(a.intersection(b))# {3}\n",
    "print(a.difference(b))  # {1, 2}\n"
   ]
  },
  {
   "cell_type": "code",
   "execution_count": 3,
   "id": "39798f16",
   "metadata": {},
   "outputs": [
    {
     "name": "stdout",
     "output_type": "stream",
     "text": [
      "True\n",
      "False\n"
     ]
    }
   ],
   "source": [
    "## set memebership test\n",
    "my_set = {1,2,3,4,5}\n",
    "\n",
    "print(3 in my_set)\n",
    "print(6 in my_set)"
   ]
  },
  {
   "cell_type": "code",
   "execution_count": null,
   "id": "f7253a63",
   "metadata": {},
   "outputs": [
    {
     "name": "stdout",
     "output_type": "stream",
     "text": [
      "Union of set1 and set2: {1, 2, 3, 4, 5, 6, 7, 8, 9}\n",
      "Intersection of set1 and set2: {4, 5, 6}\n",
      "Difference of set1 and set2: {1, 2, 3}\n",
      "Symmetric Difference of set1 and set2: {1, 2, 3, 7, 8, 9}\n"
     ]
    }
   ],
   "source": [
    "set1= {1,2,3,4,5,6}\n",
    "set2= {4,5,6,7,8,9}\n",
    "\n",
    "### Union\n",
    "union_set = set1.union(set2)\n",
    "print(\"Union of set1 and set2:\", union_set)\n",
    "\n",
    "#### Intersection\n",
    "intersection_set = set1.intersection(set2)\n",
    "print(\"Intersection of set1 and set2:\", intersection_set)\n",
    "\n",
    "### Difference\n",
    "difference_set = set1.difference(set2)\n",
    "print(\"Difference of set1 and set2:\", difference_set)\n",
    "\n",
    "### Symmetric Difference\n",
    "symmetric_difference_set = set1.symmetric_difference(set2)\n",
    "print(\"Symmetric Difference of set1 and set2:\", symmetric_difference_set)"
   ]
  },
  {
   "cell_type": "code",
   "execution_count": 8,
   "id": "42bc5113",
   "metadata": {},
   "outputs": [
    {
     "name": "stdout",
     "output_type": "stream",
     "text": [
      "False\n",
      "False\n"
     ]
    }
   ],
   "source": [
    "# set methods\n",
    "set1 = {1, 2, 3}\n",
    "set2 = {3, 4, 5}\n",
    "\n",
    "## is subset\n",
    "print(set1.issubset(set2))  # False\n",
    "\n",
    "print(set1.issuperset(set2))"
   ]
  },
  {
   "cell_type": "code",
   "execution_count": 9,
   "id": "47c2647c",
   "metadata": {},
   "outputs": [
    {
     "name": "stdout",
     "output_type": "stream",
     "text": [
      "{1, 2, 3, 4, 5, 6, 45}\n"
     ]
    }
   ],
   "source": [
    "lst = [1,2,3,4,5,6,2,45,2,1,4,1]\n",
    "set1 = set(lst)\n",
    "print(set1)  # {1, 2, 3, 4, 5, 6, 45}"
   ]
  },
  {
   "cell_type": "code",
   "execution_count": 10,
   "id": "e67876eb",
   "metadata": {},
   "outputs": [
    {
     "name": "stdout",
     "output_type": "stream",
     "text": [
      "{'heavens', 'the', 'and', 'God', 'earth', 'In', 'beginning', 'created'}\n",
      "8\n"
     ]
    }
   ],
   "source": [
    "# Unique words in text\n",
    "text = \"In the beginning God created the heavens and the earth\"\n",
    "\n",
    "words = text.split()\n",
    "unique_words = set(words)\n",
    "print(unique_words)\n",
    "print(len(unique_words))"
   ]
  },
  {
   "cell_type": "markdown",
   "id": "574691ed",
   "metadata": {},
   "source": [
    "# 📝 Practice Questions on Python Sets\n",
    "\n",
    "Sharpen your Python set skills with the following exercises! 🚀\n",
    "\n",
    "---\n",
    "\n",
    "## 🔹 Basic Set Operations\n",
    "\n",
    "1. Create a set of your favorite fruits and print it.\n",
    "2. Add an element to a set.\n",
    "3. Remove an element from a set using `remove()`.\n",
    "4. Try to remove an element that doesn't exist using `discard()` and observe the difference.\n",
    "5. Convert a list with duplicate values into a set and print the result.\n",
    "6. Check if a value exists in a set.\n",
    "7. Loop through the elements of a set and print them.\n",
    "\n",
    "---\n",
    "\n",
    "## 🔹 Set Methods\n",
    "\n",
    "8. Use `clear()` to empty a set.\n",
    "9. Use `copy()` to duplicate a set.\n",
    "10. Use `pop()` to remove a random element from a set.\n",
    "\n",
    "---\n",
    "\n",
    "## 🔹 Set Operations\n",
    "\n",
    "11. Create two sets and find their union.\n",
    "12. Find the intersection of two sets.\n",
    "13. Find the difference between two sets.\n",
    "14. Use the `symmetric_difference()` method on two sets.\n",
    "15. Check if one set is a subset of another.\n",
    "16. Check if two sets are disjoint.\n",
    "17. Update a set with another set using `update()`.\n",
    "\n",
    "---\n",
    "\n",
    "## 🔹 Real-world Style Challenges\n",
    "\n",
    "18. Remove duplicate email addresses from a list using a set.\n",
    "19. Find common elements between two user input lists using sets.\n",
    "20. Write a function that returns the unique characters in a string using a set.\n",
    "21. Given a sentence, return all unique words using sets.\n",
    "\n",
    "---\n",
    "\n",
    "## 🔹 Advanced Practice (with Hints)\n",
    "\n",
    "22. Write a program to count the number of unique elements in a list.  \n",
    "   💡 Hint: Use set() to eliminate duplicates.\n",
    "\n",
    "23. Create two sets: passed_students and failed_students. Find out students who only passed.  \n",
    "   💡 Hint: Use set difference.\n",
    "\n",
    "24. Write a program to merge two sets and remove all odd numbers.  \n",
    "   💡 Hint: Use union + a comprehension or loop to filter.\n",
    "\n",
    "25. From a list of numbers, print only those that are not present in another list.  \n",
    "   💡 Hint: Use set difference.\n",
    "\n",
    "26. Determine whether all characters in one string are present in another string.  \n",
    "   💡 Hint: Convert both to sets and use `issubset`.\n",
    "\n",
    "---\n",
    "\n",
    "💡 Feel free to implement each problem in a new cell and test your logic. Practice makes perfect! 🚀\n",
    "```\n",
    "\n",
    "\n"
   ]
  },
  {
   "cell_type": "markdown",
   "id": "1eb421a5",
   "metadata": {},
   "source": []
  }
 ],
 "metadata": {
  "kernelspec": {
   "display_name": "Python 3",
   "language": "python",
   "name": "python3"
  },
  "language_info": {
   "codemirror_mode": {
    "name": "ipython",
    "version": 3
   },
   "file_extension": ".py",
   "mimetype": "text/x-python",
   "name": "python",
   "nbconvert_exporter": "python",
   "pygments_lexer": "ipython3",
   "version": "3.12.0"
  }
 },
 "nbformat": 4,
 "nbformat_minor": 5
}
