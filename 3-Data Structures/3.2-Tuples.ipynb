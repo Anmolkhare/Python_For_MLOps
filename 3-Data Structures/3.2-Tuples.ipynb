{
 "cells": [
  {
   "cell_type": "markdown",
   "id": "405d6dfa",
   "metadata": {},
   "source": [
    "# 📦 Tuples in Python – An Immutable Collection\n",
    "\n",
    "In Python, a **tuple** is a built-in data type used to store multiple items in a single variable. Think of it as a list, but with a key difference: 🛑 Tuples are **immutable**, which means once they're created, you cannot change, add, or remove their elements. This property makes them more memory-efficient and faster than lists for read-only data.\n",
    "\n",
    "---\n",
    "\n",
    "## 🔍 Why Use Tuples?\n",
    "\n",
    "✅ Faster than lists due to immutability  \n",
    "✅ Useful for storing data that should not change  \n",
    "✅ Can be used as dictionary keys (unlike lists)  \n",
    "✅ Protect data integrity in functions\n",
    "\n",
    "---\n",
    "\n",
    "## 🧠 Key Characteristics of Tuples:\n",
    "\n",
    "| Feature            | Description                                    |\n",
    "|--------------------|------------------------------------------------|\n",
    "| Ordered            | Tuples maintain the order of elements          |\n",
    "| Immutable          | Cannot modify after creation                   |\n",
    "| Allow Duplicates   | Yes – values can repeat                        |\n",
    "| Iterable           | Can loop through elements using a `for` loop   |\n",
    "| Heterogeneous      | Can store mixed data types                     |\n",
    "| Hashable           | Can be used as keys in dictionaries            |\n",
    "\n",
    "---\n",
    "\n",
    "## 🧪 Tuple Syntax:\n",
    "\n",
    "```python\n",
    "# Creating a tuple\n",
    "my_tuple = (1, 2, 3)\n",
    "\n",
    "# Tuple with different data types\n",
    "person = (\"Anmol\", 28, True)\n",
    "\n",
    "# Tuple without parentheses (still valid but less clear)\n",
    "colors = \"red\", \"green\", \"blue\"\n",
    "\n",
    "# Single-element tuple (very important to include a comma)\n",
    "single = (\"hello\",)  # NOT (\"hello\")\n",
    "````\n",
    "\n",
    "---\n",
    "\n",
    "## 🔄 Tuple Packing and Unpacking\n",
    "\n",
    "Python allows packing values into a tuple and then unpacking them into variables:\n",
    "\n",
    "```python\n",
    "# Packing\n",
    "coordinates = (10, 20)\n",
    "\n",
    "# Unpacking\n",
    "x, y = coordinates\n",
    "```\n",
    "\n",
    "---\n",
    "\n",
    "## 🛠 Common Operations\n",
    "\n",
    "* Access elements by index: `my_tuple[0]`\n",
    "* Use slicing: `my_tuple[1:3]`\n",
    "* Use built-in methods like `.count()` and `.index()`\n",
    "* Iterate using loops\n",
    "* Combine using `+` operator\n",
    "\n",
    "---\n",
    "\n",
    "## 🚫 What You Cannot Do\n",
    "\n",
    "Since tuples are immutable, the following operations are not allowed:\n",
    "\n",
    "* `my_tuple[1] = 100` ❌\n",
    "* `my_tuple.append(4)` ❌\n",
    "* `my_tuple.remove(2)` ❌\n",
    "\n",
    "---\n",
    "\n",
    "## ✨ When to Use Tuples?\n",
    "\n",
    "* When your data should not change\n",
    "* As keys in dictionaries\n",
    "* When returning multiple values from a function\n",
    "* For read-only collections that are accessed repeatedly\n",
    "\n",
    "---\n",
    "\n",
    "Tuples are small but mighty – a staple of clean, secure, and performant Python code! 🔒💨\n",
    "\n",
    "```"
   ]
  },
  {
   "cell_type": "code",
   "execution_count": 2,
   "id": "91e29595",
   "metadata": {},
   "outputs": [
    {
     "name": "stdout",
     "output_type": "stream",
     "text": [
      "(1, 2, 3, 4, 5)\n",
      "(1, 2.0, '3', [4], {5})\n"
     ]
    }
   ],
   "source": [
    "numbers = tuple([1,2,3,4,5])\n",
    "print(numbers)\n",
    "\n",
    "mix_tuple = (1, 2.0, '3', [4], {5})\n",
    "print(mix_tuple)"
   ]
  },
  {
   "cell_type": "markdown",
   "id": "c4cc1563",
   "metadata": {},
   "source": []
  },
  {
   "cell_type": "code",
   "execution_count": 3,
   "id": "5b1cbafd",
   "metadata": {},
   "outputs": [
    {
     "name": "stdout",
     "output_type": "stream",
     "text": [
      "1\n",
      "2\n",
      "3\n"
     ]
    }
   ],
   "source": [
    "## Accessing Tuple Elements\n",
    "numbers = (1, 2, 3, 4, 5)\n",
    "print(numbers[0])  # First element\n",
    "print(numbers[1])  # Second element\n",
    "print(numbers[2])  # Third element"
   ]
  },
  {
   "cell_type": "code",
   "execution_count": 4,
   "id": "c8ea6fed",
   "metadata": {},
   "outputs": [
    {
     "data": {
      "text/plain": [
       "(1, 2, 3, 4)"
      ]
     },
     "execution_count": 4,
     "metadata": {},
     "output_type": "execute_result"
    }
   ],
   "source": [
    "numbers[0:4]"
   ]
  },
  {
   "cell_type": "code",
   "execution_count": null,
   "id": "0353430a",
   "metadata": {},
   "outputs": [
    {
     "name": "stdout",
     "output_type": "stream",
     "text": [
      "(1, 2, 3, 4, 5, 6)\n",
      "(1, 2, 3, 1, 2, 3, 1, 2, 3)\n",
      "True\n",
      "False\n",
      "3\n"
     ]
    }
   ],
   "source": [
    "## Tuple Operations\n",
    "\n",
    "# Concatenation\n",
    "tuple1 = (1, 2, 3)\n",
    "tuple2 = (4, 5, 6)\n",
    "concatenated = tuple1 + tuple2\n",
    "print(concatenated)\n",
    "\n",
    "# Repetition\n",
    "repeated = tuple1 * 3\n",
    "print(repeated)\n",
    "\n",
    "# Membership\n",
    "print(1 in tuple1)  # True\n",
    "print(4 in tuple1)  # False\n",
    "\n",
    "# Length\n",
    "print(len(tuple1))  # 3\n"
   ]
  },
  {
   "cell_type": "code",
   "execution_count": 7,
   "id": "dd3a1bb5",
   "metadata": {},
   "outputs": [
    {
     "name": "stdout",
     "output_type": "stream",
     "text": [
      "[1, 2, 3, 4, 5]\n",
      "[1, 'Anmol', 3, 4, 5]\n"
     ]
    }
   ],
   "source": [
    "# Immutability of Tuples\n",
    "\n",
    "lst = [ 1, 2, 3 , 4 , 5]\n",
    "print(lst)\n",
    "\n",
    "lst[1] =\"Anmol\"\n",
    "print(lst)"
   ]
  },
  {
   "cell_type": "code",
   "execution_count": null,
   "id": "f9c3ecc7",
   "metadata": {},
   "outputs": [
    {
     "ename": "TypeError",
     "evalue": "'tuple' object does not support item assignment",
     "output_type": "error",
     "traceback": [
      "\u001b[31m---------------------------------------------------------------------------\u001b[39m",
      "\u001b[31mTypeError\u001b[39m                                 Traceback (most recent call last)",
      "\u001b[36mCell\u001b[39m\u001b[36m \u001b[39m\u001b[32mIn[8]\u001b[39m\u001b[32m, line 1\u001b[39m\n\u001b[32m----> \u001b[39m\u001b[32m1\u001b[39m \u001b[43mnumbers\u001b[49m\u001b[43m[\u001b[49m\u001b[32;43m1\u001b[39;49m\u001b[43m]\u001b[49m = \u001b[33m'\u001b[39m\u001b[33mAnmol\u001b[39m\u001b[33m'\u001b[39m\n",
      "\u001b[31mTypeError\u001b[39m: 'tuple' object does not support item assignment"
     ]
    }
   ],
   "source": [
    "numbers[1] = 'Anmol' # This will raise a TypeError "
   ]
  },
  {
   "cell_type": "code",
   "execution_count": 10,
   "id": "0a27707e",
   "metadata": {},
   "outputs": [
    {
     "name": "stdout",
     "output_type": "stream",
     "text": [
      "(1, 'Hello', 3.14)\n",
      "1\n",
      "Hello\n",
      "3.14\n"
     ]
    }
   ],
   "source": [
    "# Packing and Unpacking Tuples\n",
    "\n",
    "# Packing\n",
    "packed_tuple = 1,\"Hello\", 3.14\n",
    "print(packed_tuple)\n",
    "\n",
    "# Unpacking\n",
    "a, b, c = packed_tuple\n",
    "print(a)  # 1\n",
    "print(b)  # Hello\n",
    "print(c)  # 3.14\n"
   ]
  },
  {
   "cell_type": "code",
   "execution_count": 4,
   "id": "20cbb43b",
   "metadata": {},
   "outputs": [
    {
     "name": "stdout",
     "output_type": "stream",
     "text": [
      "1\n",
      "3\n"
     ]
    }
   ],
   "source": [
    "# Nested Tuples\n",
    "nested_tuple = (1, (2, 3), (4, 5))\n",
    "print(nested_tuple[0])  # 1\n",
    "print(nested_tuple[1][1])  # (2, 3)"
   ]
  },
  {
   "cell_type": "markdown",
   "id": "09eab8bd",
   "metadata": {},
   "source": [
    "# 🧠 Tuple Practice Questions in Python\n",
    "\n",
    "Improve your understanding of tuples with these hands-on questions. Each question is designed to reinforce concepts like indexing, slicing, unpacking, and tuple operations.\n",
    "\n",
    "---\n",
    "\n",
    "## 📋 Basic Questions\n",
    "\n",
    "1. Create a tuple named my_tuple containing the values: 10, 20, 30, 40.\n",
    "2. Print the first and last elements of the tuple.\n",
    "3. Check the type of a single-element tuple: (25,)\n",
    "4. Create a tuple with mixed data types: name (str), age (int), is_student (bool).\n",
    "5. Access the third element of the tuple (10, 20, 30, 40, 50).\n",
    "\n",
    "---\n",
    "\n",
    "## 🔄 Tuple Operations\n",
    "\n",
    "6. Count the number of occurrences of 5 in the tuple (5, 2, 5, 4, 5).\n",
    "7. Find the index of value 30 in the tuple (10, 20, 30, 40).\n",
    "8. Check if the value 25 exists in the tuple (10, 25, 30).\n",
    "9. Concatenate two tuples: (1, 2) + (3, 4)\n",
    "10. Repeat the tuple (1, 2) three times.\n",
    "\n",
    "---\n",
    "\n",
    "## ✂️ Slicing and Indexing\n",
    "\n",
    "11. Slice the tuple (0, 1, 2, 3, 4, 5) to get (2, 3, 4).\n",
    "12. Reverse the tuple (1, 2, 3, 4).\n",
    "13. Access the second last element from a tuple.\n",
    "14. Extract every second element from the tuple (0, 1, 2, 3, 4, 5).\n",
    "15. Use negative indexing to get the last element.\n",
    "\n",
    "---\n",
    "\n",
    "## 🎒 Tuple Packing and Unpacking\n",
    "\n",
    "16. Unpack a tuple (5, 10, 15) into variables a, b, c.\n",
    "17. Swap values of two variables using tuple unpacking.\n",
    "18. Pack values into a tuple from three variables: name, age, city.\n",
    "19. Unpack only the first and last values from the tuple (1, 2, 3, 4, 5) using underscore (_).\n",
    "20. Use the asterisk (*) to collect remaining values: a, *b, c = (1, 2, 3, 4, 5)\n",
    "\n",
    "---\n",
    "\n",
    "## 📦 Advanced Concepts\n",
    "\n",
    "21. Use a tuple as a key in a dictionary.\n",
    "22. Write a function that returns multiple values as a tuple.\n",
    "23. Convert a list to a tuple using the tuple() function.\n",
    "24. Create a nested tuple and access the inner element: (1, (2, 3), 4)\n",
    "25. Iterate through a tuple using a for loop.\n",
    "\n",
    "---\n",
    "\n",
    "## 🧩 Challenge Questions\n",
    "\n",
    "26. Find the largest and smallest element in a numeric tuple.\n",
    "27. Create a tuple of all even numbers between 1 and 20.\n",
    "28. Given a tuple of strings, return a new tuple with their lengths.\n",
    "29. Write a function that accepts a tuple of numbers and returns their average.\n",
    "30. Create a tuple of 5 elements. Write a program to replace the middle element with 100 (hint: tuples are immutable).\n",
    "\n",
    "---\n",
    "\n",
    "✍️ Happy Practicing! Let me know if you want solutions or hints.\n"
   ]
  },
  {
   "cell_type": "code",
   "execution_count": null,
   "id": "26bf42c8",
   "metadata": {},
   "outputs": [],
   "source": []
  }
 ],
 "metadata": {
  "kernelspec": {
   "display_name": "Python 3",
   "language": "python",
   "name": "python3"
  },
  "language_info": {
   "codemirror_mode": {
    "name": "ipython",
    "version": 3
   },
   "file_extension": ".py",
   "mimetype": "text/x-python",
   "name": "python",
   "nbconvert_exporter": "python",
   "pygments_lexer": "ipython3",
   "version": "3.12.0"
  }
 },
 "nbformat": 4,
 "nbformat_minor": 5
}
