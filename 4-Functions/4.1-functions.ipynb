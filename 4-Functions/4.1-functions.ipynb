{
 "cells": [
  {
   "cell_type": "markdown",
   "id": "00f7f28d",
   "metadata": {},
   "source": [
    "# 🧠 Python Functions – Complete Guide\n",
    "\n",
    "Functions are reusable blocks of code designed to perform a specific task. They allow programmers to write modular, maintainable, and organized code by avoiding repetition.\n",
    "\n",
    "---\n",
    "\n",
    "## 🔹 Why Use Functions?\n",
    "\n",
    "- ✅ Improves readability and structure\n",
    "- 🔁 Avoids redundancy (DRY principle: Don't Repeat Yourself)\n",
    "- 📦 Makes code modular and easier to debug\n",
    "- 🧪 Enables reusability and testing\n",
    "\n",
    "---\n",
    "\n",
    "## 🔧 Types of Functions in Python\n",
    "\n",
    "Python has various types of functions, categorized by how they are defined and used:\n",
    "\n",
    "### 1. Built-in Functions\n",
    "These are pre-defined by Python and ready to use.\n",
    "- Examples: `print()`, `len()`, `sum()`, `type()`, `range()`\n",
    "\n",
    "### 2. User-defined Functions\n",
    "These are functions you define using the `def` keyword.\n",
    "\n",
    "```python\n",
    "def greet(name):\n",
    "    print(f\"Hello, {name}\")\n",
    "````\n",
    "\n",
    "---\n",
    "\n",
    "## 🛠️ Function Components\n",
    "\n",
    "* **Function Definition**: Using the `def` keyword\n",
    "* **Function Name**: Identifier for the function\n",
    "* **Parameters**: Inputs to the function\n",
    "* **Docstring (optional)**: Describes the function’s purpose\n",
    "* **Body**: The code block that executes\n",
    "* **Return Statement**: Optional output using `return`\n",
    "\n",
    "---\n",
    "\n",
    "## 🧾 Function Syntax\n",
    "\n",
    "```python\n",
    "def function_name(parameters):\n",
    "    \"\"\"\n",
    "    Optional docstring\n",
    "    \"\"\"\n",
    "    # Function body\n",
    "    return result\n",
    "```\n",
    "\n",
    "---\n",
    "\n",
    "## 🔄 Types of Arguments\n",
    "\n",
    "### 1. Positional Arguments\n",
    "\n",
    "Passed in the same order as parameters.\n",
    "\n",
    "### 2. Keyword Arguments\n",
    "\n",
    "Passed by explicitly specifying the parameter name.\n",
    "\n",
    "```python\n",
    "def greet(name, msg):\n",
    "    print(f\"{msg}, {name}\")\n",
    "\n",
    "greet(name=\"Anmol\", msg=\"Hi\")\n",
    "```\n",
    "\n",
    "### 3. Default Arguments\n",
    "\n",
    "Parameters that take default values if no value is provided.\n",
    "\n",
    "```python\n",
    "def greet(name, msg=\"Hello\"):\n",
    "    print(f\"{msg}, {name}\")\n",
    "```\n",
    "\n",
    "### 4. Variable-length Arguments\n",
    "\n",
    "Use `*args` for multiple positional and `**kwargs` for keyword arguments.\n",
    "\n",
    "```python\n",
    "def add(*numbers):\n",
    "    return sum(numbers)\n",
    "```\n",
    "\n",
    "---\n",
    "\n",
    "## 🧩 Anonymous Functions (Lambda Functions)\n",
    "\n",
    "Single-expression functions using the `lambda` keyword.\n",
    "\n",
    "```python\n",
    "square = lambda x: x * x\n",
    "print(square(5))  # Output: 25\n",
    "```\n",
    "\n",
    "---\n",
    "\n",
    "## 📦 Function Scope\n",
    "\n",
    "* **Local Scope** – Variables inside the function.\n",
    "* **Global Scope** – Variables outside the function.\n",
    "* Use `global` keyword to modify global variables inside a function.\n",
    "\n",
    "---\n",
    "\n",
    "## 🧠 Recursion\n",
    "\n",
    "A function that calls itself. Commonly used for problems like factorial, Fibonacci, etc.\n",
    "\n",
    "```python\n",
    "def factorial(n):\n",
    "    if n == 1:\n",
    "        return 1\n",
    "    return n * factorial(n - 1)\n",
    "```\n",
    "\n",
    "---\n",
    "\n",
    "## 💡 Best Practices\n",
    "\n",
    "* Keep functions short and focused on a single task\n",
    "* Use meaningful names\n",
    "* Document with docstrings\n",
    "* Avoid using global variables when possible\n",
    "\n",
    "---\n",
    "\n",
    "🚀 Functions are a powerful way to build clean, efficient, and reusable Python programs. Mastering them is a key step in becoming a proficient Python developer.\n",
    "\n",
    "```\n"
   ]
  },
  {
   "cell_type": "code",
   "execution_count": 1,
   "id": "ac07c154",
   "metadata": {},
   "outputs": [],
   "source": [
    "def even_or_odd(num):\n",
    "    if num%2 ==0:\n",
    "        print(\"The number is even\")\n",
    "    else:\n",
    "        print(\"the number is odd\")"
   ]
  },
  {
   "cell_type": "code",
   "execution_count": 2,
   "id": "7c4647e8",
   "metadata": {},
   "outputs": [
    {
     "name": "stdout",
     "output_type": "stream",
     "text": [
      "The number is even\n"
     ]
    }
   ],
   "source": [
    "even_or_odd(24)"
   ]
  },
  {
   "cell_type": "code",
   "execution_count": null,
   "id": "2795aa2a",
   "metadata": {},
   "outputs": [
    {
     "name": "stdout",
     "output_type": "stream",
     "text": [
      "6\n"
     ]
    }
   ],
   "source": [
    "# function with multiple parameters\n",
    "\n",
    "def add(a,b):\n",
    "    return a + b\n",
    "result = add(2,4)\n",
    "print(result)"
   ]
  },
  {
   "cell_type": "code",
   "execution_count": 10,
   "id": "3e0b65fe",
   "metadata": {},
   "outputs": [
    {
     "name": "stdout",
     "output_type": "stream",
     "text": [
      "Hello Anmol Welcome To the paradise\n"
     ]
    }
   ],
   "source": [
    "# Default Parameter\n",
    "\n",
    "def greet(name= \"Guest\"):\n",
    "    print(f\"Hello {name} Welcome To the paradise\")\n",
    "greet(\"Anmol\")"
   ]
  },
  {
   "cell_type": "code",
   "execution_count": null,
   "id": "bcbd0ccc",
   "metadata": {},
   "outputs": [],
   "source": [
    "# Variable Length arguments\n",
    "# Positional and keywords arguments\n",
    "\n",
    "def print_numbers(*arg):\n",
    "    for numbers in arg:\n",
    "        print(numbers)"
   ]
  },
  {
   "cell_type": "code",
   "execution_count": 13,
   "id": "a9db5d2d",
   "metadata": {},
   "outputs": [
    {
     "name": "stdout",
     "output_type": "stream",
     "text": [
      "1\n",
      "2\n",
      "3\n",
      "4\n",
      "55\n",
      "Anmol\n"
     ]
    }
   ],
   "source": [
    "print_numbers(1,2,3,4,55,\"Anmol\")"
   ]
  },
  {
   "cell_type": "code",
   "execution_count": null,
   "id": "ee7129ec",
   "metadata": {},
   "outputs": [],
   "source": [
    "# Keywords Arguments\n",
    "\n",
    "def print_details(**kwargs):\n",
    "    for key,value in kwargs.items():\n",
    "        print(f\"{key}:{value}\")"
   ]
  },
  {
   "cell_type": "code",
   "execution_count": 15,
   "id": "bedfa9b2",
   "metadata": {},
   "outputs": [
    {
     "name": "stdout",
     "output_type": "stream",
     "text": [
      "name:Anmol\n",
      "age:32\n",
      "country:India\n"
     ]
    }
   ],
   "source": [
    "print_details(name=\"Anmol\", age= \"32\", country=\"India\")"
   ]
  },
  {
   "cell_type": "code",
   "execution_count": 18,
   "id": "1375cca4",
   "metadata": {},
   "outputs": [],
   "source": [
    "def print_details(*args, **kwargs):\n",
    "    for numbers in args:\n",
    "        print(f\" Positional arument : {numbers}\")\n",
    "    for key,value in kwargs.items():\n",
    "        print(f\"{key}:{value}\")"
   ]
  },
  {
   "cell_type": "code",
   "execution_count": 19,
   "id": "ac3d082a",
   "metadata": {},
   "outputs": [
    {
     "name": "stdout",
     "output_type": "stream",
     "text": [
      " Positional arument : 1\n",
      " Positional arument : 2\n",
      " Positional arument : 3\n",
      " Positional arument : 4\n",
      " Positional arument : Anmol\n",
      "name:Anmol\n",
      "age:32\n",
      "country:India\n"
     ]
    }
   ],
   "source": [
    "print_details(1,2,3,4,\"Anmol\",name=\"Anmol\", age= \"32\", country=\"India\" )"
   ]
  },
  {
   "cell_type": "markdown",
   "id": "430f3c36",
   "metadata": {},
   "source": [
    "# 🧪 Practice Questions: Python Functions\n",
    "\n",
    "Boost your skills by solving these function-related problems. Hints are provided to guide your logic!\n",
    "\n",
    "---\n",
    "\n",
    "### 🧩 Basic Function Definition\n",
    "\n",
    "1. Write a function that prints \"Hello, World!\".\n",
    "2. Write a function that takes your name as input and prints a personalized greeting.\n",
    "   - Hint: Use parameters.\n",
    "3. Create a function that takes two numbers and returns their sum.\n",
    "4. Write a function that checks whether a number is even or odd.\n",
    "5. Define a function to find the maximum of three numbers.\n",
    "\n",
    "---\n",
    "\n",
    "### 🎯 Default & Keyword Arguments\n",
    "\n",
    "6. Write a function that takes a name and message. Set a default message of \"Welcome\".\n",
    "   - Hint: Use `def greet(name, message=\"Welcome\")`\n",
    "7. Call a function using keyword arguments in a different order than defined.\n",
    "\n",
    "---\n",
    "\n",
    "### 📦 Variable-length Arguments\n",
    "\n",
    "8. Write a function to calculate the sum of any number of numbers.\n",
    "   - Hint: Use `*args`\n",
    "9. Write a function that accepts any number of keyword arguments and prints them.\n",
    "   - Hint: Use `**kwargs`\n",
    "\n",
    "---\n",
    "\n",
    "### 🔄 Return Statements\n",
    "\n",
    "10. Write a function that returns the square of a number.\n",
    "11. Write a function that returns both the quotient and remainder of two numbers.\n",
    "12. Write a function that takes a list and returns the maximum and minimum elements.\n",
    "\n",
    "---\n",
    "\n",
    "### 💡 Lambda Functions\n",
    "\n",
    "13. Write a lambda function to multiply two numbers.\n",
    "14. Use `map()` with a lambda function to square all numbers in a list.\n",
    "15. Use `filter()` with a lambda to filter even numbers from a list.\n",
    "\n",
    "---\n",
    "\n",
    "### 🔁 Recursion\n",
    "\n",
    "16. Write a recursive function to find factorial of a number.\n",
    "17. Write a recursive function to calculate the nth Fibonacci number.\n",
    "18. Create a recursive function to calculate sum of digits of a number.\n",
    "\n",
    "---\n",
    "\n",
    "### 🧠 Function Scope & Globals\n",
    "\n",
    "19. Write a function that modifies a global variable.\n",
    "20. Create a function that defines a local variable and attempts to access it outside.\n",
    "    - Hint: What happens?\n",
    "\n",
    "---\n",
    "\n",
    "### 🧪 Intermediate Challenges\n",
    "\n",
    "21. Write a function that checks if a string is a palindrome.\n",
    "22. Create a function that counts the vowels in a string.\n",
    "23. Write a function to reverse a list without using built-in reverse().\n",
    "24. Write a function that returns the number of words in a sentence.\n",
    "25. Create a function that returns True if all elements in a list are unique.\n",
    "\n",
    "---\n",
    "\n",
    "💥 Challenge Yourself\n",
    "\n",
    "26. Write a function that implements a simple calculator (add, subtract, multiply, divide).\n",
    "27. Write a function that accepts a list and returns the second largest element.\n",
    "28. Create a function to flatten a nested list.\n",
    "29. Create a function to convert Celsius to Fahrenheit.\n",
    "30. Write a function that prints the multiplication table of a number.\n",
    "\n",
    "---\n",
    "\n"
   ]
  },
  {
   "cell_type": "markdown",
   "id": "bf6507fb",
   "metadata": {},
   "source": []
  }
 ],
 "metadata": {
  "kernelspec": {
   "display_name": "Python 3",
   "language": "python",
   "name": "python3"
  },
  "language_info": {
   "codemirror_mode": {
    "name": "ipython",
    "version": 3
   },
   "file_extension": ".py",
   "mimetype": "text/x-python",
   "name": "python",
   "nbconvert_exporter": "python",
   "pygments_lexer": "ipython3",
   "version": "3.12.0"
  }
 },
 "nbformat": 4,
 "nbformat_minor": 5
}
