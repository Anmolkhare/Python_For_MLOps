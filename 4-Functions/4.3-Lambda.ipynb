{
 "cells": [
  {
   "cell_type": "markdown",
   "id": "da54d110",
   "metadata": {},
   "source": [
    "## ⚡ Lambda Functions in Python\n",
    "\n",
    "Lambda functions in Python are anonymous functions, meaning they are defined without a name. These are also known as inline functions or throwaway functions.\n",
    "\n",
    "---\n",
    "\n",
    "### 🧠 Syntax:\n",
    "```python\n",
    "lambda arguments: expression\n",
    "\n",
    "\n",
    "* `lambda` is the keyword.\n",
    "* You can pass multiple arguments, but the expression must be a single line.\n",
    "* Lambda functions are typically used for short, simple functions.\n",
    "\n",
    "---\n",
    "\n",
    "### ✅ Examples:\n",
    "\n",
    "```python\n",
    "# Add two numbers\n",
    "add = lambda x, y: x + y\n",
    "print(add(3, 5))  # Output: 8\n",
    "\n",
    "# Square of a number\n",
    "square = lambda x: x * x\n",
    "print(square(4))  # Output: 16\n",
    "\n",
    "# Check even number\n",
    "is_even = lambda x: x % 2 == 0\n",
    "print(is_even(10))  # Output: True\n",
    "```\n",
    "\n",
    "---\n",
    "\n",
    "### 🔁 Usage with Built-in Functions:\n",
    "\n",
    "Lambda functions are often used with:\n",
    "\n",
    "* `map()` – to apply a function to all items in an iterable.\n",
    "* `filter()` – to filter elements from a list.\n",
    "* `sorted()` – to sort with a custom key.\n",
    "\n",
    "```python\n",
    "# Example with map\n",
    "nums = [1, 2, 3, 4]\n",
    "squared = list(map(lambda x: x**2, nums))  # [1, 4, 9, 16]\n",
    "\n",
    "# Example with filter\n",
    "evens = list(filter(lambda x: x % 2 == 0, nums))  # [2, 4]\n",
    "\n",
    "# Example with sorted\n",
    "names = [\"anmol\", \"Rahul\", \"Sneha\"]\n",
    "sorted_names = sorted(names, key=lambda x: x.lower())  # Case-insensitive sort\n",
    "```\n",
    "\n",
    "---\n",
    "\n",
    "### ⚠️ Limitations:\n",
    "\n",
    "* Cannot contain multiple expressions or statements.\n",
    "* Less readable for complex logic.\n",
    "* Meant for short-term use.\n",
    "\n",
    "---\n",
    "\n",
    "🧩 Lambda functions are powerful for concise, functional-style programming. Combine them with `map()`, `filter()`, and `reduce()` for clean and efficient code!\n"
   ]
  },
  {
   "cell_type": "markdown",
   "id": "b7cc7a67",
   "metadata": {},
   "source": []
  },
  {
   "cell_type": "code",
   "execution_count": 1,
   "id": "206f3667",
   "metadata": {},
   "outputs": [
    {
     "data": {
      "text/plain": [
       "<function __main__.<lambda>(arguments)>"
      ]
     },
     "execution_count": 1,
     "metadata": {},
     "output_type": "execute_result"
    }
   ],
   "source": [
    "# Syntax\n",
    "lambda arguments: expression"
   ]
  },
  {
   "cell_type": "code",
   "execution_count": 2,
   "id": "fddbfb7f",
   "metadata": {},
   "outputs": [],
   "source": [
    "def addition(a,b):\n",
    "    return a+b"
   ]
  },
  {
   "cell_type": "code",
   "execution_count": 3,
   "id": "95d8f1ca",
   "metadata": {},
   "outputs": [
    {
     "data": {
      "text/plain": [
       "5"
      ]
     },
     "execution_count": 3,
     "metadata": {},
     "output_type": "execute_result"
    }
   ],
   "source": [
    "addition(2,3)"
   ]
  },
  {
   "cell_type": "code",
   "execution_count": 4,
   "id": "ec5c1370",
   "metadata": {},
   "outputs": [
    {
     "name": "stdout",
     "output_type": "stream",
     "text": [
      "11\n"
     ]
    }
   ],
   "source": [
    "addition = lambda a,b:a+b\n",
    "type(addition)\n",
    "print(addition(5,6))"
   ]
  },
  {
   "cell_type": "code",
   "execution_count": 5,
   "id": "8a3fe1d5",
   "metadata": {},
   "outputs": [],
   "source": [
    "def even(num):\n",
    "    if num%2==0:\n",
    "        return True\n",
    "    even(24)"
   ]
  },
  {
   "cell_type": "code",
   "execution_count": 6,
   "id": "579a3be3",
   "metadata": {},
   "outputs": [
    {
     "data": {
      "text/plain": [
       "True"
      ]
     },
     "execution_count": 6,
     "metadata": {},
     "output_type": "execute_result"
    }
   ],
   "source": [
    "even1 = lambda num:num%2 ==0\n",
    "even1(12)"
   ]
  },
  {
   "cell_type": "code",
   "execution_count": 8,
   "id": "e7df9a5a",
   "metadata": {},
   "outputs": [
    {
     "data": {
      "text/plain": [
       "39"
      ]
     },
     "execution_count": 8,
     "metadata": {},
     "output_type": "execute_result"
    }
   ],
   "source": [
    "def addition(x,y,z):\n",
    "    return x+y+z\n",
    "addition(12,13,14)"
   ]
  },
  {
   "cell_type": "code",
   "execution_count": null,
   "id": "5a01f63d",
   "metadata": {},
   "outputs": [
    {
     "data": {
      "text/plain": [
       "39"
      ]
     },
     "execution_count": 9,
     "metadata": {},
     "output_type": "execute_result"
    }
   ],
   "source": [
    "add = lambda x,y,z:x+y+z\n",
    "add(12,13,14)"
   ]
  },
  {
   "cell_type": "code",
   "execution_count": null,
   "id": "cd9af4a9",
   "metadata": {},
   "outputs": [
    {
     "data": {
      "text/plain": [
       "4"
      ]
     },
     "execution_count": 10,
     "metadata": {},
     "output_type": "execute_result"
    }
   ],
   "source": [
    "# map() - applies a function to all items in a list\n",
    "\n",
    "numbers= [1,2,3,4,5,6]\n",
    "def square(number):\n",
    "    return number**2\n",
    "square(2)"
   ]
  },
  {
   "cell_type": "code",
   "execution_count": 12,
   "id": "383a5290",
   "metadata": {},
   "outputs": [
    {
     "data": {
      "text/plain": [
       "[1, 4, 9, 16, 25, 36]"
      ]
     },
     "execution_count": 12,
     "metadata": {},
     "output_type": "execute_result"
    }
   ],
   "source": [
    "list(map(lambda x :x**2,numbers))"
   ]
  },
  {
   "cell_type": "markdown",
   "id": "cc0cbd07",
   "metadata": {},
   "source": [
    "## 🧠 Lambda Function Practice Questions\n",
    "\n",
    "### Q1. Write a lambda function to calculate the square of a number.\n",
    "📌 Hint: Use `lambda x: ...`\n",
    "\n",
    "---\n",
    "\n",
    "### Q2. Create a lambda that adds three numbers together.\n",
    "📌 Hint: Pass multiple arguments to the lambda.\n",
    "\n",
    "---\n",
    "\n",
    "### Q3. Use `map()` with a lambda to cube all numbers in the list: `[1, 2, 3, 4, 5]`.\n",
    "\n",
    "---\n",
    "\n",
    "### Q4. Filter all even numbers from a list using `filter()` and lambda.\n",
    "📌 List: `[10, 15, 21, 22, 30, 33]`\n",
    "\n",
    "---\n",
    "\n",
    "### Q5. Sort the list of tuples based on the second item using a lambda.\n",
    "📌 List: `[(1, 3), (2, 2), (4, 1)]`\n",
    "\n",
    "---\n",
    "\n",
    "### Q6. Write a lambda function to check whether a string starts with the letter 'a' (case insensitive).\n",
    "\n",
    "---\n",
    "\n",
    "### Q7. Use `map()` and a lambda to convert a list of temperatures in Celsius to Fahrenheit.\n",
    "📌 List: `[0, 20, 37, 100]`  \n",
    "📌 Formula: F = C × 9/5 + 32\n",
    "\n",
    "---\n",
    "\n",
    "### Q8. Use `filter()` and a lambda to find names that are longer than 5 characters.\n",
    "📌 List: `[\"Anmol\", \"Ravi\", \"Sakshi\", \"Tanisha\", \"Raj\"]`\n",
    "\n",
    "---\n",
    "\n",
    "### Q9. Write a lambda function to return True if a number is a multiple of 5.\n",
    "\n",
    "---\n",
    "\n",
    "### Q10. Use a lambda with `sorted()` to sort a list of dictionaries by the value of the key `'age'`.\n",
    "📌 List: `[{'name': 'A', 'age': 25}, {'name': 'B', 'age': 20}, {'name': 'C', 'age': 30}]`\n",
    "\n",
    "---\n",
    "\n",
    "🔥 Challenge:\n",
    "### Q11. Combine `map()`, `filter()` and `lambda` to first double all elements in a list, and then filter only those greater than 10.\n",
    "📌 List: `[1, 3, 5, 7, 9]`\n",
    "```"
   ]
  }
 ],
 "metadata": {
  "kernelspec": {
   "display_name": "Python 3",
   "language": "python",
   "name": "python3"
  },
  "language_info": {
   "codemirror_mode": {
    "name": "ipython",
    "version": 3
   },
   "file_extension": ".py",
   "mimetype": "text/x-python",
   "name": "python",
   "nbconvert_exporter": "python",
   "pygments_lexer": "ipython3",
   "version": "3.12.0"
  }
 },
 "nbformat": 4,
 "nbformat_minor": 5
}
