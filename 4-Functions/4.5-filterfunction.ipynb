{
 "cells": [
  {
   "cell_type": "markdown",
   "id": "0a9cd37a",
   "metadata": {},
   "source": [
    "# 🧹 filter() Function in Python\n",
    "\n",
    "The `filter()` function in Python is used to filter elements from an iterable (like a list, tuple, etc.) based on a condition (a function that returns either `True` or `False`).\n",
    "\n",
    "---\n",
    "\n",
    "## 🧠 What is `filter()`?\n",
    "\n",
    "The `filter()` function constructs an iterator from elements of an iterable for which a specified function returns `True`.\n",
    "\n",
    "### 🧾 Syntax:\n",
    "```python\n",
    "filter(function, iterable)\n",
    "````\n",
    "\n",
    "* `function`: A function that tests each element of the iterable. It should return `True` or `False`.\n",
    "* `iterable`: An iterable like a list, tuple, etc.\n",
    "\n",
    "---\n",
    "\n",
    "## 📌 Key Points:\n",
    "\n",
    "✅ It returns an iterator, so wrap it in `list()` or `tuple()` to view the results.\n",
    "✅ Only elements for which the function returns `True` are included in the result.\n",
    "✅ Can be used with built-in functions or lambda expressions.\n",
    "\n",
    "---\n",
    "\n",
    "## 🛠️ Examples:\n",
    "\n",
    "### Example 1: Filter even numbers from a list\n",
    "\n",
    "```python\n",
    "numbers = [1, 2, 3, 4, 5, 6]\n",
    "evens = list(filter(lambda x: x % 2 == 0, numbers))\n",
    "print(evens)  # Output: [2, 4, 6]\n",
    "```\n",
    "\n",
    "### Example 2: Filter words longer than 3 characters\n",
    "\n",
    "```python\n",
    "words = [\"hi\", \"hello\", \"cat\", \"elephant\"]\n",
    "long_words = list(filter(lambda word: len(word) > 3, words))\n",
    "print(long_words)  # Output: ['hello', 'elephant']\n",
    "```\n",
    "\n",
    "### Example 3: Filter out `None` values\n",
    "\n",
    "```python\n",
    "values = [10, None, 30, None, 50]\n",
    "filtered = list(filter(None, values))\n",
    "print(filtered)  # Output: [10, 30, 50]\n",
    "```\n",
    "\n",
    "---\n",
    "\n",
    "## 💡 When to Use `filter()`?\n",
    "\n",
    "* Cleaning data by removing unwanted values\n",
    "* Extracting items that meet specific criteria\n",
    "* Functional programming patterns\n",
    "\n",
    "---\n",
    "\n",
    "✨ Using `filter()` makes your code cleaner and more Pythonic!\n",
    "\n",
    "🔜 Next: Practice questions for `filter()`...\n",
    "\n",
    "```"
   ]
  },
  {
   "cell_type": "code",
   "execution_count": 1,
   "id": "08c6f9bc",
   "metadata": {},
   "outputs": [
    {
     "data": {
      "text/plain": [
       "True"
      ]
     },
     "execution_count": 1,
     "metadata": {},
     "output_type": "execute_result"
    }
   ],
   "source": [
    "def even(num):\n",
    "    if num%2 ==0:\n",
    "        return True\n",
    "even(24)"
   ]
  },
  {
   "cell_type": "code",
   "execution_count": 3,
   "id": "db9b460a",
   "metadata": {},
   "outputs": [
    {
     "data": {
      "text/plain": [
       "[2, 4, 6, 8, 10]"
      ]
     },
     "execution_count": 3,
     "metadata": {},
     "output_type": "execute_result"
    }
   ],
   "source": [
    "lst = [1,2,3,4,5,6,7,8,9,10]\n",
    "list(filter(even,lst))"
   ]
  },
  {
   "cell_type": "code",
   "execution_count": 3,
   "id": "1d467b4f",
   "metadata": {},
   "outputs": [
    {
     "name": "stdout",
     "output_type": "stream",
     "text": [
      "[6, 7, 8, 9]\n"
     ]
    }
   ],
   "source": [
    "# filter with a lambda function\n",
    "numbers=[1,2,3,4,5,6,7,8,9]\n",
    "greater = list(filter(lambda x:x>5,numbers))\n",
    "print(greater)"
   ]
  },
  {
   "cell_type": "code",
   "execution_count": null,
   "id": "a6e0117d",
   "metadata": {},
   "outputs": [],
   "source": []
  },
  {
   "cell_type": "markdown",
   "id": "75067d99",
   "metadata": {},
   "source": []
  }
 ],
 "metadata": {
  "kernelspec": {
   "display_name": "Python 3",
   "language": "python",
   "name": "python3"
  },
  "language_info": {
   "codemirror_mode": {
    "name": "ipython",
    "version": 3
   },
   "file_extension": ".py",
   "mimetype": "text/x-python",
   "name": "python",
   "nbconvert_exporter": "python",
   "pygments_lexer": "ipython3",
   "version": "3.12.0"
  }
 },
 "nbformat": 4,
 "nbformat_minor": 5
}
