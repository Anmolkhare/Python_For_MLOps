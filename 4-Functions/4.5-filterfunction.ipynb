{
 "cells": [
  {
   "cell_type": "markdown",
   "id": "0a9cd37a",
   "metadata": {},
   "source": [
    "# 🧹 filter() Function in Python\n",
    "\n",
    "The `filter()` function in Python is used to filter elements from an iterable (like a list, tuple, etc.) based on a condition (a function that returns either `True` or `False`).\n",
    "\n",
    "---\n",
    "\n",
    "## 🧠 What is `filter()`?\n",
    "\n",
    "The `filter()` function constructs an iterator from elements of an iterable for which a specified function returns `True`.\n",
    "\n",
    "### 🧾 Syntax:\n",
    "```python\n",
    "filter(function, iterable)\n",
    "````\n",
    "\n",
    "* `function`: A function that tests each element of the iterable. It should return `True` or `False`.\n",
    "* `iterable`: An iterable like a list, tuple, etc.\n",
    "\n",
    "---\n",
    "\n",
    "## 📌 Key Points:\n",
    "\n",
    "✅ It returns an iterator, so wrap it in `list()` or `tuple()` to view the results.\n",
    "✅ Only elements for which the function returns `True` are included in the result.\n",
    "✅ Can be used with built-in functions or lambda expressions.\n",
    "\n",
    "---\n",
    "\n",
    "## 🛠️ Examples:\n",
    "\n",
    "### Example 1: Filter even numbers from a list\n",
    "\n",
    "```python\n",
    "numbers = [1, 2, 3, 4, 5, 6]\n",
    "evens = list(filter(lambda x: x % 2 == 0, numbers))\n",
    "print(evens)  # Output: [2, 4, 6]\n",
    "```\n",
    "\n",
    "### Example 2: Filter words longer than 3 characters\n",
    "\n",
    "```python\n",
    "words = [\"hi\", \"hello\", \"cat\", \"elephant\"]\n",
    "long_words = list(filter(lambda word: len(word) > 3, words))\n",
    "print(long_words)  # Output: ['hello', 'elephant']\n",
    "```\n",
    "\n",
    "### Example 3: Filter out `None` values\n",
    "\n",
    "```python\n",
    "values = [10, None, 30, None, 50]\n",
    "filtered = list(filter(None, values))\n",
    "print(filtered)  # Output: [10, 30, 50]\n",
    "```\n",
    "\n",
    "---\n",
    "\n",
    "## 💡 When to Use `filter()`?\n",
    "\n",
    "* Cleaning data by removing unwanted values\n",
    "* Extracting items that meet specific criteria\n",
    "* Functional programming patterns\n",
    "\n",
    "---\n",
    "\n",
    "✨ Using `filter()` makes your code cleaner and more Pythonic!\n",
    "\n",
    "🔜 Next: Practice questions for `filter()`...\n",
    "\n",
    "```"
   ]
  },
  {
   "cell_type": "code",
   "execution_count": 1,
   "id": "08c6f9bc",
   "metadata": {},
   "outputs": [
    {
     "data": {
      "text/plain": [
       "True"
      ]
     },
     "execution_count": 1,
     "metadata": {},
     "output_type": "execute_result"
    }
   ],
   "source": [
    "def even(num):\n",
    "    if num%2 ==0:\n",
    "        return True\n",
    "even(24)"
   ]
  },
  {
   "cell_type": "code",
   "execution_count": 3,
   "id": "db9b460a",
   "metadata": {},
   "outputs": [
    {
     "data": {
      "text/plain": [
       "[2, 4, 6, 8, 10]"
      ]
     },
     "execution_count": 3,
     "metadata": {},
     "output_type": "execute_result"
    }
   ],
   "source": [
    "lst = [1,2,3,4,5,6,7,8,9,10]\n",
    "list(filter(even,lst))"
   ]
  },
  {
   "cell_type": "code",
   "execution_count": 3,
   "id": "1d467b4f",
   "metadata": {},
   "outputs": [
    {
     "name": "stdout",
     "output_type": "stream",
     "text": [
      "[6, 7, 8, 9]\n"
     ]
    }
   ],
   "source": [
    "# filter with a lambda function\n",
    "numbers=[1,2,3,4,5,6,7,8,9]\n",
    "greater = list(filter(lambda x:x>5,numbers))\n",
    "print(greater)"
   ]
  },
  {
   "cell_type": "markdown",
   "id": "3e7130a1",
   "metadata": {},
   "source": [
    "# 🧪 Examples and 📝 Practice Questions for `filter()` Function\n",
    "\n",
    "---\n",
    "\n",
    "## 🧪 Examples:\n",
    "\n",
    "### ✅ Example 1: Filter numbers greater than 10\n",
    "```python\n",
    "numbers = [4, 11, 32, 5, 7, 19]\n",
    "greater_than_10 = list(filter(lambda x: x > 10, numbers))\n",
    "print(greater_than_10)  # Output: [11, 32, 19]\n",
    "````\n",
    "\n",
    "### ✅ Example 2: Filter only alphabetic strings\n",
    "\n",
    "```python\n",
    "items = [\"hello\", \"123\", \"world\", \"456\", \"AI\"]\n",
    "alphabets = list(filter(lambda s: s.isalpha(), items))\n",
    "print(alphabets)  # Output: ['hello', 'world', 'AI']\n",
    "```\n",
    "\n",
    "### ✅ Example 3: Remove empty strings from a list\n",
    "\n",
    "```python\n",
    "strings = [\"python\", \"\", \"ai\", \"\", \"data\"]\n",
    "non_empty = list(filter(None, strings))\n",
    "print(non_empty)  # Output: ['python', 'ai', 'data']\n",
    "```\n",
    "\n",
    "---\n",
    "\n",
    "## 📝 Practice Questions:\n",
    "\n",
    "1. 🔹 Write a program to filter out all odd numbers from a list of integers.\n",
    "   💡 Hint: Use lambda with condition `x % 2 != 0`.\n",
    "\n",
    "2. 🔹 Given a list of strings, filter out all the strings that are less than 5 characters.\n",
    "   💡 Hint: Use `len()` inside the lambda function.\n",
    "\n",
    "3. 🔹 Filter a list to keep only the values that are divisible by both 2 and 3.\n",
    "   💡 Hint: `x % 2 == 0 and x % 3 == 0`\n",
    "\n",
    "4. 🔹 Remove all negative numbers from a list of integers.\n",
    "   💡 Hint: Use `x >= 0` in your condition.\n",
    "\n",
    "5. 🔹 From a list of tuples where each tuple contains (name, age), filter out only those whose age is greater than 18.\n",
    "   💡 Hint: `lambda person: person[1] > 18`\n",
    "\n",
    "---\n",
    "\n",
    "💥 Keep experimenting with filter() to enhance your functional programming skills!\n",
    "\n",
    "```"
   ]
  },
  {
   "cell_type": "code",
   "execution_count": null,
   "id": "a6e0117d",
   "metadata": {},
   "outputs": [],
   "source": []
  },
  {
   "cell_type": "markdown",
   "id": "75067d99",
   "metadata": {},
   "source": []
  }
 ],
 "metadata": {
  "kernelspec": {
   "display_name": "Python 3",
   "language": "python",
   "name": "python3"
  },
  "language_info": {
   "codemirror_mode": {
    "name": "ipython",
    "version": 3
   },
   "file_extension": ".py",
   "mimetype": "text/x-python",
   "name": "python",
   "nbconvert_exporter": "python",
   "pygments_lexer": "ipython3",
   "version": "3.12.0"
  }
 },
 "nbformat": 4,
 "nbformat_minor": 5
}
