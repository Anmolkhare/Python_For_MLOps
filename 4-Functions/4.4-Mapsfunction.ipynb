{
 "cells": [
  {
   "cell_type": "markdown",
   "id": "89fa285f",
   "metadata": {},
   "source": [
    "## 🗺️ map() Function in Python\n",
    "\n",
    "The `map()` function is a built-in Python function that allows you to process and transform all the items in an iterable (like a list or tuple) without using an explicit loop.\n",
    "\n",
    "---\n",
    "\n",
    "### 🔍 What Does `map()` Do?\n",
    "\n",
    "It applies a specified function to every item of an iterable and returns a `map` object (which can be converted into a list, set, tuple, etc.).\n",
    "\n",
    "📌 Syntax:\n",
    "```python\n",
    "map(function, iterable)\n",
    "````\n",
    "\n",
    "* `function`: A function (can be built-in, user-defined, or lambda).\n",
    "* `iterable`: A sequence (like a list, tuple, etc.).\n",
    "\n",
    "---\n",
    "\n",
    "### 🧠 Key Features:\n",
    "\n",
    "* Clean and readable.\n",
    "* Avoids writing loops explicitly.\n",
    "* Often used with lambda functions.\n",
    "\n",
    "---\n",
    "\n",
    "### ✅ Example:\n",
    "\n",
    "```python\n",
    "numbers = [1, 2, 3, 4]\n",
    "squared = list(map(lambda x: x**2, numbers))\n",
    "print(squared)  # Output: [1, 4, 9, 16]\n",
    "```\n",
    "\n",
    "---\n",
    "\n",
    "### 🛠️ Common Use Cases:\n",
    "\n",
    "* Converting data (e.g., strings to integers).\n",
    "* Applying mathematical operations.\n",
    "* Processing data in functional style.\n",
    "\n",
    "---\n",
    "\n",
    "### 🧱 Output Type:\n",
    "\n",
    "The result of `map()` is a special map object. To get the result as a list, wrap it with `list()`, `set()`, or `tuple()`.\n",
    "\n",
    "```python\n",
    "list(map(...))   # To get a list\n",
    "set(map(...))    # To get a set\n",
    "```\n",
    "\n",
    "---\n",
    "\n",
    "Ready to dive into examples and practice questions? 💡\n",
    "\n",
    "```\n"
   ]
  },
  {
   "cell_type": "code",
   "execution_count": 1,
   "id": "84551fb4",
   "metadata": {},
   "outputs": [
    {
     "data": {
      "text/plain": [
       "576"
      ]
     },
     "execution_count": 1,
     "metadata": {},
     "output_type": "execute_result"
    }
   ],
   "source": [
    "def square(x):\n",
    "    return x*x\n",
    "square(24)"
   ]
  },
  {
   "cell_type": "code",
   "execution_count": null,
   "id": "251f72ca",
   "metadata": {},
   "outputs": [
    {
     "data": {
      "text/plain": [
       "[1, 4, 9, 16, 25, 36, 49, 7921]"
      ]
     },
     "execution_count": 3,
     "metadata": {},
     "output_type": "execute_result"
    }
   ],
   "source": [
    "numbers = [1,2,3,4,5,6,7,89]\n",
    "list(map(square,numbers))"
   ]
  },
  {
   "cell_type": "code",
   "execution_count": null,
   "id": "977b53b8",
   "metadata": {},
   "outputs": [
    {
     "data": {
      "text/plain": [
       "[1, 4, 9, 16, 25, 36, 49, 7921]"
      ]
     },
     "execution_count": 4,
     "metadata": {},
     "output_type": "execute_result"
    }
   ],
   "source": [
    "## lambda with map\n",
    "numbers = [1,2,3,4,5,6,7,89]\n",
    "list(map(lambda x:x*x, numbers))"
   ]
  },
  {
   "cell_type": "code",
   "execution_count": 7,
   "id": "452ad7db",
   "metadata": {},
   "outputs": [
    {
     "name": "stdout",
     "output_type": "stream",
     "text": [
      "[5, 7, 9]\n"
     ]
    }
   ],
   "source": [
    "# map multiple iterables\n",
    "\n",
    "numbers1 = [1,2,3]\n",
    "numbers2 = [4,5,6]\n",
    "\n",
    "added_numbers=list(map(lambda x,y:x+y, numbers1, numbers2))\n",
    "print(added_numbers)"
   ]
  },
  {
   "cell_type": "code",
   "execution_count": 8,
   "id": "0b8cc493",
   "metadata": {},
   "outputs": [
    {
     "name": "stdout",
     "output_type": "stream",
     "text": [
      "[1, 2, 3, 4, 5]\n"
     ]
    }
   ],
   "source": [
    "# map() to convert a list of strings to integers\n",
    "# use map to convert strings to integers\n",
    "str_numbers = [\"1\",\"2\",\"3\",\"4\",\"5\"]\n",
    "int_numbers = list(map(int,str_numbers))\n",
    "print(int_numbers)\n"
   ]
  },
  {
   "cell_type": "code",
   "execution_count": 9,
   "id": "aba0c83b",
   "metadata": {},
   "outputs": [
    {
     "name": "stdout",
     "output_type": "stream",
     "text": [
      "['APPLE', 'BANANA', 'CHERRY']\n"
     ]
    }
   ],
   "source": [
    "words= ['apple','banana','cherry']\n",
    "upper_word = list(map(str.upper,words))\n",
    "print(upper_word)"
   ]
  },
  {
   "cell_type": "code",
   "execution_count": null,
   "id": "18cd0858",
   "metadata": {},
   "outputs": [
    {
     "data": {
      "text/plain": [
       "['Anmol', 'jon']"
      ]
     },
     "execution_count": 10,
     "metadata": {},
     "output_type": "execute_result"
    }
   ],
   "source": [
    "def get_name(person):\n",
    "    return person['name']\n",
    "\n",
    "people=[\n",
    "    {'name':'Anmol','age':32},\n",
    "    {'name':'jon','age':32}\n",
    "]\n",
    "list(map(get_name, people))"
   ]
  },
  {
   "cell_type": "code",
   "execution_count": null,
   "id": "a9604086",
   "metadata": {},
   "outputs": [],
   "source": []
  }
 ],
 "metadata": {
  "kernelspec": {
   "display_name": "Python 3",
   "language": "python",
   "name": "python3"
  },
  "language_info": {
   "codemirror_mode": {
    "name": "ipython",
    "version": 3
   },
   "file_extension": ".py",
   "mimetype": "text/x-python",
   "name": "python",
   "nbconvert_exporter": "python",
   "pygments_lexer": "ipython3",
   "version": "3.12.0"
  }
 },
 "nbformat": 4,
 "nbformat_minor": 5
}
