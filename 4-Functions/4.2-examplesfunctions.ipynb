{
 "cells": [
  {
   "cell_type": "markdown",
   "id": "85bdf634",
   "metadata": {},
   "source": [
    "## Password strength checker"
   ]
  },
  {
   "cell_type": "code",
   "execution_count": 3,
   "id": "a51cbd4e",
   "metadata": {},
   "outputs": [
    {
     "name": "stdout",
     "output_type": "stream",
     "text": [
      "False\n",
      "True\n"
     ]
    }
   ],
   "source": [
    "def is_strong_password(password):\n",
    "    \"\"\"This function checks if the pass is strong or not\"\"\"\n",
    "    if len(password)<8:\n",
    "        return False\n",
    "    if not any(char.isdigit() for char in password):\n",
    "        return False\n",
    "    if not any(char.islower() for char in password):\n",
    "        return False\n",
    "    if not any(char.isupper() for char in password):\n",
    "        return False\n",
    "    if not any(char in \"!@#$%^&*()_+\" for char in password):\n",
    "        return False\n",
    "    return True\n",
    "\n",
    "# calling the function\n",
    "print(is_strong_password(\"WeakPwd\"))\n",
    "print(is_strong_password(\"STr0ngPwd!\"))"
   ]
  },
  {
   "cell_type": "markdown",
   "id": "7db015d2",
   "metadata": {},
   "source": [
    "## Calculate the total cost of items in a shopping card"
   ]
  },
  {
   "cell_type": "code",
   "execution_count": 9,
   "id": "abd78ef2",
   "metadata": {},
   "outputs": [
    {
     "name": "stdout",
     "output_type": "stream",
     "text": [
      "8.5\n"
     ]
    }
   ],
   "source": [
    "def calculate_total_cost(cart):\n",
    "    total_cost = 0\n",
    "    for item in cart:\n",
    "        total_cost+=item['price']* item['quantity']\n",
    "    return total_cost\n",
    "\n",
    "\n",
    "## cart data\n",
    "\n",
    "cart = [\n",
    "    {'name':'Apple','price':0.2,'quantity':5},\n",
    "    {'name':'banana','price':0.4,'quantity':6},\n",
    "    {'name':'orange','price':0.3,'quantity':3},\n",
    "    {'name':'kivi','price':0.6,'quantity':7}\n",
    "]\n",
    "\n",
    "#calling function \n",
    "\n",
    "total_cost = calculate_total_cost(cart)\n",
    "print(total_cost)"
   ]
  },
  {
   "cell_type": "markdown",
   "id": "6525a61a",
   "metadata": {},
   "source": [
    "## Check if string is palindrome"
   ]
  },
  {
   "cell_type": "code",
   "execution_count": 11,
   "id": "3854ea00",
   "metadata": {},
   "outputs": [
    {
     "name": "stdout",
     "output_type": "stream",
     "text": [
      "True\n",
      "False\n"
     ]
    }
   ],
   "source": [
    "def is_palindrome(s):\n",
    "    s=s.lower().replace(\" \",\"\")\n",
    "    return s==s[::-1]\n",
    "print(is_palindrome(\"A man a plan a canal panama\"))\n",
    "print(is_palindrome(\"Hello\"))"
   ]
  },
  {
   "cell_type": "markdown",
   "id": "52feddec",
   "metadata": {},
   "source": [
    "## factorials of a number uning recursion"
   ]
  },
  {
   "cell_type": "code",
   "execution_count": 12,
   "id": "a7d6f653",
   "metadata": {},
   "outputs": [
    {
     "name": "stdout",
     "output_type": "stream",
     "text": [
      "720\n"
     ]
    }
   ],
   "source": [
    "def factorial(n):\n",
    "    if n == 0:\n",
    "        return 1\n",
    "    else:\n",
    "        return n * factorial(n-1)\n",
    "print(factorial(6))"
   ]
  },
  {
   "cell_type": "markdown",
   "id": "0ea7a4bd",
   "metadata": {},
   "source": [
    "## Read a file and count frequency of each word"
   ]
  },
  {
   "cell_type": "code",
   "execution_count": 16,
   "id": "43168de4",
   "metadata": {},
   "outputs": [
    {
     "name": "stdout",
     "output_type": "stream",
     "text": [
      "{'hey': 1, 'i': 1, 'am': 1, 'anmol': 1, 'testing': 1, 'functions': 2, 'how': 1, 'to': 1, 'run': 1}\n"
     ]
    }
   ],
   "source": [
    "def count_word_frequency(file_path):\n",
    "    word_count={}\n",
    "    with open(file_path, \"r\") as file:\n",
    "        for line in file:\n",
    "            words= line.split()\n",
    "            for word in words:\n",
    "                word = word.lower().strip('.,?!:;\\\"')\n",
    "                word_count[word]=word_count.get(word,0)+1\n",
    "    return word_count\n",
    "\n",
    "filepath = \"sample.txt\"\n",
    "word_frequency = count_word_frequency(filepath)\n",
    "print(word_frequency)"
   ]
  },
  {
   "cell_type": "markdown",
   "id": "86fc495e",
   "metadata": {},
   "source": [
    "## Validata Email Address"
   ]
  },
  {
   "cell_type": "code",
   "execution_count": 19,
   "id": "87380fe0",
   "metadata": {},
   "outputs": [
    {
     "name": "stdout",
     "output_type": "stream",
     "text": [
      "True\n",
      "False\n"
     ]
    }
   ],
   "source": [
    "import re\n",
    "\n",
    "def valid_email(email):\n",
    "    pattern = r'^[a-zA-Z0-9_.+-]+@[a-zA-Z0-9-]+\\.[a-zA-Z0-9.-]+$'\n",
    "    return re.match(pattern, email) is not None\n",
    "print(valid_email(\"test@example.com\"))\n",
    "print(valid_email(\"invalid_email\"))"
   ]
  },
  {
   "cell_type": "markdown",
   "id": "e446c48c",
   "metadata": {},
   "source": [
    "```python\n",
    "# 1. Simple Function: No arguments, no return value\n",
    "def greet():\n",
    "    print(\"Hello, welcome to Python!\")\n",
    "\n",
    "greet()\n",
    "```\n",
    "\n",
    "```python\n",
    "# 2. Function with Parameters\n",
    "def add(a, b):\n",
    "    return a + b\n",
    "\n",
    "result = add(10, 5)\n",
    "print(\"Sum is:\", result)\n",
    "```\n",
    "\n",
    "```python\n",
    "# 3. Function with Default Parameters\n",
    "def greet_user(name=\"Guest\"):\n",
    "    print(f\"Hello, {name}!\")\n",
    "\n",
    "greet_user()\n",
    "greet_user(\"Anmol\")\n",
    "```\n",
    "\n",
    "```python\n",
    "# 4. Function with Return Statement\n",
    "def is_even(number):\n",
    "    return number % 2 == 0\n",
    "\n",
    "print(is_even(4))  # True\n",
    "print(is_even(7))  # False\n",
    "```\n",
    "\n",
    "```python\n",
    "# 5. Function with *args (Variable number of positional arguments)\n",
    "def total_sum(*numbers):\n",
    "    return sum(numbers)\n",
    "\n",
    "print(total_sum(1, 2, 3, 4, 5))  # 15\n",
    "```\n",
    "\n",
    "```python\n",
    "# 6. Function with **kwargs (Variable number of keyword arguments)\n",
    "def show_info(**info):\n",
    "    for key, value in info.items():\n",
    "        print(f\"{key}: {value}\")\n",
    "\n",
    "show_info(name=\"Anmol\", role=\"MLOps Engineer\", experience=\"5 years\")\n",
    "```\n",
    "\n",
    "```python\n",
    "# 7. Lambda Function\n",
    "square = lambda x: x * x\n",
    "print(square(6))  # 36\n",
    "```\n",
    "\n",
    "```python\n",
    "# 8. Recursive Function: Factorial\n",
    "def factorial(n):\n",
    "    if n == 0:\n",
    "        return 1\n",
    "    return n * factorial(n - 1)\n",
    "\n",
    "print(factorial(5))  # 120\n",
    "```"
   ]
  },
  {
   "cell_type": "markdown",
   "id": "0958f028",
   "metadata": {},
   "source": [
    "## 🧠 Practice Questions: Python Functions\n",
    "\n",
    "Try to solve the following function-related problems to enhance your understanding:\n",
    "\n",
    "---\n",
    "\n",
    "### 1. Greeting Function\n",
    "Write a function that takes a name as input and prints a greeting message.\n",
    "\n",
    "📌 Hint: Use `print(f\"Hello, {name}\")`\n",
    "\n",
    "---\n",
    "\n",
    "### 2. Even or Odd Checker\n",
    "Write a function that checks if a given number is even or odd.\n",
    "\n",
    "📌 Hint: Use `%` operator and return `\"Even\"` or `\"Odd\"`\n",
    "\n",
    "---\n",
    "\n",
    "### 3. Find Maximum of Three Numbers\n",
    "Write a function to find the largest of three numbers.\n",
    "\n",
    "📌 Hint: Use `max()` or conditional comparisons.\n",
    "\n",
    "---\n",
    "\n",
    "### 4. Calculate Factorial (Recursive)\n",
    "Write a recursive function to calculate the factorial of a number.\n",
    "\n",
    "📌 Hint: `factorial(n) = n * factorial(n - 1)`\n",
    "\n",
    "---\n",
    "\n",
    "### 5. Sum of a List\n",
    "Write a function that accepts a list and returns the sum of all its elements.\n",
    "\n",
    "📌 Hint: Use a loop or `sum()` function.\n",
    "\n",
    "---\n",
    "\n",
    "### 6. Palindrome Checker\n",
    "Write a function that checks if a string is a palindrome.\n",
    "\n",
    "📌 Hint: Compare the string to its reverse.\n",
    "\n",
    "---\n",
    "\n",
    "### 7. Count Vowels in String\n",
    "Write a function that counts the number of vowels in a string.\n",
    "\n",
    "📌 Hint: Use a loop and check membership in `'aeiouAEIOU'`\n",
    "\n",
    "---\n",
    "\n",
    "### 8. Prime Number Checker\n",
    "Write a function to check if a number is prime.\n",
    "\n",
    "📌 Hint: Use loop to check if the number is divisible by any number except 1 and itself.\n",
    "\n",
    "---\n",
    "\n",
    "### 9. Fibonacci Series\n",
    "Write a function that prints the first N Fibonacci numbers.\n",
    "\n",
    "📌 Hint: Use either iteration or recursion.\n",
    "\n",
    "---\n",
    "\n",
    "### 10. Calculator Function\n",
    "Create a function that takes two numbers and an operation (`+`, `-`, `*`, `/`) and returns the result.\n",
    "\n",
    "📌 Hint: Use `if-elif-else` statements inside the function.\n",
    "\n",
    "---\n",
    "\n",
    "### ⭐ Challenge:\n",
    "Write a function that returns a dictionary where the keys are numbers from 1 to n, and values are their squares.\n",
    "\n",
    "```python\n",
    "# Example: square_dict(3) ➞ {1:1, 2:4, 3:9}\n"
   ]
  }
 ],
 "metadata": {
  "kernelspec": {
   "display_name": "Python 3",
   "language": "python",
   "name": "python3"
  },
  "language_info": {
   "codemirror_mode": {
    "name": "ipython",
    "version": 3
   },
   "file_extension": ".py",
   "mimetype": "text/x-python",
   "name": "python",
   "nbconvert_exporter": "python",
   "pygments_lexer": "ipython3",
   "version": "3.12.0"
  }
 },
 "nbformat": 4,
 "nbformat_minor": 5
}
