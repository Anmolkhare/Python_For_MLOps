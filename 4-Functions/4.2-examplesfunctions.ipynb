{
 "cells": [
  {
   "cell_type": "markdown",
   "id": "85bdf634",
   "metadata": {},
   "source": [
    "## Password strength checker"
   ]
  },
  {
   "cell_type": "code",
   "execution_count": 3,
   "id": "a51cbd4e",
   "metadata": {},
   "outputs": [
    {
     "name": "stdout",
     "output_type": "stream",
     "text": [
      "False\n",
      "True\n"
     ]
    }
   ],
   "source": [
    "def is_strong_password(password):\n",
    "    \"\"\"This function checks if the pass is strong or not\"\"\"\n",
    "    if len(password)<8:\n",
    "        return False\n",
    "    if not any(char.isdigit() for char in password):\n",
    "        return False\n",
    "    if not any(char.islower() for char in password):\n",
    "        return False\n",
    "    if not any(char.isupper() for char in password):\n",
    "        return False\n",
    "    if not any(char in \"!@#$%^&*()_+\" for char in password):\n",
    "        return False\n",
    "    return True\n",
    "\n",
    "# calling the function\n",
    "print(is_strong_password(\"WeakPwd\"))\n",
    "print(is_strong_password(\"STr0ngPwd!\"))"
   ]
  },
  {
   "cell_type": "markdown",
   "id": "7db015d2",
   "metadata": {},
   "source": [
    "## Calculate the total cost of items in a shopping card"
   ]
  },
  {
   "cell_type": "code",
   "execution_count": 9,
   "id": "abd78ef2",
   "metadata": {},
   "outputs": [
    {
     "name": "stdout",
     "output_type": "stream",
     "text": [
      "8.5\n"
     ]
    }
   ],
   "source": [
    "def calculate_total_cost(cart):\n",
    "    total_cost = 0\n",
    "    for item in cart:\n",
    "        total_cost+=item['price']* item['quantity']\n",
    "    return total_cost\n",
    "\n",
    "\n",
    "## cart data\n",
    "\n",
    "cart = [\n",
    "    {'name':'Apple','price':0.2,'quantity':5},\n",
    "    {'name':'banana','price':0.4,'quantity':6},\n",
    "    {'name':'orange','price':0.3,'quantity':3},\n",
    "    {'name':'kivi','price':0.6,'quantity':7}\n",
    "]\n",
    "\n",
    "#calling function \n",
    "\n",
    "total_cost = calculate_total_cost(cart)\n",
    "print(total_cost)"
   ]
  },
  {
   "cell_type": "markdown",
   "id": "6525a61a",
   "metadata": {},
   "source": [
    "## Check if string is palindrome"
   ]
  },
  {
   "cell_type": "code",
   "execution_count": 11,
   "id": "3854ea00",
   "metadata": {},
   "outputs": [
    {
     "name": "stdout",
     "output_type": "stream",
     "text": [
      "True\n",
      "False\n"
     ]
    }
   ],
   "source": [
    "def is_palindrome(s):\n",
    "    s=s.lower().replace(\" \",\"\")\n",
    "    return s==s[::-1]\n",
    "print(is_palindrome(\"A man a plan a canal panama\"))\n",
    "print(is_palindrome(\"Hello\"))"
   ]
  },
  {
   "cell_type": "markdown",
   "id": "52feddec",
   "metadata": {},
   "source": [
    "## factorials of a number uning recursion"
   ]
  },
  {
   "cell_type": "code",
   "execution_count": 12,
   "id": "a7d6f653",
   "metadata": {},
   "outputs": [
    {
     "name": "stdout",
     "output_type": "stream",
     "text": [
      "720\n"
     ]
    }
   ],
   "source": [
    "def factorial(n):\n",
    "    if n == 0:\n",
    "        return 1\n",
    "    else:\n",
    "        return n * factorial(n-1)\n",
    "print(factorial(6))"
   ]
  },
  {
   "cell_type": "markdown",
   "id": "0ea7a4bd",
   "metadata": {},
   "source": [
    "## Read a file and count frequency of each word"
   ]
  },
  {
   "cell_type": "code",
   "execution_count": 16,
   "id": "43168de4",
   "metadata": {},
   "outputs": [
    {
     "name": "stdout",
     "output_type": "stream",
     "text": [
      "{'hey': 1, 'i': 1, 'am': 1, 'anmol': 1, 'testing': 1, 'functions': 2, 'how': 1, 'to': 1, 'run': 1}\n"
     ]
    }
   ],
   "source": [
    "def count_word_frequency(file_path):\n",
    "    word_count={}\n",
    "    with open(file_path, \"r\") as file:\n",
    "        for line in file:\n",
    "            words= line.split()\n",
    "            for word in words:\n",
    "                word = word.lower().strip('.,?!:;\\\"')\n",
    "                word_count[word]=word_count.get(word,0)+1\n",
    "    return word_count\n",
    "\n",
    "filepath = \"sample.txt\"\n",
    "word_frequency = count_word_frequency(filepath)\n",
    "print(word_frequency)"
   ]
  },
  {
   "cell_type": "markdown",
   "id": "86fc495e",
   "metadata": {},
   "source": [
    "## Validata Email Address"
   ]
  },
  {
   "cell_type": "code",
   "execution_count": 19,
   "id": "87380fe0",
   "metadata": {},
   "outputs": [
    {
     "name": "stdout",
     "output_type": "stream",
     "text": [
      "True\n",
      "False\n"
     ]
    }
   ],
   "source": [
    "import re\n",
    "\n",
    "def valid_email(email):\n",
    "    pattern = r'^[a-zA-Z0-9_.+-]+@[a-zA-Z0-9-]+\\.[a-zA-Z0-9.-]+$'\n",
    "    return re.match(pattern, email) is not None\n",
    "print(valid_email(\"test@example.com\"))\n",
    "print(valid_email(\"invalid_email\"))"
   ]
  },
  {
   "cell_type": "code",
   "execution_count": null,
   "id": "512d0cf9",
   "metadata": {},
   "outputs": [],
   "source": []
  }
 ],
 "metadata": {
  "kernelspec": {
   "display_name": "Python 3",
   "language": "python",
   "name": "python3"
  },
  "language_info": {
   "codemirror_mode": {
    "name": "ipython",
    "version": 3
   },
   "file_extension": ".py",
   "mimetype": "text/x-python",
   "name": "python",
   "nbconvert_exporter": "python",
   "pygments_lexer": "ipython3",
   "version": "3.12.0"
  }
 },
 "nbformat": 4,
 "nbformat_minor": 5
}
