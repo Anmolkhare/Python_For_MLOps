{
 "cells": [
  {
   "cell_type": "code",
   "execution_count": 1,
   "id": "c19f9d71",
   "metadata": {},
   "outputs": [
    {
     "name": "stdout",
     "output_type": "stream",
     "text": [
      "Current working directory is /Users/anmolkhare/Documents/Mlops/MLOps_Coding/6-File Handling\n"
     ]
    }
   ],
   "source": [
    "import os\n",
    "cws= os.getcwd()\n",
    "print(f\"Current working directory is {cws}\")"
   ]
  },
  {
   "cell_type": "code",
   "execution_count": 2,
   "id": "b826585e",
   "metadata": {},
   "outputs": [
    {
     "name": "stdout",
     "output_type": "stream",
     "text": [
      "Directory'package' create\n"
     ]
    }
   ],
   "source": [
    "# create a new directory\n",
    "new_directory = \"package\"\n",
    "os.mkdir(new_directory)\n",
    "print(f\"Directory'{new_directory}' create\")"
   ]
  },
  {
   "cell_type": "code",
   "execution_count": 3,
   "id": "2000bf09",
   "metadata": {},
   "outputs": [
    {
     "name": "stdout",
     "output_type": "stream",
     "text": [
      "['destination.txt', 'fileopenrastion.ipynb', 'example.bin', 'example.txt', '6.2-filepath.ipynb', 'package']\n"
     ]
    }
   ],
   "source": [
    "# listing files and directories\n",
    "items = os.listdir('.')\n",
    "print(items)"
   ]
  },
  {
   "cell_type": "code",
   "execution_count": 4,
   "id": "0fbe0774",
   "metadata": {},
   "outputs": [
    {
     "name": "stdout",
     "output_type": "stream",
     "text": [
      "/Users/anmolkhare/Documents/Mlops/MLOps_Coding/6-File Handling/folder/file.txt\n"
     ]
    }
   ],
   "source": [
    "# Join paths\n",
    "dir_name = \"folder\"\n",
    "file_name=\"file.txt\"\n",
    "full_path =os.path.join(os.getcwd(),dir_name,file_name)\n",
    "print(full_path)"
   ]
  },
  {
   "cell_type": "code",
   "execution_count": 6,
   "id": "aa508aff",
   "metadata": {},
   "outputs": [
    {
     "name": "stdout",
     "output_type": "stream",
     "text": [
      "The path 'example1.txt' does not exists\n"
     ]
    }
   ],
   "source": [
    "path = 'example1.txt' \n",
    "if os.path.exists(path):\n",
    "    print(f\"The path '{path}' exists\")\n",
    "else:\n",
    "    print(f\"The path '{path}' does not exists\")\n"
   ]
  },
  {
   "cell_type": "code",
   "execution_count": null,
   "id": "310caec9",
   "metadata": {},
   "outputs": [],
   "source": []
  }
 ],
 "metadata": {
  "kernelspec": {
   "display_name": "venv",
   "language": "python",
   "name": "python3"
  },
  "language_info": {
   "codemirror_mode": {
    "name": "ipython",
    "version": 3
   },
   "file_extension": ".py",
   "mimetype": "text/x-python",
   "name": "python",
   "nbconvert_exporter": "python",
   "pygments_lexer": "ipython3",
   "version": "3.12.9"
  }
 },
 "nbformat": 4,
 "nbformat_minor": 5
}
