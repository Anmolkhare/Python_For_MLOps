{
 "cells": [
  {
   "cell_type": "markdown",
   "id": "d1d2f93f",
   "metadata": {},
   "source": [
    "# 📂 File Operations in Python\n",
    "\n",
    "File handling is an essential part of many Python programs, allowing you to read from and write to files stored on your system. Python provides a simple and efficient way to work with files using built-in functions and methods.\n",
    "\n",
    "## What Are File Operations?\n",
    "\n",
    "File operations refer to the actions performed to create, open, read, write, and close files. Files can be text files, binary files, or other types. Python treats files as objects and provides many methods to manipulate them.\n",
    "\n",
    "---\n",
    "\n",
    "## Key File Operation Concepts\n",
    "\n",
    "- **Opening a file:** Use the `open()` function to open a file. It returns a file object.\n",
    "- **Modes:** Files can be opened in various modes like read (`'r'`), write (`'w'`), append (`'a'`), binary (`'b'`), etc.\n",
    "- **Reading a file:** Read content using methods like `.read()`, `.readline()`, or `.readlines()`.\n",
    "- **Writing to a file:** Write content using `.write()` or `.writelines()`.\n",
    "- **Closing a file:** Always close the file after operations using `.close()` or use `with` statement for automatic closing.\n",
    "- **Handling exceptions:** Use `try-except` blocks to handle errors such as file not found or permission issues.\n",
    "\n",
    "---\n",
    "\n",
    "## Types of File Operations\n",
    "\n",
    "| Operation         | Description                                                  |\n",
    "|-------------------|--------------------------------------------------------------|\n",
    "| Create a file     | Opens a new file for writing (creates if not exists)         |\n",
    "| Read a file       | Opens and reads the content of a file                        |\n",
    "| Write to a file   | Write or overwrite content in a file                         |\n",
    "| Append to a file  | Add content to the end of an existing file                   |\n",
    "| Delete a file     | Remove a file from the filesystem (`os.remove()`)            |\n",
    "| Rename a file     | Rename or move a file using `os.rename()`                    |\n",
    "\n",
    "---\n",
    "\n",
    "## Why Are File Operations Important?\n",
    "\n",
    "- **Data storage:** Save and retrieve data persistently.\n",
    "- **Data processing:** Read input files, process data, and write results.\n",
    "- **Automation:** Automate repetitive tasks involving files.\n",
    "- **Logging:** Keep logs of program execution for debugging or analysis.\n",
    "\n",
    "---\n",
    "\n",
    "## Practical Tips\n",
    "\n",
    "- Prefer using the `with open() as file:` syntax to ensure proper resource management.\n",
    "- Always specify the file mode explicitly to avoid accidental data loss.\n",
    "- Handle exceptions to create robust file-handling code.\n",
    "- Use modules like `os` and `shutil` for advanced file operations.\n",
    "\n",
    "---\n",
    "\n",
    "Stay tuned for detailed examples and exercises to master Python file operations! 🚀\n",
    "```"
   ]
  },
  {
   "cell_type": "code",
   "execution_count": 2,
   "id": "7ec4ba37",
   "metadata": {},
   "outputs": [
    {
     "name": "stdout",
     "output_type": "stream",
     "text": [
      "hello \n",
      "how are you \n",
      "what's going on\n",
      "\n"
     ]
    }
   ],
   "source": [
    "# Read the whole file\n",
    "\n",
    "with open('example.txt','r') as file:\n",
    "    content=file.read()\n",
    "    print(content)"
   ]
  },
  {
   "cell_type": "code",
   "execution_count": 9,
   "id": "69e43ae1",
   "metadata": {},
   "outputs": [
    {
     "name": "stdout",
     "output_type": "stream",
     "text": [
      "Hello World!\n",
      "This is new line\n"
     ]
    }
   ],
   "source": [
    "# Read file line by line\n",
    "with open('example.txt','r') as file:\n",
    "    for line in file:\n",
    "        print(line.strip()) "
   ]
  },
  {
   "cell_type": "code",
   "execution_count": 8,
   "id": "7e5475fd",
   "metadata": {},
   "outputs": [],
   "source": [
    "# writeing a file(Overwriting)\n",
    "\n",
    "with open(\"example.txt\",\"w\") as file:\n",
    "    file.write(\"Hello World!\\n\")\n",
    "    file.write(\"This is new line\")"
   ]
  },
  {
   "cell_type": "code",
   "execution_count": null,
   "id": "481ff23c",
   "metadata": {},
   "outputs": [],
   "source": [
    "# write a file without overwriteing\n",
    "with open('example.txt', 'a') as file:\n",
    "    file.write(\"\\nAppend operation taking place!\\n\")"
   ]
  },
  {
   "cell_type": "code",
   "execution_count": 12,
   "id": "d01173d4",
   "metadata": {},
   "outputs": [],
   "source": [
    "# writing a list of lines to a files:\n",
    "lines = ['First line \\n', 'Second line \\n', 'Thrid line \\n']\n",
    "with open('example.txt','a') as file:\n",
    "    file.writelines(lines)"
   ]
  },
  {
   "cell_type": "code",
   "execution_count": null,
   "id": "76e3cead",
   "metadata": {},
   "outputs": [],
   "source": [
    "# Writing Binary Files\n",
    "data = b'\\x00\\x01\\x02\\x03\\x04'\n",
    "with open(\"example.bin\",\"wb\") as file:\n",
    "    file.write(data)"
   ]
  },
  {
   "cell_type": "code",
   "execution_count": 15,
   "id": "c987ed12",
   "metadata": {},
   "outputs": [
    {
     "name": "stdout",
     "output_type": "stream",
     "text": [
      "b'\\x00\\x01\\x02\\x03\\x04'\n"
     ]
    }
   ],
   "source": [
    "# Readng Binary Files\n",
    "data = b'\\x00\\x01\\x02\\x03\\x04'\n",
    "with open(\"example.bin\",\"rb\") as file:\n",
    "    content = file.read()\n",
    "    print(content)"
   ]
  },
  {
   "cell_type": "code",
   "execution_count": 16,
   "id": "f54b0513",
   "metadata": {},
   "outputs": [],
   "source": [
    "# Copying file\n",
    "with open(\"example.txt\",\"r\") as source_file:\n",
    "    content = source_file.read()\n",
    "with open(\"destination.txt\",\"w\") as destination_file:\n",
    "    destination_file.write(content)\n",
    "\n"
   ]
  },
  {
   "cell_type": "code",
   "execution_count": 25,
   "id": "38303589",
   "metadata": {},
   "outputs": [
    {
     "name": "stdout",
     "output_type": "stream",
     "text": [
      "Hello world \n",
      "This is a new line \n",
      "\n"
     ]
    }
   ],
   "source": [
    "# Write and then reading a file\n",
    "with open(\"example.txt\",\"w+\") as file:\n",
    "    file.write(\"Hello world \\n\")\n",
    "    file.write(\"This is a new line \\n\")\n",
    "\n",
    "    # Move the file cousor to the beginning\n",
    "    file.seek(0)\n",
    "    content = file.read()\n",
    "    print(content)"
   ]
  },
  {
   "cell_type": "markdown",
   "id": "e49f7902",
   "metadata": {},
   "source": [
    "# 📝 Practice Questions: File Operations in Python\n",
    "\n",
    "1. **Write a Python program to create a new text file named `sample.txt` and write the sentence \"Hello, Python!\" into it.**  \n",
    "   *Hint: Use `open()` with mode `'w'` and `.write()` method.*\n",
    "\n",
    "2. **Read the contents of `sample.txt` and print them to the console.**  \n",
    "   *Hint: Use `open()` with mode `'r'` and `.read()` method.*\n",
    "\n",
    "3. **Append the line \"Welcome to file handling in Python.\" to `sample.txt`.**  \n",
    "   *Hint: Use mode `'a'` to append.*\n",
    "\n",
    "4. **Write a program to count the number of lines in a file called `data.txt`.**  \n",
    "   *Hint: Use `.readlines()` and `len()`.*\n",
    "\n",
    "5. **Write a program to copy the content of one file (`source.txt`) to another file (`destination.txt`).**  \n",
    "   *Hint: Read from source, write to destination.*\n",
    "\n",
    "6. **Write a Python program to read a file line by line and print only the lines that contain the word \"Python\".**  \n",
    "   *Hint: Use a loop to iterate over the file object.*\n",
    "\n",
    "7. **Open a file and read only the first 10 characters.**  \n",
    "   *Hint: Use the `.read(size)` method.*\n",
    "\n",
    "8. **Write a program to check if a file named `log.txt` exists in the current directory. If it does, print \"File exists\". If not, print \"File does not exist\".**  \n",
    "   *Hint: Use the `os.path.exists()` function.*\n",
    "\n",
    "9. **Write a program to rename a file from `oldname.txt` to `newname.txt`.**  \n",
    "   *Hint: Use `os.rename()` from the `os` module.*\n",
    "\n",
    "10. **Write a program to delete a file named `temp.txt` if it exists.**  \n",
    "    *Hint: Use `os.remove()` and check for existence before deleting.*\n",
    "\n",
    "11. **Write a program that reads a CSV file named `data.csv` and prints each row as a list.**  \n",
    "    *Hint: Use the `csv` module and `csv.reader()`.*\n",
    "\n",
    "12. **Write a program that writes a list of strings to a file, each string on a new line.**  \n",
    "    *Hint: Use a loop with `.write()` or `.writelines()`.*\n",
    "\n",
    "13. **Write a program to open a file in binary mode and read the first 5 bytes.**  \n",
    "    *Hint: Use mode `'rb'`.*\n",
    "\n",
    "14. **Write a program to copy all `.txt` files from one directory to another.**  \n",
    "    *Hint: Use `os` and `shutil` modules.*\n",
    "\n",
    "15. **Write a program that uses exception handling to manage errors while opening a non-existent file.**  \n",
    "    *Hint: Use `try-except` blocks.*\n",
    "\n",
    "---\n",
    "\n",
    "Feel free to try these out to master file operations in Python! 🔥\n",
    "```\n"
   ]
  },
  {
   "cell_type": "code",
   "execution_count": null,
   "id": "59b5a3ef",
   "metadata": {},
   "outputs": [],
   "source": []
  }
 ],
 "metadata": {
  "kernelspec": {
   "display_name": "venv",
   "language": "python",
   "name": "python3"
  },
  "language_info": {
   "codemirror_mode": {
    "name": "ipython",
    "version": 3
   },
   "file_extension": ".py",
   "mimetype": "text/x-python",
   "name": "python",
   "nbconvert_exporter": "python",
   "pygments_lexer": "ipython3",
   "version": "3.12.9"
  }
 },
 "nbformat": 4,
 "nbformat_minor": 5
}
