{
 "cells": [
  {
   "cell_type": "markdown",
   "id": "a658c022",
   "metadata": {},
   "source": [
    "## 📊 Python Data Types\n",
    "\n",
    "Python is a dynamically typed language, which means you don't need to declare the type of a variable explicitly. Python provides several built-in data types to store different kinds of data.\n",
    "\n",
    "---\n",
    "\n",
    "### 🔹 Basic Data Types\n",
    "\n",
    "| Data Type     | Description                                | Example                   |\n",
    "|---------------|--------------------------------------------|---------------------------|\n",
    "| `int`         | Integer numbers                            | `x = 10`                  |\n",
    "| `float`       | Floating point (decimal) numbers           | `price = 19.99`           |\n",
    "| `str`         | Sequence of Unicode characters (strings)   | `name = \"Anmol\"`          |\n",
    "| `bool`        | Boolean value (`True` or `False`)          | `is_valid = True`         |\n",
    "| `NoneType`    | Represents absence of a value              | `result = None`           |\n",
    "\n",
    "---\n",
    "\n",
    "### 🔹 Collection Data Types\n",
    "\n",
    "| Data Type     | Description                                | Example                                 |\n",
    "|---------------|--------------------------------------------|-----------------------------------------|\n",
    "| `list`        | Ordered, mutable collection                | `fruits = [\"apple\", \"banana\"]`          |\n",
    "| `tuple`       | Ordered, immutable collection              | `coordinates = (10.0, 20.0)`            |\n",
    "| `set`         | Unordered, unique items                   | `unique_ids = {101, 102, 103}`          |\n",
    "| `dict`        | Key-value pairs (dictionary)              | `person = {\"name\": \"Anmol\", \"age\": 25}` |\n",
    "\n",
    "---\n",
    "\n",
    "### 🔹 Type Checking\n",
    "\n",
    "You can use the type() function to check the data type of a variable:\n",
    "\n",
    "```python\n",
    "x = 42\n",
    "print(type(x))  # <class 'int'>\n"
   ]
  },
  {
   "cell_type": "markdown",
   "id": "394da568",
   "metadata": {},
   "source": [
    "### 🎯 Bonus: Type Casting\n",
    "Convert from one type to another using built-in functions:"
   ]
  },
  {
   "cell_type": "markdown",
   "id": "fcade536",
   "metadata": {},
   "source": [
    "## 🔄 Type Casting in Python\n",
    "\n",
    "Type casting allows you to convert data from one type to another.\n",
    "\n",
    "### 🧪 Examples:\n",
    "\n",
    "```python\n",
    "x = int(\"10\")         # String to Integer → 10\n",
    "y = float(\"3.14\")     # String to Float   → 3.14\n",
    "z = str(100)          # Integer to String → \"100\"\n",
    "a = list(\"hello\")     # String to List    → ['h', 'e', 'l', 'l', 'o']\n",
    "b = tuple([1, 2, 3])  # List to Tuple     → (1, 2, 3)\n",
    "c = set([1, 2, 2, 3]) # List to Set       → {1, 2, 3}\n"
   ]
  },
  {
   "cell_type": "code",
   "execution_count": null,
   "id": "5676c2f9",
   "metadata": {},
   "outputs": [],
   "source": [
    "int(\"5\")       # ➡️ 5\n",
    "float(\"3.14\")  # ➡️ 3.14\n",
    "str(100)       # ➡️ \"100\"\n",
    "list(\"abc\")    # ➡️ ['a', 'b', 'c']"
   ]
  },
  {
   "cell_type": "markdown",
   "id": "4f7eae51",
   "metadata": {},
   "source": []
  }
 ],
 "metadata": {
  "kernelspec": {
   "display_name": "Python 3",
   "language": "python",
   "name": "python3"
  },
  "language_info": {
   "codemirror_mode": {
    "name": "ipython",
    "version": 3
   },
   "file_extension": ".py",
   "mimetype": "text/x-python",
   "name": "python",
   "nbconvert_exporter": "python",
   "pygments_lexer": "ipython3",
   "version": "3.12.0"
  }
 },
 "nbformat": 4,
 "nbformat_minor": 5
}
