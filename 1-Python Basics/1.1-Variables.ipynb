{
 "cells": [
  {
   "cell_type": "markdown",
   "id": "0cf9065c",
   "metadata": {},
   "source": [
    "## 🧠 Variables in Python\n",
    "\n",
    "Variables are containers for storing data values. In Python, you don’t need to declare the type of variable explicitly — it’s dynamically typed.\n",
    "\n",
    "### ✅ Key Concepts:\n",
    "\n",
    "- Variables are created the moment you assign a value.\n",
    "- The equal sign (=) is used to assign values.\n",
    "- Variable names should be meaningful and follow naming conventions.\n",
    "\n",
    "### 📌 Syntax:\n",
    "#### Assigning values :\n",
    "```python"
   ]
  },
  {
   "cell_type": "code",
   "execution_count": 3,
   "id": "ae280ed5",
   "metadata": {},
   "outputs": [
    {
     "name": "stdout",
     "output_type": "stream",
     "text": [
      "name : Anmol\n",
      "age : 23\n",
      "pi : 3.14159\n",
      "is_active : True\n"
     ]
    }
   ],
   "source": [
    "name = \"Anmol\"\n",
    "age = 23\n",
    "pi = 3.14159\n",
    "is_active = True\n",
    "\n",
    "## printing variables\n",
    "print(\"name :\", name)\n",
    "print(\"age :\", age)\n",
    "print(\"pi :\", pi)\n",
    "print(\"is_active :\", is_active)"
   ]
  },
  {
   "cell_type": "markdown",
   "id": "715b3ddc",
   "metadata": {},
   "source": [
    "## 📝 Python Variable Naming Rules\n",
    "\n",
    "When naming variables in Python, follow these best practices and rules to ensure clarity and avoid syntax errors:\n",
    "\n",
    "### ✅ Basic Rules\n",
    "\n",
    "1. 🔤 Variable names must start with a letter (A–Z or a–z) or an underscore `_`.\n",
    "   - Examples: `name`, `_count`\n",
    "\n",
    "2. 🔢 Variable names cannot start with a digit.\n",
    "   - ❌ Invalid: `2name = \"John\"`\n",
    "\n",
    "3. 🔡 Variable names can contain letters, digits, and underscores.\n",
    "   - Valid: `student_name`, `age2`, `user_id`\n",
    "\n",
    "4. 🚫 You cannot use Python reserved keywords as variable names.\n",
    "   - ❌ Invalid: `for = 5`, `class = \"Math\"`\n",
    "\n",
    "5. 🔠 Variable names are case-sensitive.\n",
    "   - `Name` and `name` are considered different variables.\n",
    "\n",
    "6. ⚠️ No spaces allowed in variable names. Use underscores `_` instead.\n",
    "   - ❌ Invalid: `student name = \"Alice\"`\n",
    "   - ✅ Correct: `student_name = \"Alice\"`\n",
    "\n",
    "### 💡 Best Practices\n",
    "\n",
    "- Use lowercase letters with underscores (snake_case) for better readability.\n",
    "- Choose meaningful names that describe the value or purpose.\n",
    "  - ❌ Avoid: `x = 5`\n",
    "  - ✅ Prefer: `score = 5`\n",
    "\n",
    "---\n",
    "\n",
    "🧪 Example:\n",
    "\n",
    "```python\n",
    "# Valid variable names\n",
    "user_name = \"Anmol\"\n",
    "age = 30\n",
    "_total_score = 95.5\n"
   ]
  },
  {
   "cell_type": "markdown",
   "id": "563b99c6",
   "metadata": {},
   "source": [
    "### 🧪 Example:"
   ]
  },
  {
   "cell_type": "markdown",
   "id": "2d463011",
   "metadata": {},
   "source": []
  },
  {
   "cell_type": "code",
   "execution_count": 1,
   "id": "18bd10d1",
   "metadata": {},
   "outputs": [],
   "source": [
    "# Valid variable declarations\n",
    "company = \"OpenAI\"\n",
    "years_of_experience = 5\n",
    "_salary = 75000.50"
   ]
  },
  {
   "cell_type": "markdown",
   "id": "087b9aa2",
   "metadata": {},
   "source": [
    "### ⚠️ Common Mistakes:\n"
   ]
  },
  {
   "cell_type": "code",
   "execution_count": 2,
   "id": "9dc3a9cb",
   "metadata": {},
   "outputs": [
    {
     "ename": "SyntaxError",
     "evalue": "invalid decimal literal (3107304663.py, line 1)",
     "output_type": "error",
     "traceback": [
      "  \u001b[36mCell\u001b[39m\u001b[36m \u001b[39m\u001b[32mIn[2]\u001b[39m\u001b[32m, line 1\u001b[39m\n\u001b[31m    \u001b[39m\u001b[31m2cool = \"no\"       # ❌ Invalid: Starts with a number\u001b[39m\n    ^\n\u001b[31mSyntaxError\u001b[39m\u001b[31m:\u001b[39m invalid decimal literal\n"
     ]
    }
   ],
   "source": [
    "2cool = \"no\"       # ❌ Invalid: Starts with a number\n",
    "my variable = 10   # ❌ Invalid: Contains space\n",
    "class = \"Math\"     # ❌ Invalid: 'class' is a keyword"
   ]
  },
  {
   "cell_type": "markdown",
   "id": "31c10cd1",
   "metadata": {},
   "source": [
    "### 💡 Pro Tip:\n",
    "Use lowercase letters with underscores (snake_case) for variable names to follow Pythonic conventions.\n",
    "\n",
    "### 🔗 Explore more:\n",
    "[PEP8 Variable Naming Guide](https://peps.python.org/pep-0008/#naming-conventions)"
   ]
  },
  {
   "cell_type": "code",
   "execution_count": 4,
   "id": "0b47d362",
   "metadata": {},
   "outputs": [
    {
     "name": "stdout",
     "output_type": "stream",
     "text": [
      "<class 'int'>\n"
     ]
    }
   ],
   "source": [
    "## Variables types\n",
    "## python is dynamically typed\n",
    "age = 25 # integer\n",
    "height=6.1 # float\n",
    "is_student=True # boolean\n",
    "name=\"John\" # string\n",
    "\n",
    "print(type(age)) # <class 'int'>"
   ]
  },
  {
   "cell_type": "code",
   "execution_count": 5,
   "id": "e3927118",
   "metadata": {},
   "outputs": [
    {
     "name": "stdout",
     "output_type": "stream",
     "text": [
      "<class 'int'>\n"
     ]
    }
   ],
   "source": [
    "## Type checking and conversion\n",
    "print(type(age)) # <class 'int'>"
   ]
  },
  {
   "cell_type": "code",
   "execution_count": 7,
   "id": "d940eae4",
   "metadata": {},
   "outputs": [
    {
     "name": "stdout",
     "output_type": "stream",
     "text": [
      "<class 'int'>\n",
      "<class 'str'>\n"
     ]
    }
   ],
   "source": [
    "age = 25 \n",
    "print(type(age))\n",
    "\n",
    "# Type conversion \n",
    "age_str=str(age) \n",
    "print(type(age_str)) # <class 'str'>"
   ]
  },
  {
   "cell_type": "code",
   "execution_count": 9,
   "id": "ed6094c4",
   "metadata": {},
   "outputs": [
    {
     "name": "stdout",
     "output_type": "stream",
     "text": [
      "<class 'int'>\n"
     ]
    }
   ],
   "source": [
    "age='25'\n",
    "age_int=int(age)\n",
    "print(type(age_int)) # <class 'int'>"
   ]
  },
  {
   "cell_type": "code",
   "execution_count": 10,
   "id": "8c9526a2",
   "metadata": {},
   "outputs": [
    {
     "ename": "ValueError",
     "evalue": "invalid literal for int() with base 10: 'John'",
     "output_type": "error",
     "traceback": [
      "\u001b[31m---------------------------------------------------------------------------\u001b[39m",
      "\u001b[31mValueError\u001b[39m                                Traceback (most recent call last)",
      "\u001b[36mCell\u001b[39m\u001b[36m \u001b[39m\u001b[32mIn[10]\u001b[39m\u001b[32m, line 2\u001b[39m\n\u001b[32m      1\u001b[39m name = \u001b[33m\"\u001b[39m\u001b[33mJohn\u001b[39m\u001b[33m\"\u001b[39m\n\u001b[32m----> \u001b[39m\u001b[32m2\u001b[39m \u001b[38;5;28;43mint\u001b[39;49m\u001b[43m(\u001b[49m\u001b[43mname\u001b[49m\u001b[43m)\u001b[49m \u001b[38;5;66;03m# ❌ Invalid: Cannot convert string to int\u001b[39;00m\n",
      "\u001b[31mValueError\u001b[39m: invalid literal for int() with base 10: 'John'"
     ]
    }
   ],
   "source": [
    "name = \"John\"\n",
    "int(name) # ❌ Invalid: Cannot convert string to int"
   ]
  },
  {
   "cell_type": "markdown",
   "id": "5fc57579",
   "metadata": {},
   "source": []
  },
  {
   "cell_type": "code",
   "execution_count": 11,
   "id": "545e3e16",
   "metadata": {},
   "outputs": [
    {
     "data": {
      "text/plain": [
       "float"
      ]
     },
     "execution_count": 11,
     "metadata": {},
     "output_type": "execute_result"
    }
   ],
   "source": [
    "heigt=5.11\n",
    "type(heigt) # <class 'float'>"
   ]
  },
  {
   "cell_type": "code",
   "execution_count": 14,
   "id": "cc23a32c",
   "metadata": {},
   "outputs": [
    {
     "name": "stdout",
     "output_type": "stream",
     "text": [
      "<class 'str'>\n"
     ]
    }
   ],
   "source": [
    "age = 25\n",
    "age_str = str(age) # Convert int to string\n",
    "print(type(age_str)) # <class 'str'>"
   ]
  },
  {
   "cell_type": "code",
   "execution_count": 15,
   "id": "b50b9a80",
   "metadata": {},
   "outputs": [
    {
     "name": "stdout",
     "output_type": "stream",
     "text": [
      "<class 'int'>\n",
      "<class 'str'>\n",
      "<class 'int'>\n"
     ]
    }
   ],
   "source": [
    "## Dynamic Typing\n",
    "## Python allows the type of a variable to change as the progrm executes \n",
    "age = 25\n",
    "print(type(age)) # <class 'int'>\n",
    "age = \"twenty-five\"\n",
    "print(type(age)) # <class 'str'>\n",
    "age = 25\n",
    "print(type(age)) # <class 'int'>"
   ]
  },
  {
   "cell_type": "code",
   "execution_count": 19,
   "id": "e6a6ceea",
   "metadata": {},
   "outputs": [
    {
     "name": "stdout",
     "output_type": "stream",
     "text": [
      "25 <class 'int'>\n"
     ]
    }
   ],
   "source": [
    "## Input \n",
    "age = int(input(\"What is your age? \"))\n",
    "print(age, type(age))"
   ]
  },
  {
   "cell_type": "code",
   "execution_count": 20,
   "id": "fd434e53",
   "metadata": {},
   "outputs": [
    {
     "name": "stdout",
     "output_type": "stream",
     "text": [
      "Sum: 10.0\n",
      "Difference: 0.0\n",
      "Product: 25.0\n",
      "Quotient: 1.0\n"
     ]
    }
   ],
   "source": [
    "### Simple calculator\n",
    "num1 = float(input(\"Enter first number: \"))\n",
    "num2 = float(input(\"Enter second number: \"))\n",
    "\n",
    "sum = num1 + num2\n",
    "diff = num1 - num2\n",
    "product = num1 * num2\n",
    "quotient = num1 / num2\n",
    "\n",
    "print(\"Sum:\", sum)\n",
    "print(\"Difference:\", diff)\n",
    "print(\"Product:\", product)\n",
    "print(\"Quotient:\", quotient)\n"
   ]
  },
  {
   "cell_type": "code",
   "execution_count": null,
   "id": "a2b5a308",
   "metadata": {},
   "outputs": [],
   "source": []
  }
 ],
 "metadata": {
  "kernelspec": {
   "display_name": "Python 3",
   "language": "python",
   "name": "python3"
  },
  "language_info": {
   "codemirror_mode": {
    "name": "ipython",
    "version": 3
   },
   "file_extension": ".py",
   "mimetype": "text/x-python",
   "name": "python",
   "nbconvert_exporter": "python",
   "pygments_lexer": "ipython3",
   "version": "3.12.0"
  }
 },
 "nbformat": 4,
 "nbformat_minor": 5
}
