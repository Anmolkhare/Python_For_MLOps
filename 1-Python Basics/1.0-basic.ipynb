{
 "cells": [
  {
   "cell_type": "markdown",
   "id": "52b28ccb",
   "metadata": {},
   "source": [
    "📘 Syntax and Semantics in Python\n",
    "🔸 Understanding the Language Behind the Code\n",
    "\n",
    "---\n",
    "\n",
    "## 🧠 Why Syntax and Semantics Matter\n",
    "\n",
    "Ever wondered why Python code sometimes throws errors even when it \"looks\" right?\n",
    "Syntax and semantics are the foundations of writing effective Python programs. Mastering them means writing clean, error-free code — and understanding the “why” behind every line.\n",
    "\n",
    "---\n",
    "\n",
    "## 🔍 What You'll Learn in This Lesson\n",
    "\n",
    "📌 Single-line & Multi-line Comments\n",
    "📌 What is Syntax? What is Semantics?\n",
    "📌 Basic Syntax Rules in Python\n",
    "📌 How Python Understands Meaning (Semantics)\n",
    "📌 Common Syntax Errors & How to Avoid Them\n",
    "📌 Real-World Examples with Code\n",
    "\n",
    "---\n",
    "\n",
    "## 🎯 Key Concepts Explained\n",
    "\n",
    "### 🔹 Syntax\n",
    "\n",
    "> Syntax refers to the set of rules that defines the combinations of symbols that are considered correctly structured programs in a language.\n",
    "> In simple terms: it’s the grammar of Python.\n",
    "\n",
    "✅ Example:\n",
    "\n",
    "```python\n",
    "# Correct Syntax\n",
    "print(\"Hello, World!\")\n",
    "\n",
    "# Incorrect Syntax (missing parenthesis)\n",
    "print \"Hello, World!\"  # ❌ SyntaxError\n",
    "```\n",
    "\n",
    "### 🔹 Semantics\n",
    "\n",
    "> Semantics refers to the meaning of the code — how Python interprets what you write.\n",
    "\n",
    "✅ Example:\n",
    "\n",
    "```python\n",
    "# This is syntactically correct but semantically wrong\n",
    "x = \"10\"\n",
    "y = x + 5  # ❌ TypeError: can’t add str and int\n",
    "```\n",
    "\n",
    "---\n",
    "\n",
    "## 🚀 Practice Now\n",
    "\n",
    "✅ Use both single-line (#) and multi-line (''' or \"\"\") comments\n",
    "✅ Follow indentation rules strictly (Python uses indentation instead of braces)\n",
    "✅ Check for common syntax mistakes before running code\n",
    "✅ Understand both structure (syntax) and meaning (semantics) to write better programs\n",
    "\n",
    "---\n",
    "\n",
    "💡 Pro Tip: When in doubt, run your code in small chunks and read Python error messages — they’re surprisingly helpful.\n",
    "\n",
    "---\n",
    "\n",
    "🎓 Perfect for: Python Beginners, Bootcamp Learners, and Anyone Refreshing Their Basics\n"
   ]
  },
  {
   "cell_type": "code",
   "execution_count": null,
   "id": "c06d4ad8",
   "metadata": {},
   "outputs": [
    {
     "name": "stdout",
     "output_type": "stream",
     "text": [
      "First code\n"
     ]
    }
   ],
   "source": []
  }
 ],
 "metadata": {
  "kernelspec": {
   "display_name": "Python 3",
   "language": "python",
   "name": "python3"
  },
  "language_info": {
   "codemirror_mode": {
    "name": "ipython",
    "version": 3
   },
   "file_extension": ".py",
   "mimetype": "text/x-python",
   "name": "python",
   "nbconvert_exporter": "python",
   "pygments_lexer": "ipython3",
   "version": "3.12.0"
  }
 },
 "nbformat": 4,
 "nbformat_minor": 5
}
