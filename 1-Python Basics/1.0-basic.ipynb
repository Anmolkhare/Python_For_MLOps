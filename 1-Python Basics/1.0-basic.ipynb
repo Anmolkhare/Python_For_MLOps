{
 "cells": [
  {
   "cell_type": "markdown",
   "id": "52b28ccb",
   "metadata": {},
   "source": [
    "📘 Syntax and Semantics in Python\n",
    "🔸 Understanding the Language Behind the Code\n",
    "\n",
    "---\n",
    "\n",
    "## 🧠 Why Syntax and Semantics Matter\n",
    "\n",
    "Ever wondered why Python code sometimes throws errors even when it \"looks\" right?\n",
    "Syntax and semantics are the foundations of writing effective Python programs. Mastering them means writing clean, error-free code — and understanding the “why” behind every line.\n",
    "\n",
    "---\n",
    "\n",
    "## 🔍 What You'll Learn in This Lesson\n",
    "\n",
    "📌 Single-line & Multi-line Comments\n",
    "📌 What is Syntax? What is Semantics?\n",
    "📌 Basic Syntax Rules in Python\n",
    "📌 How Python Understands Meaning (Semantics)\n",
    "📌 Common Syntax Errors & How to Avoid Them\n",
    "📌 Real-World Examples with Code\n",
    "\n",
    "---\n",
    "\n",
    "## 🎯 Key Concepts Explained\n",
    "\n",
    "### 🔹 Syntax\n",
    "\n",
    "> Syntax refers to the set of rules that defines the combinations of symbols that are considered correctly structured programs in a language.\n",
    "> In simple terms: it’s the grammar of Python.\n",
    "\n",
    "✅ Example:\n",
    "\n",
    "```python\n",
    "# Correct Syntax\n",
    "print(\"Hello, World!\")\n",
    "\n",
    "# Incorrect Syntax (missing parenthesis)\n",
    "print \"Hello, World!\"  # ❌ SyntaxError\n",
    "```\n",
    "\n",
    "### 🔹 Semantics\n",
    "\n",
    "> Semantics refers to the meaning of the code — how Python interprets what you write.\n",
    "\n",
    "✅ Example:\n",
    "\n",
    "```python\n",
    "# This is syntactically correct but semantically wrong\n",
    "x = \"10\"\n",
    "y = x + 5  # ❌ TypeError: can’t add str and int\n",
    "```\n",
    "\n",
    "---\n",
    "\n",
    "## 🚀 Practice Now\n",
    "\n",
    "✅ Use both single-line (#) and multi-line (''' or \"\"\") comments\n",
    "✅ Follow indentation rules strictly (Python uses indentation instead of braces)\n",
    "✅ Check for common syntax mistakes before running code\n",
    "✅ Understand both structure (syntax) and meaning (semantics) to write better programs\n",
    "\n",
    "---\n",
    "\n",
    "💡 Pro Tip: When in doubt, run your code in small chunks and read Python error messages — they’re surprisingly helpful.\n",
    "\n",
    "---\n",
    "\n",
    "🎓 Perfect for: Python Beginners, Bootcamp Learners, and Anyone Refreshing Their Basics\n"
   ]
  },
  {
   "cell_type": "code",
   "execution_count": 7,
   "id": "c06d4ad8",
   "metadata": {},
   "outputs": [
    {
     "name": "stdout",
     "output_type": "stream",
     "text": [
      "Anmol\n",
      "anmol01\n"
     ]
    }
   ],
   "source": [
    "## this is single line comment\n",
    "\"\"\"\n",
    "this is a example of a multiple line comment\n",
    "\"\"\"\n",
    "\n",
    "\n",
    "## Case sensitivety - python is case sensitive\n",
    "Name = \"Anmol\"\n",
    "name = \"anmol01\"\n",
    "\n",
    "print(Name)\n",
    "print(name)"
   ]
  },
  {
   "cell_type": "markdown",
   "id": "29810be8",
   "metadata": {},
   "source": [
    "# 📘 Syntax and Semantics in Python\n",
    "\n",
    "---\n",
    "\n",
    "## 🔍 What You'll Learn\n",
    "\n",
    "- ✅ Single-line and multi-line comments\n",
    "- ✅ Definition of Syntax and Semantics\n",
    "- ✅ Basic Syntax Rules in Python\n",
    "- ✅ Understanding Python’s Semantics\n",
    "- ✅ Common Syntax Errors and How to Avoid Them\n",
    "- ✅ Practical Code Examples with Explanations\n",
    "\n",
    "---\n",
    "\n",
    "## 🧠 Syntax vs. Semantics\n",
    "\n",
    "> 💡 Syntax is the grammar of Python—rules that define how to write code.  \n",
    "> 💡 Semantics defines the meaning behind the code—what the instructions actually do.\n",
    "\n",
    "| Concept   | Meaning                                                                 |\n",
    "|-----------|-------------------------------------------------------------------------|\n",
    "| Syntax    | Structure and form (e.g., punctuation, indentation, line breaks)        |\n",
    "| Semantics | Behavior and logic (e.g., what a function does when executed)           |\n",
    "\n",
    "---\n",
    "\n",
    "## ✍️ Comments in Python\n",
    "\n",
    "```python\n",
    "# This is a single-line comment\n",
    "\n",
    "\"\"\"\n",
    "This is a \n",
    "multi-line comment\n",
    "used for documentation\n",
    "\"\"\"\n"
   ]
  },
  {
   "cell_type": "code",
   "execution_count": 8,
   "id": "ecefee48",
   "metadata": {},
   "outputs": [
    {
     "name": "stdout",
     "output_type": "stream",
     "text": [
      "32\n",
      "32\n"
     ]
    }
   ],
   "source": [
    "age =32\n",
    "if age>30:\n",
    "        print(age)\n",
    "\n",
    "print(age)"
   ]
  },
  {
   "cell_type": "markdown",
   "id": "f55eb4b1",
   "metadata": {},
   "source": [
    "# 💬 Comments in Python\n",
    "\n",
    "---\n",
    "\n",
    "## ✨ Why Use Comments?\n",
    "\n",
    "Comments make your code more understandable to others — and to your future self. They help document your thought process, logic, and assumptions.\n",
    "\n",
    "> ✅ Good code is readable.  \n",
    "> ✅ Great code is readable and well-commented.\n",
    "\n",
    "---\n",
    "\n",
    "## 📝 Types of Comments\n",
    "\n",
    "### 🔹 Single-Line Comments\n",
    "\n",
    "Start a line with a hash symbol `#`.\n",
    "\n",
    "```python\n",
    "# This is a single-line comment\n",
    "print(\"Hello, World!\")  # This prints a message\n"
   ]
  },
  {
   "cell_type": "code",
   "execution_count": 9,
   "id": "f53aaf09",
   "metadata": {},
   "outputs": [
    {
     "name": "stdout",
     "output_type": "stream",
     "text": [
      "55\n"
     ]
    }
   ],
   "source": [
    "## Line Contiuation\n",
    "## Use a backslash to continue a line\n",
    "a = 1 + 2 + 3 + 4 + 5 + \\\n",
    "    6 + 7 + 8 + 9 + 10\n",
    "print(a)\n"
   ]
  },
  {
   "cell_type": "code",
   "execution_count": 10,
   "id": "65a7588d",
   "metadata": {},
   "outputs": [
    {
     "name": "stdout",
     "output_type": "stream",
     "text": [
      "3\n"
     ]
    }
   ],
   "source": [
    "## Multiple Statements on a Single Line\n",
    "a = 1; b = 2; c = a+b\n",
    "print(c)"
   ]
  },
  {
   "cell_type": "code",
   "execution_count": 14,
   "id": "c666e87d",
   "metadata": {},
   "outputs": [
    {
     "data": {
      "text/plain": [
       "str"
      ]
     },
     "execution_count": 14,
     "metadata": {},
     "output_type": "execute_result"
    }
   ],
   "source": [
    "## Understand Semnartics In Python\n",
    "# variable assignment\n",
    "age=32 ##age is an integer\n",
    "name= \"Anmol\" ##name is a string\n",
    "print(type(age))\n",
    "print(type(name))"
   ]
  },
  {
   "cell_type": "code",
   "execution_count": 17,
   "id": "7a3a4273",
   "metadata": {},
   "outputs": [
    {
     "name": "stdout",
     "output_type": "stream",
     "text": [
      "<class 'int'>\n",
      "<class 'str'>\n",
      "<class 'float'>\n",
      "<class 'bool'>\n",
      "30\n",
      "30.5\n",
      "30.5\n",
      "30.5\n"
     ]
    }
   ],
   "source": [
    "## Type Inference\n",
    "\n",
    "variable = 10\n",
    "print(type(variable))\n",
    "variable = \"Anmol\"\n",
    "print(type(variable))\n",
    "variable = 10.5\n",
    "print(type(variable))\n",
    "variable = True\n",
    "print(type(variable))   \n",
    "    "
   ]
  },
  {
   "cell_type": "code",
   "execution_count": 19,
   "id": "114f4e69",
   "metadata": {},
   "outputs": [
    {
     "name": "stdout",
     "output_type": "stream",
     "text": [
      "30\n",
      "30.5\n"
     ]
    }
   ],
   "source": [
    "## Type Casting\n",
    "a = 10\n",
    "b = 20\n",
    "c = a + b\n",
    "print(c)\n",
    "a = 10\n",
    "b = 20.5\n",
    "c = a + b\n",
    "print(c)"
   ]
  },
  {
   "cell_type": "code",
   "execution_count": 1,
   "id": "eacf4639",
   "metadata": {},
   "outputs": [
    {
     "ename": "NameError",
     "evalue": "name 'b' is not defined",
     "output_type": "error",
     "traceback": [
      "\u001b[31m---------------------------------------------------------------------------\u001b[39m",
      "\u001b[31mNameError\u001b[39m                                 Traceback (most recent call last)",
      "\u001b[36mCell\u001b[39m\u001b[36m \u001b[39m\u001b[32mIn[1]\u001b[39m\u001b[32m, line 2\u001b[39m\n\u001b[32m      1\u001b[39m \u001b[38;5;66;03m## Name Error\u001b[39;00m\n\u001b[32m----> \u001b[39m\u001b[32m2\u001b[39m a=\u001b[43mb\u001b[49m\n",
      "\u001b[31mNameError\u001b[39m: name 'b' is not defined"
     ]
    }
   ],
   "source": [
    "## Name Error\n",
    "a=b"
   ]
  },
  {
   "cell_type": "code",
   "execution_count": 2,
   "id": "851769ed",
   "metadata": {},
   "outputs": [
    {
     "name": "stdout",
     "output_type": "stream",
     "text": [
      "Correct Indentation\n",
      "This will be printed\n",
      "End of the program\n"
     ]
    }
   ],
   "source": [
    "## Code Example of indentation\n",
    "if True:\n",
    "    print(\"Correct Indentation\")\n",
    "    if False:\n",
    "        print(\"This will not be printed\")\n",
    "    print(\"This will be printed\")\n",
    "print(\"End of the program\")"
   ]
  }
 ],
 "metadata": {
  "kernelspec": {
   "display_name": "Python 3",
   "language": "python",
   "name": "python3"
  },
  "language_info": {
   "codemirror_mode": {
    "name": "ipython",
    "version": 3
   },
   "file_extension": ".py",
   "mimetype": "text/x-python",
   "name": "python",
   "nbconvert_exporter": "python",
   "pygments_lexer": "ipython3",
   "version": "3.12.0"
  }
 },
 "nbformat": 4,
 "nbformat_minor": 5
}
