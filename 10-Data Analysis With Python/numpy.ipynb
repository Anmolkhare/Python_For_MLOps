{
 "cells": [
  {
   "cell_type": "markdown",
   "id": "0efc7f96",
   "metadata": {},
   "source": [
    "# 📊 NumPy: Numerical Python\n",
    "\n",
    "NumPy (Numerical Python) is a fundamental package for scientific computing in Python. It provides support for large, multi-dimensional arrays and matrices, along with a rich set of high-level mathematical functions to operate on these arrays efficiently.\n",
    "\n",
    "---\n",
    "\n",
    "## 💡 Why Use NumPy?\n",
    "\n",
    "- 🚀 High performance on large arrays and matrices\n",
    "- 📐 Advanced mathematical and statistical operations\n",
    "- 🔁 Easy broadcasting and vectorization\n",
    "- 🔢 Great for machine learning, data analysis, and scientific computing\n",
    "\n",
    "---\n",
    "\n",
    "## 🧱 Key Features\n",
    "\n",
    "- ndarray: N-dimensional array object\n",
    "- Vectorized operations for speed and performance\n",
    "- Tools for integrating with C/C++ and Fortran code\n",
    "- Broadcasting, masking, indexing, reshaping, and more\n",
    "\n",
    "---\n",
    "\n",
    "## 🛠️ Installation\n",
    "\n",
    "To install NumPy, use:\n",
    "\n",
    "```bash\n",
    "pip install numpy\n",
    "````\n",
    "\n",
    "Or with Anaconda:\n",
    "\n",
    "```bash\n",
    "conda install numpy\n",
    "```\n",
    "\n",
    "---\n",
    "\n",
    "## 🔍 Basic Usage\n",
    "\n",
    "```python\n",
    "import numpy as np\n",
    "\n",
    "# Create an array\n",
    "arr = np.array([1, 2, 3, 4])\n",
    "print(arr)\n",
    "\n",
    "# Create a 2D array (matrix)\n",
    "matrix = np.array([[1, 2], [3, 4]])\n",
    "\n",
    "# Array of zeros and ones\n",
    "zeros = np.zeros((3, 3))\n",
    "ones = np.ones((2, 4))\n",
    "\n",
    "# Array with range\n",
    "range_arr = np.arange(0, 10, 2)\n",
    "\n",
    "# Reshaping\n",
    "reshaped = np.reshape(arr, (2, 2))\n",
    "\n",
    "# Element-wise operations\n",
    "print(arr + 2)\n",
    "print(arr * 3)\n",
    "```\n",
    "\n",
    "---\n",
    "\n",
    "## 🧠 NumPy Array vs Python List\n",
    "\n",
    "| Feature       | Python List      | NumPy Array       |\n",
    "| ------------- | ---------------- | ----------------- |\n",
    "| Speed         | Slower           | Faster            |\n",
    "| Data Type     | Mixed types      | Same type only    |\n",
    "| Functionality | Basic operations | Advanced math ops |\n",
    "| Memory Usage  | Higher           | Lower             |\n",
    "\n",
    "---\n",
    "\n",
    "## 📚 Next Topics\n",
    "\n",
    "* Array creation techniques\n",
    "* Indexing and slicing\n",
    "* Array math and broadcasting\n",
    "* Linear algebra with NumPy\n",
    "* Useful NumPy functions and tricks\n",
    "\n",
    "---\n",
    "\n",
    "NumPy is a cornerstone of the Python data science stack. Mastering it will make data manipulation and numerical analysis incredibly powerful and efficient.\n",
    "\n",
    "```\n"
   ]
  },
  {
   "cell_type": "code",
   "execution_count": 2,
   "id": "d5dbf7cf",
   "metadata": {},
   "outputs": [
    {
     "name": "stdout",
     "output_type": "stream",
     "text": [
      "[1 2 3 4 5]\n",
      "<class 'numpy.ndarray'>\n",
      "(5,)\n"
     ]
    }
   ],
   "source": [
    "import numpy as np\n",
    "\n",
    "# create array using numpy\n",
    "# create a 1d array\n",
    "arr1 = np.array([1,2,3,4,5])\n",
    "print(arr1)\n",
    "print(type(arr1))\n",
    "print(arr1.shape)"
   ]
  },
  {
   "cell_type": "code",
   "execution_count": null,
   "id": "d5fbef35",
   "metadata": {},
   "outputs": [
    {
     "data": {
      "text/plain": [
       "array([[1, 2, 3, 4, 5]])"
      ]
     },
     "execution_count": 4,
     "metadata": {},
     "output_type": "execute_result"
    }
   ],
   "source": [
    "#1d to 2d array\n",
    "arr2= np.array([1,2,3,4,5])\n",
    "arr2.reshape(1,5) "
   ]
  },
  {
   "cell_type": "code",
   "execution_count": 7,
   "id": "720b76e7",
   "metadata": {},
   "outputs": [
    {
     "name": "stdout",
     "output_type": "stream",
     "text": [
      "[[1 2 3 4 5]\n",
      " [2 3 4 5 6]]\n",
      "(2, 5)\n"
     ]
    }
   ],
   "source": [
    "arr2 = np.array([[1,2,3,4,5],[2,3,4,5,6]])\n",
    "print(arr2)\n",
    "print(arr2.shape)"
   ]
  },
  {
   "cell_type": "code",
   "execution_count": 8,
   "id": "e7e9e87b",
   "metadata": {},
   "outputs": [
    {
     "data": {
      "text/plain": [
       "array([[0],\n",
       "       [2],\n",
       "       [4],\n",
       "       [6],\n",
       "       [8]])"
      ]
     },
     "execution_count": 8,
     "metadata": {},
     "output_type": "execute_result"
    }
   ],
   "source": [
    "np.arange(0,10,2).reshape(5,1)"
   ]
  },
  {
   "cell_type": "code",
   "execution_count": 9,
   "id": "b16113d8",
   "metadata": {},
   "outputs": [
    {
     "data": {
      "text/plain": [
       "array([[1., 1., 1., 1.],\n",
       "       [1., 1., 1., 1.],\n",
       "       [1., 1., 1., 1.]])"
      ]
     },
     "execution_count": 9,
     "metadata": {},
     "output_type": "execute_result"
    }
   ],
   "source": [
    "np.ones((3,4))"
   ]
  },
  {
   "cell_type": "code",
   "execution_count": 10,
   "id": "71a30926",
   "metadata": {},
   "outputs": [
    {
     "data": {
      "text/plain": [
       "array([[1., 0., 0.],\n",
       "       [0., 1., 0.],\n",
       "       [0., 0., 1.]])"
      ]
     },
     "execution_count": 10,
     "metadata": {},
     "output_type": "execute_result"
    }
   ],
   "source": [
    "# identity matrix\n",
    "np.eye(3)"
   ]
  },
  {
   "cell_type": "code",
   "execution_count": null,
   "id": "3a4ba92c",
   "metadata": {},
   "outputs": [
    {
     "name": "stdout",
     "output_type": "stream",
     "text": [
      "Array :\n",
      " [[1 2 3]\n",
      " [4 5 6]]\n",
      "Shape: (2, 3)\n",
      "Number of dimensions: 2\n",
      "Size (number of elements): 6\n",
      "Data type: int64\n",
      "Item size (in bytes): 8\n"
     ]
    }
   ],
   "source": [
    "# Attributes of numpy array\n",
    "arr = np.array([[1,2,3],[4,5,6]])\n",
    "\n",
    "print(\"Array :\\n\", arr)\n",
    "print(\"Shape:\",arr.shape)\n",
    "print(\"Number of dimensions:\", arr.ndim)\n",
    "print(\"Size (number of elements):\",arr.size)\n",
    "print(\"Data type:\",arr.dtype)\n",
    "print(\"Item size (in bytes):\",arr.itemsize)"
   ]
  },
  {
   "cell_type": "code",
   "execution_count": 14,
   "id": "770d9ca8",
   "metadata": {},
   "outputs": [
    {
     "name": "stdout",
     "output_type": "stream",
     "text": [
      "Addition;  [11 22 33 44 55]\n",
      "Subtraction;  [ -9 -18 -27 -36 -45]\n",
      "multiplication;  [ 10  40  90 160 250]\n",
      "Division;  [0.1 0.1 0.1 0.1 0.1]\n"
     ]
    }
   ],
   "source": [
    "# Numpy vectorized operation\n",
    "arr1= np.array([1,2,3,4,5])\n",
    "arr2= np.array([10,20,30,40,50])\n",
    "\n",
    "#Element wise addition\n",
    "print(\"Addition; \", arr1+arr2)\n",
    "#Element wise Subtraction\n",
    "print(\"Subtraction; \", arr1-arr2)\n",
    "#Element wise multiplication\n",
    "print(\"multiplication; \", arr1 * arr2)\n",
    "#Element wise Division\n",
    "print(\"Division; \", arr1 / arr2)\n"
   ]
  },
  {
   "cell_type": "code",
   "execution_count": 16,
   "id": "21018cd2",
   "metadata": {},
   "outputs": [
    {
     "name": "stdout",
     "output_type": "stream",
     "text": [
      "[1.41421356 1.73205081 2.         2.23606798 2.44948974]\n",
      "[  7.3890561   20.08553692  54.59815003 148.4131591  403.42879349]\n",
      "[0.69314718 1.09861229 1.38629436 1.60943791 1.79175947]\n",
      "[0.69314718 1.09861229 1.38629436 1.60943791 1.79175947]\n"
     ]
    }
   ],
   "source": [
    "# Universal function\n",
    "arr = np.array([2,3,4,5,6])\n",
    "#Square root \n",
    "print(np.sqrt(arr))\n",
    "\n",
    "#Exponential\n",
    "print(np.exp(arr))\n",
    "\n",
    "#Sine\n",
    "print(np.log(arr))\n",
    "\n",
    "# natural log\n",
    "print(np.log(arr))"
   ]
  },
  {
   "cell_type": "code",
   "execution_count": 20,
   "id": "691751de",
   "metadata": {},
   "outputs": [
    {
     "name": "stdout",
     "output_type": "stream",
     "text": [
      "Array : \n",
      "  [[ 1  2  3  4]\n",
      " [ 5  6  7  8]\n",
      " [ 9 10 11 12]]\n"
     ]
    }
   ],
   "source": [
    "# array slicing and indexing\n",
    "arr = np.array([[1,2,3,4],[5,6,7,8],[9,10,11,12]])\n",
    "print(\"Array : \\n \", arr)"
   ]
  },
  {
   "cell_type": "code",
   "execution_count": 24,
   "id": "27c26668",
   "metadata": {},
   "outputs": [
    {
     "data": {
      "text/plain": [
       "np.int64(1)"
      ]
     },
     "execution_count": 24,
     "metadata": {},
     "output_type": "execute_result"
    }
   ],
   "source": [
    "arr[0][0]"
   ]
  },
  {
   "cell_type": "code",
   "execution_count": 27,
   "id": "c94fb9da",
   "metadata": {},
   "outputs": [
    {
     "data": {
      "text/plain": [
       "array([[ 7,  8],\n",
       "       [11, 12]])"
      ]
     },
     "execution_count": 27,
     "metadata": {},
     "output_type": "execute_result"
    }
   ],
   "source": [
    "arr[1:,2:]"
   ]
  },
  {
   "cell_type": "code",
   "execution_count": 34,
   "id": "eef427b1",
   "metadata": {},
   "outputs": [
    {
     "name": "stdout",
     "output_type": "stream",
     "text": [
      "1\n",
      "[[3 4]\n",
      " [7 8]]\n"
     ]
    }
   ],
   "source": [
    "print(arr[0][0])\n",
    "print(arr[0:2,2:])\n"
   ]
  },
  {
   "cell_type": "code",
   "execution_count": 35,
   "id": "a3e81909",
   "metadata": {},
   "outputs": [
    {
     "name": "stdout",
     "output_type": "stream",
     "text": [
      "[[ 6  7]\n",
      " [10 11]]\n"
     ]
    }
   ],
   "source": [
    "print(arr[1:3,1:3])"
   ]
  },
  {
   "cell_type": "code",
   "execution_count": 36,
   "id": "0570c02a",
   "metadata": {},
   "outputs": [
    {
     "name": "stdout",
     "output_type": "stream",
     "text": [
      "[[100   2   3   4]\n",
      " [  5   6   7   8]\n",
      " [  9  10  11  12]]\n"
     ]
    }
   ],
   "source": [
    "# modify array elements\n",
    "arr[0,0]=100\n",
    "print(arr)"
   ]
  },
  {
   "cell_type": "code",
   "execution_count": 37,
   "id": "c4313ce4",
   "metadata": {},
   "outputs": [
    {
     "name": "stdout",
     "output_type": "stream",
     "text": [
      "[[100   2   3   4]\n",
      " [100 100 100 100]\n",
      " [100 100 100 100]]\n"
     ]
    }
   ],
   "source": [
    "arr[1:]= 100\n",
    "print(arr)"
   ]
  },
  {
   "cell_type": "code",
   "execution_count": 39,
   "id": "ed66c0f7",
   "metadata": {},
   "outputs": [
    {
     "name": "stdout",
     "output_type": "stream",
     "text": [
      "Normalized data : [-1.41421356 -0.70710678  0.          0.70710678  1.41421356]\n"
     ]
    }
   ],
   "source": [
    "# sttisticdal concepts - normalization\n",
    "# to have a mean of 0 and standard deviation of 1\n",
    "data = np.array((1,2,3,4,5)) \n",
    "\n",
    "# calculate the mean and standard deviation\n",
    "mean = np.mean(data)\n",
    "std_dev = np.std(data)\n",
    "\n",
    "# Normalize the data\n",
    "normalized_data = (data - mean) / std_dev\n",
    "print(\"Normalized data :\", normalized_data)"
   ]
  },
  {
   "cell_type": "code",
   "execution_count": 41,
   "id": "cdcfff45",
   "metadata": {},
   "outputs": [
    {
     "name": "stdout",
     "output_type": "stream",
     "text": [
      "Mean: 5.5\n",
      "Median: 5.5\n",
      "Standard Deviation: 2.8722813232690143\n",
      "Variance: 8.25\n"
     ]
    }
   ],
   "source": [
    "data = np.array([1,2,3,4,5,6,7,8,9,10])\n",
    "\n",
    "#mean\n",
    "mean = np.mean(data)\n",
    "print(\"Mean:\", mean)\n",
    "\n",
    "# Median\n",
    "median = np.median(data)\n",
    "print(\"Median:\",median)\n",
    "\n",
    "# Standard deviation\n",
    "std_dev = np.std(data)\n",
    "print(\"Standard Deviation:\", std_dev)\n",
    "\n",
    "# Variance\n",
    "variance = np.var(data)\n",
    "print(\"Variance:\", variance)\n"
   ]
  },
  {
   "cell_type": "code",
   "execution_count": 47,
   "id": "6e7dd1b7",
   "metadata": {},
   "outputs": [
    {
     "data": {
      "text/plain": [
       "array([6, 7, 8])"
      ]
     },
     "execution_count": 47,
     "metadata": {},
     "output_type": "execute_result"
    }
   ],
   "source": [
    "# Logical operation\n",
    "data = np.array([1,2,3,4,5,6,7,8,9,10])\n",
    "data[(data>5) & (data<=8)]"
   ]
  },
  {
   "cell_type": "code",
   "execution_count": null,
   "id": "29782286",
   "metadata": {},
   "outputs": [],
   "source": []
  }
 ],
 "metadata": {
  "kernelspec": {
   "display_name": "venv",
   "language": "python",
   "name": "python3"
  },
  "language_info": {
   "codemirror_mode": {
    "name": "ipython",
    "version": 3
   },
   "file_extension": ".py",
   "mimetype": "text/x-python",
   "name": "python",
   "nbconvert_exporter": "python",
   "pygments_lexer": "ipython3",
   "version": "3.12.9"
  }
 },
 "nbformat": 4,
 "nbformat_minor": 5
}
