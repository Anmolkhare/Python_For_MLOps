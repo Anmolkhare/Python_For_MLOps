{
 "cells": [
  {
   "cell_type": "markdown",
   "id": "566eda46",
   "metadata": {},
   "source": [
    "# ⚠️ Exception Handling in Python\n",
    "\n",
    "Exception Handling is a powerful feature in Python that allows your programs to handle errors gracefully and maintain the flow of execution even when unexpected events occur.\n",
    "\n",
    "---\n",
    "\n",
    "## ✅ What is an Exception?\n",
    "\n",
    "An **exception** is an error that occurs during the execution of a program. When an error occurs, Python stops executing the program and reports the error message — unless it is handled properly using exception handling constructs.\n",
    "\n",
    "---\n",
    "\n",
    "## 🛠️ Why Use Exception Handling?\n",
    "\n",
    "- Prevents the program from crashing\n",
    "- Allows for graceful recovery\n",
    "- Makes debugging easier\n",
    "- Improves user experience by showing meaningful messages instead of raw error codes\n",
    "\n",
    "---\n",
    "\n",
    "## 🔄 Basic Structure of Exception Handling\n",
    "\n",
    "```python\n",
    "try:\n",
    "    # code that may raise an exception\n",
    "except SomeException:\n",
    "    # code that runs if the exception occurs\n",
    "else:\n",
    "    # code that runs if no exception occurs\n",
    "finally:\n",
    "    # code that always runs (cleanup actions)\n",
    "````\n",
    "\n",
    "---\n",
    "\n",
    "## 🧩 Common Exception Types\n",
    "\n",
    "| Exception Name      | Description                             |\n",
    "| ------------------- | --------------------------------------- |\n",
    "| `ZeroDivisionError` | Division by zero error                  |\n",
    "| `ValueError`        | Invalid value                           |\n",
    "| `TypeError`         | Mismatched data types                   |\n",
    "| `KeyError`          | Accessing a missing key in a dictionary |\n",
    "| `IndexError`        | Accessing an invalid list index         |\n",
    "| `FileNotFoundError` | File does not exist                     |\n",
    "| `ImportError`       | Import operation fails                  |\n",
    "\n",
    "---\n",
    "\n",
    "## 🧪 Example\n",
    "\n",
    "```python\n",
    "try:\n",
    "    x = int(input(\"Enter a number: \"))\n",
    "    result = 10 / x\n",
    "    print(\"Result:\", result)\n",
    "except ZeroDivisionError:\n",
    "    print(\"You cannot divide by zero!\")\n",
    "except ValueError:\n",
    "    print(\"Please enter a valid number.\")\n",
    "finally:\n",
    "    print(\"Execution completed.\")\n",
    "```\n",
    "\n",
    "---\n",
    "\n",
    "## ⚡ Best Practices\n",
    "\n",
    "* Catch specific exceptions instead of a general one\n",
    "* Avoid bare excepts (`except:`)\n",
    "* Use `finally` for cleanup like closing files\n",
    "* Use `raise` to throw custom exceptions\n",
    "\n",
    "---\n",
    "\n",
    "Stay tuned for practice questions and exercises to master this topic! 🧠🚀\n",
    "\n",
    "```\n"
   ]
  },
  {
   "cell_type": "code",
   "execution_count": 1,
   "id": "24740fff",
   "metadata": {},
   "outputs": [
    {
     "name": "stdout",
     "output_type": "stream",
     "text": [
      "The variable has not been assigned\n"
     ]
    }
   ],
   "source": [
    "# Exception try,except block\n",
    "\n",
    "try:\n",
    "    a=b\n",
    "except:\n",
    "    print(\"The variable has not been assigned\")"
   ]
  },
  {
   "cell_type": "code",
   "execution_count": 2,
   "id": "0e23fd36",
   "metadata": {},
   "outputs": [
    {
     "ename": "NameError",
     "evalue": "name 'b' is not defined",
     "output_type": "error",
     "traceback": [
      "\u001b[31m---------------------------------------------------------------------------\u001b[39m",
      "\u001b[31mNameError\u001b[39m                                 Traceback (most recent call last)",
      "\u001b[36mCell\u001b[39m\u001b[36m \u001b[39m\u001b[32mIn[2]\u001b[39m\u001b[32m, line 1\u001b[39m\n\u001b[32m----> \u001b[39m\u001b[32m1\u001b[39m a=\u001b[43mb\u001b[49m\n",
      "\u001b[31mNameError\u001b[39m: name 'b' is not defined"
     ]
    }
   ],
   "source": [
    "a=b"
   ]
  },
  {
   "cell_type": "code",
   "execution_count": 3,
   "id": "3f7ca766",
   "metadata": {},
   "outputs": [
    {
     "name": "stdout",
     "output_type": "stream",
     "text": [
      "name 'b' is not defined\n"
     ]
    }
   ],
   "source": [
    "try:\n",
    "    a=b\n",
    "except NameError as ex:\n",
    "    print(ex)"
   ]
  },
  {
   "cell_type": "code",
   "execution_count": 4,
   "id": "0c99d770",
   "metadata": {},
   "outputs": [
    {
     "ename": "ZeroDivisionError",
     "evalue": "division by zero",
     "output_type": "error",
     "traceback": [
      "\u001b[31m---------------------------------------------------------------------------\u001b[39m",
      "\u001b[31mZeroDivisionError\u001b[39m                         Traceback (most recent call last)",
      "\u001b[36mCell\u001b[39m\u001b[36m \u001b[39m\u001b[32mIn[4]\u001b[39m\u001b[32m, line 1\u001b[39m\n\u001b[32m----> \u001b[39m\u001b[32m1\u001b[39m result = \u001b[32;43m1\u001b[39;49m\u001b[43m/\u001b[49m\u001b[32;43m0\u001b[39;49m\n",
      "\u001b[31mZeroDivisionError\u001b[39m: division by zero"
     ]
    }
   ],
   "source": [
    "result = 1/0"
   ]
  },
  {
   "cell_type": "code",
   "execution_count": 6,
   "id": "b372fff6",
   "metadata": {},
   "outputs": [
    {
     "name": "stdout",
     "output_type": "stream",
     "text": [
      "division by zero\n",
      "Please ent the denominator greater than 0\n"
     ]
    }
   ],
   "source": [
    "try:\n",
    "    result = 1/0\n",
    "except ZeroDivisionError as ex:\n",
    "    print(ex)\n",
    "    print(\"Please ent the denominator greater than 0\")"
   ]
  },
  {
   "cell_type": "code",
   "execution_count": 9,
   "id": "c6e6afbd",
   "metadata": {},
   "outputs": [
    {
     "name": "stdout",
     "output_type": "stream",
     "text": [
      "name 'b' is not defined\n",
      "Main exception got caught here\n"
     ]
    }
   ],
   "source": [
    "try:\n",
    "    result = 1/2\n",
    "    a=b\n",
    "except ZeroDivisionError as ex:\n",
    "    print(ex)\n",
    "    print(\"Please ent the denominator greater than 0\")\n",
    "except Exception as ex1:\n",
    "    print(ex1)\n",
    "    print('Main exception got caught here')"
   ]
  },
  {
   "cell_type": "code",
   "execution_count": 12,
   "id": "2529ae50",
   "metadata": {},
   "outputs": [],
   "source": [
    "try:\n",
    "    num = int(input(\"Enter a number\"))\n",
    "    result = 10/num\n",
    "except ValueError:\n",
    "    print(\"This is not a valid number\")\n",
    "except ZeroDivisionError:\n",
    "    print(\"Enter denominator greater than 0\")"
   ]
  },
  {
   "cell_type": "code",
   "execution_count": 16,
   "id": "82fd4ee3",
   "metadata": {},
   "outputs": [
    {
     "name": "stdout",
     "output_type": "stream",
     "text": [
      "You can't divite by Zero\n"
     ]
    }
   ],
   "source": [
    "# try ,except , else block\n",
    "try:\n",
    "    num= int(input(\"Enter a number:\"))\n",
    "    result=10/num\n",
    "except ValueError:\n",
    "    print(\"That's not a valid number!\")\n",
    "except ZeroDivisionError:\n",
    "    print(\"You can't divite by Zero\")\n",
    "except Exception as ex:\n",
    "    print(ex)\n",
    "else:\n",
    "    print(f\"the result is {result}\")"
   ]
  },
  {
   "cell_type": "code",
   "execution_count": 19,
   "id": "482ced06",
   "metadata": {},
   "outputs": [
    {
     "name": "stdout",
     "output_type": "stream",
     "text": [
      "That's not a valid number!\n",
      "Execution complete.\n"
     ]
    }
   ],
   "source": [
    "# try ,except , else and finally block\n",
    "try:\n",
    "    num= int(input(\"Enter a number:\"))\n",
    "    result=10/num\n",
    "except ValueError:\n",
    "    print(\"That's not a valid number!\")\n",
    "except ZeroDivisionError:\n",
    "    print(\"You can't divite by Zero\")\n",
    "except Exception as ex:\n",
    "    print(ex)\n",
    "else:\n",
    "    print(f\"the result is {result}\")\n",
    "finally:\n",
    "    print(\"Execution complete.\")"
   ]
  },
  {
   "cell_type": "code",
   "execution_count": null,
   "id": "3eaccc84",
   "metadata": {},
   "outputs": [
    {
     "ename": "TypeError",
     "evalue": "argument of type 'builtin_function_or_method' is not iterable",
     "output_type": "error",
     "traceback": [
      "\u001b[31m---------------------------------------------------------------------------\u001b[39m",
      "\u001b[31mFileNotFoundError\u001b[39m                         Traceback (most recent call last)",
      "\u001b[36mCell\u001b[39m\u001b[36m \u001b[39m\u001b[32mIn[21]\u001b[39m\u001b[32m, line 4\u001b[39m\n\u001b[32m      3\u001b[39m \u001b[38;5;28;01mtry\u001b[39;00m:\n\u001b[32m----> \u001b[39m\u001b[32m4\u001b[39m     file=\u001b[38;5;28;43mopen\u001b[39;49m\u001b[43m(\u001b[49m\u001b[33;43m'\u001b[39;49m\u001b[33;43mexample1.txt\u001b[39;49m\u001b[33;43m'\u001b[39;49m\u001b[43m,\u001b[49m\u001b[33;43m'\u001b[39;49m\u001b[33;43mr\u001b[39;49m\u001b[33;43m'\u001b[39;49m\u001b[43m)\u001b[49m\n\u001b[32m      5\u001b[39m     content = file.read()\n",
      "\u001b[36mFile \u001b[39m\u001b[32m/opt/anaconda3/envs/venv/lib/python3.12/site-packages/IPython/core/interactiveshell.py:326\u001b[39m, in \u001b[36m_modified_open\u001b[39m\u001b[34m(file, *args, **kwargs)\u001b[39m\n\u001b[32m    320\u001b[39m     \u001b[38;5;28;01mraise\u001b[39;00m \u001b[38;5;167;01mValueError\u001b[39;00m(\n\u001b[32m    321\u001b[39m         \u001b[33mf\u001b[39m\u001b[33m\"\u001b[39m\u001b[33mIPython won\u001b[39m\u001b[33m'\u001b[39m\u001b[33mt let you open fd=\u001b[39m\u001b[38;5;132;01m{\u001b[39;00mfile\u001b[38;5;132;01m}\u001b[39;00m\u001b[33m by default \u001b[39m\u001b[33m\"\u001b[39m\n\u001b[32m    322\u001b[39m         \u001b[33m\"\u001b[39m\u001b[33mas it is likely to crash IPython. If you know what you are doing, \u001b[39m\u001b[33m\"\u001b[39m\n\u001b[32m    323\u001b[39m         \u001b[33m\"\u001b[39m\u001b[33myou can use builtins\u001b[39m\u001b[33m'\u001b[39m\u001b[33m open.\u001b[39m\u001b[33m\"\u001b[39m\n\u001b[32m    324\u001b[39m     )\n\u001b[32m--> \u001b[39m\u001b[32m326\u001b[39m \u001b[38;5;28;01mreturn\u001b[39;00m \u001b[43mio_open\u001b[49m\u001b[43m(\u001b[49m\u001b[43mfile\u001b[49m\u001b[43m,\u001b[49m\u001b[43m \u001b[49m\u001b[43m*\u001b[49m\u001b[43margs\u001b[49m\u001b[43m,\u001b[49m\u001b[43m \u001b[49m\u001b[43m*\u001b[49m\u001b[43m*\u001b[49m\u001b[43mkwargs\u001b[49m\u001b[43m)\u001b[49m\n",
      "\u001b[31mFileNotFoundError\u001b[39m: [Errno 2] No such file or directory: 'example1.txt'",
      "\nDuring handling of the above exception, another exception occurred:\n",
      "\u001b[31mTypeError\u001b[39m                                 Traceback (most recent call last)",
      "\u001b[36mCell\u001b[39m\u001b[36m \u001b[39m\u001b[32mIn[21]\u001b[39m\u001b[32m, line 10\u001b[39m\n\u001b[32m      8\u001b[39m     \u001b[38;5;28mprint\u001b[39m(\u001b[33m\"\u001b[39m\u001b[33mThe file does not exists\u001b[39m\u001b[33m\"\u001b[39m)\n\u001b[32m      9\u001b[39m \u001b[38;5;28;01mfinally\u001b[39;00m:\n\u001b[32m---> \u001b[39m\u001b[32m10\u001b[39m     \u001b[38;5;28;01mif\u001b[39;00m \u001b[33;43m'\u001b[39;49m\u001b[33;43mfile\u001b[39;49m\u001b[33;43m'\u001b[39;49m\u001b[43m \u001b[49m\u001b[38;5;129;43;01min\u001b[39;49;00m\u001b[43m \u001b[49m\u001b[38;5;28;43mlocals\u001b[39;49m \u001b[38;5;129;01mand\u001b[39;00m \u001b[38;5;129;01mnot\u001b[39;00m file. closed():\n\u001b[32m     11\u001b[39m         file.close()\n\u001b[32m     12\u001b[39m         \u001b[38;5;28mprint\u001b[39m(\u001b[33m\"\u001b[39m\u001b[33mfile close\u001b[39m\u001b[33m\"\u001b[39m)\n",
      "\u001b[31mTypeError\u001b[39m: argument of type 'builtin_function_or_method' is not iterable"
     ]
    }
   ],
   "source": [
    "# File handling and exception handling\n",
    "\n",
    "try:\n",
    "    file=open(\"example1.txt\",'r')\n",
    "    content = file.read()\n",
    "    print(content)\n",
    "except FileExistsError:\n",
    "    print(\"The file does not exists\")\n",
    "finally:\n",
    "    if 'file' in locals and not file. closed():\n",
    "        file.close()\n",
    "        print(\"file close\")"
   ]
  },
  {
   "cell_type": "markdown",
   "id": "6bfba810",
   "metadata": {},
   "source": [
    "# 🧠 Practice Questions: Exception Handling in Python\n",
    "\n",
    "Test your understanding of Python's exception handling with these questions and challenges:\n",
    "\n",
    "---\n",
    "\n",
    "### 📝 Beginner Level\n",
    "\n",
    "1. Write a program that takes two numbers from the user and divides them. Handle division by zero using try-except.\n",
    "2. Handle ValueError when a user inputs a non-integer while asking for an integer.\n",
    "3. Create a function that opens a file. Use exception handling to catch FileNotFoundError.\n",
    "4. Use try-except-else-finally structure to demonstrate all four blocks in action.\n",
    "5. Catch a KeyError when accessing a key that does not exist in a dictionary.\n",
    "\n",
    "---\n",
    "\n",
    "### ⚙️ Intermediate Level\n",
    "\n",
    "6. Use multiple except blocks to catch both ZeroDivisionError and ValueError from a user input function.\n",
    "7. Read from a file, handle file-not-found and permission errors appropriately.\n",
    "8. Use a loop that keeps asking for valid input until no exception is raised.\n",
    "9. Write a custom exception class called NegativeNumberError and raise it when user enters a negative number.\n",
    "10. Use try-except within a function and call it multiple times to demonstrate reusable exception handling.\n",
    "\n",
    "---\n",
    "\n",
    "### 🔍 Advanced Level\n",
    "\n",
    "11. Catch and log errors using the logging module instead of printing to the console.\n",
    "12. Wrap a block of code with try-except to catch unexpected exceptions using `except Exception as e:`.\n",
    "13. Raise an exception manually using raise, and then handle it.\n",
    "14. Create a program that simulates bank withdrawal and raises an error if the withdrawal amount exceeds balance.\n",
    "15. Use nested try-except blocks and demonstrate how inner and outer blocks catch exceptions.\n",
    "\n",
    "---\n",
    "\n",
    "💡 Bonus Challenge:\n",
    "- Create a calculator that handles all kinds of user input errors (invalid operation, wrong input types, division by zero) and continues to prompt until the user exits.\n",
    "\n",
    "🧠 Tip:\n",
    "Use `finally` to close files or release resources, even if an exception occurs!\n",
    "\n",
    "---\n",
    "Happy Debugging! 🐍✨\n"
   ]
  },
  {
   "cell_type": "markdown",
   "id": "bc30ff4d",
   "metadata": {},
   "source": []
  }
 ],
 "metadata": {
  "kernelspec": {
   "display_name": "venv",
   "language": "python",
   "name": "python3"
  },
  "language_info": {
   "codemirror_mode": {
    "name": "ipython",
    "version": 3
   },
   "file_extension": ".py",
   "mimetype": "text/x-python",
   "name": "python",
   "nbconvert_exporter": "python",
   "pygments_lexer": "ipython3",
   "version": "3.12.9"
  }
 },
 "nbformat": 4,
 "nbformat_minor": 5
}
