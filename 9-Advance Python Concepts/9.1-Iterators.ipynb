{
 "cells": [
  {
   "cell_type": "markdown",
   "id": "8bddb4ce",
   "metadata": {},
   "source": [
    "# 🔁 Iterators in Python\n",
    "\n",
    "In Python, an **iterator** is an object that enables traversal through all the elements of a collection (like a list or tuple) one at a time. It follows the iterator protocol, which consists of two methods:\n",
    "\n",
    "- `__iter__()` — Returns the iterator object itself.\n",
    "- `__next__()` — Returns the next value from the iterator. If there are no more items, it raises `StopIteration`.\n",
    "\n",
    "---\n",
    "\n",
    "## 🎯 Why Use Iterators?\n",
    "\n",
    "- To access elements sequentially without exposing the underlying data structure.\n",
    "- Efficient memory usage with large datasets using generators or lazy loading.\n",
    "- A foundation for writing clean and Pythonic loops.\n",
    "\n",
    "---\n",
    "\n",
    "## 🔍 Built-in Iterables and Iterators\n",
    "\n",
    "Most built-in collection types in Python (like lists, tuples, dictionaries, and strings) are iterable.\n",
    "\n",
    "```python\n",
    "nums = [1, 2, 3]\n",
    "iter_nums = iter(nums)  # Get iterator object\n",
    "\n",
    "print(next(iter_nums))  # Output: 1\n",
    "print(next(iter_nums))  # Output: 2\n",
    "print(next(iter_nums))  # Output: 3\n",
    "````\n",
    "\n",
    "---\n",
    "\n",
    "## 🧰 Creating a Custom Iterator\n",
    "\n",
    "You can create your own iterator by defining a class with the `__iter__()` and `__next__()` methods:\n",
    "\n",
    "```python\n",
    "class CountDown:\n",
    "    def __init__(self, start):\n",
    "        self.current = start\n",
    "\n",
    "    def __iter__(self):\n",
    "        return self\n",
    "\n",
    "    def __next__(self):\n",
    "        if self.current <= 0:\n",
    "            raise StopIteration\n",
    "        val = self.current\n",
    "        self.current -= 1\n",
    "        return val\n",
    "\n",
    "cd = CountDown(5)\n",
    "for num in cd:\n",
    "    print(num)\n",
    "```\n",
    "\n",
    "---\n",
    "\n",
    "## ⚠️ Common Mistakes\n",
    "\n",
    "* Forgetting to raise `StopIteration` in a custom iterator.\n",
    "* Confusing iterable objects with iterator objects.\n",
    "\n",
    "---\n",
    "\n",
    "## ✅ Summary\n",
    "\n",
    "| Concept       | Description                              |\n",
    "| ------------- | ---------------------------------------- |\n",
    "| Iterable      | Object that implements `__iter__()`      |\n",
    "| Iterator      | Object that implements `__next__()`      |\n",
    "| StopIteration | Raised when no more elements are present |\n",
    "\n",
    "Iterators power Python’s for loops, comprehensions, and generators! 🚀\n",
    "\n",
    "```\n"
   ]
  },
  {
   "cell_type": "code",
   "execution_count": 1,
   "id": "fe4e6944",
   "metadata": {},
   "outputs": [
    {
     "name": "stdout",
     "output_type": "stream",
     "text": [
      "1\n",
      "2\n",
      "3\n",
      "4\n",
      "5\n"
     ]
    }
   ],
   "source": [
    "my_list =[1,2,3,4,5]\n",
    "for i in my_list:\n",
    "    print(i) "
   ]
  },
  {
   "cell_type": "code",
   "execution_count": 2,
   "id": "9d5f8ce7",
   "metadata": {},
   "outputs": [
    {
     "name": "stdout",
     "output_type": "stream",
     "text": [
      "<class 'list_iterator'>\n"
     ]
    }
   ],
   "source": [
    "# Iterator\n",
    "iterator = iter(my_list)\n",
    "print((type(iterator)))"
   ]
  },
  {
   "cell_type": "code",
   "execution_count": 3,
   "id": "c4d1250b",
   "metadata": {},
   "outputs": [
    {
     "data": {
      "text/plain": [
       "<list_iterator at 0x10cb643d0>"
      ]
     },
     "execution_count": 3,
     "metadata": {},
     "output_type": "execute_result"
    }
   ],
   "source": [
    "iterator"
   ]
  },
  {
   "cell_type": "code",
   "execution_count": null,
   "id": "2a71669b",
   "metadata": {},
   "outputs": [
    {
     "ename": "StopIteration",
     "evalue": "",
     "output_type": "error",
     "traceback": [
      "\u001b[31m---------------------------------------------------------------------------\u001b[39m",
      "\u001b[31mStopIteration\u001b[39m                             Traceback (most recent call last)",
      "\u001b[36mCell\u001b[39m\u001b[36m \u001b[39m\u001b[32mIn[9]\u001b[39m\u001b[32m, line 3\u001b[39m\n\u001b[32m      1\u001b[39m \u001b[38;5;66;03m# Iterate through all the element\u001b[39;00m\n\u001b[32m----> \u001b[39m\u001b[32m3\u001b[39m \u001b[38;5;28;43mnext\u001b[39;49m\u001b[43m(\u001b[49m\u001b[43miterator\u001b[49m\u001b[43m)\u001b[49m\n",
      "\u001b[31mStopIteration\u001b[39m: "
     ]
    }
   ],
   "source": [
    "# Iterate through all the element\n",
    "next(iterator)"
   ]
  },
  {
   "cell_type": "code",
   "execution_count": 31,
   "id": "2336628a",
   "metadata": {},
   "outputs": [
    {
     "name": "stdout",
     "output_type": "stream",
     "text": [
      "There are no elements in the iterator\n"
     ]
    }
   ],
   "source": [
    "\n",
    "try:\n",
    "    print(next(iterator))\n",
    "except StopIteration:\n",
    "    print(\"There are no elements in the iterator\")\n"
   ]
  },
  {
   "cell_type": "code",
   "execution_count": null,
   "id": "2bdf013e",
   "metadata": {},
   "outputs": [
    {
     "name": "stdout",
     "output_type": "stream",
     "text": [
      "H\n",
      "e\n",
      "l\n",
      "l\n",
      "o\n"
     ]
    },
    {
     "ename": "StopIteration",
     "evalue": "",
     "output_type": "error",
     "traceback": [
      "\u001b[31m---------------------------------------------------------------------------\u001b[39m",
      "\u001b[31mStopIteration\u001b[39m                             Traceback (most recent call last)",
      "\u001b[36mCell\u001b[39m\u001b[36m \u001b[39m\u001b[32mIn[6]\u001b[39m\u001b[32m, line 9\u001b[39m\n\u001b[32m      7\u001b[39m \u001b[38;5;28mprint\u001b[39m(\u001b[38;5;28mnext\u001b[39m(string_iterator))\n\u001b[32m      8\u001b[39m \u001b[38;5;28mprint\u001b[39m(\u001b[38;5;28mnext\u001b[39m(string_iterator))\n\u001b[32m----> \u001b[39m\u001b[32m9\u001b[39m \u001b[38;5;28mprint\u001b[39m(\u001b[38;5;28;43mnext\u001b[39;49m\u001b[43m(\u001b[49m\u001b[43mstring_iterator\u001b[49m\u001b[43m)\u001b[49m)\n",
      "\u001b[31mStopIteration\u001b[39m: "
     ]
    }
   ],
   "source": [
    "my_string = \"Hello\"\n",
    "string_iterator = iter(my_string)\n",
    "\n",
    "print(next(string_iterator))\n",
    "print(next(string_iterator))\n",
    "print(next(string_iterator))\n",
    "print(next(string_iterator))\n",
    "print(next(string_iterator))"
   ]
  },
  {
   "cell_type": "markdown",
   "id": "8055e6fe",
   "metadata": {},
   "source": [
    "# 📝 Iterator Practice Questions\n",
    "\n",
    "## 🔰 Basic Level\n",
    "\n",
    "1. ✅ Create a list of numbers and manually iterate through the elements using `iter()` and `next()` functions.\n",
    "\n",
    "2. ✅ What is the difference between an iterable and an iterator in Python?\n",
    "\n",
    "3. ✅ Check if a given object is an iterator using the `__iter__()` and `__next__()` methods.\n",
    "\n",
    "4. ✅ Convert a string into an iterator and print each character one by one using `next()`.\n",
    "\n",
    "5. ✅ Create an iterator for a tuple and print all elements.\n",
    "\n",
    "---\n",
    "\n",
    "## 🔄 Intermediate Level\n",
    "\n",
    "6. 🔁 Write a Python class called ReverseIterator that iterates over a list in reverse order.\n",
    "\n",
    "7. 🔁 Use an iterator to sum all elements of a list.\n",
    "\n",
    "8. 🔁 Given a sentence, create an iterator that yields each word one by one.\n",
    "\n",
    "9. 🔁 What will be the output of the following?\n",
    "\n",
    "```python\n",
    "nums = [10, 20, 30]\n",
    "it = iter(nums)\n",
    "print(next(it))\n",
    "print(next(it))\n",
    "nums.append(40)\n",
    "print(next(it))\n",
    "````\n",
    "\n",
    "10. 🔁 Why does this code fail?\n",
    "\n",
    "```python\n",
    "it = iter([1, 2, 3])\n",
    "print(it[0])\n",
    "```\n",
    "\n",
    "---\n",
    "\n",
    "## 🔧 Advanced Level (Custom Iterators)\n",
    "\n",
    "11. ⚙️ Create a class Squares that takes a number n and iterates through the square of numbers from 1 to n.\n",
    "\n",
    "12. ⚙️ Create a class EvenNumbers that acts as an iterator to generate even numbers up to a given limit.\n",
    "\n",
    "13. ⚙️ Write a Countdown class that counts from a given number down to 1.\n",
    "\n",
    "14. ⚙️ Build a custom iterator for Fibonacci numbers up to n terms.\n",
    "\n",
    "15. ⚙️ What happens if you omit the StopIteration condition in your custom `__next__()` method? Demonstrate with code.\n",
    "\n",
    "---\n",
    "\n",
    "## 💡 Hints\n",
    "\n",
    "* Remember, `iter(obj)` returns an iterator from an iterable.\n",
    "* `next(obj)` calls the `__next__()` method.\n",
    "* Iterators maintain state, and once exhausted, they cannot be reused unless recreated.\n",
    "* Use for-loops to automatically handle StopIteration behind the scenes.\n",
    "\n",
    "```"
   ]
  },
  {
   "cell_type": "code",
   "execution_count": null,
   "id": "a117da5f",
   "metadata": {},
   "outputs": [
    {
     "name": "stdout",
     "output_type": "stream",
     "text": [
      "<__main__.Square object at 0x111552ba0>\n"
     ]
    },
    {
     "data": {
      "text/plain": [
       "<__main__.Square at 0x111552ba0>"
      ]
     },
     "execution_count": 7,
     "metadata": {},
     "output_type": "execute_result"
    }
   ],
   "source": [
    "# Create a class Squares that takes a number n and iterates through the square of numbers from 1 to n.\n",
    "class Square:\n",
    "    def __init__(self,n):\n",
    "        self.n=n\n",
    "    def iterator(self):\n",
    "        print(int.n)\n",
    "\n",
    "a = Square(5)\n",
    "print(a)\n",
    "a"
   ]
  },
  {
   "cell_type": "code",
   "execution_count": null,
   "id": "e29255b8",
   "metadata": {},
   "outputs": [],
   "source": []
  }
 ],
 "metadata": {
  "kernelspec": {
   "display_name": "venv",
   "language": "python",
   "name": "python3"
  },
  "language_info": {
   "codemirror_mode": {
    "name": "ipython",
    "version": 3
   },
   "file_extension": ".py",
   "mimetype": "text/x-python",
   "name": "python",
   "nbconvert_exporter": "python",
   "pygments_lexer": "ipython3",
   "version": "3.12.9"
  }
 },
 "nbformat": 4,
 "nbformat_minor": 5
}
