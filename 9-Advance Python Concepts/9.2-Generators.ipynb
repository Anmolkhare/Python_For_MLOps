{
 "cells": [
  {
   "cell_type": "markdown",
   "id": "db793805",
   "metadata": {},
   "source": [
    "# ⚙️ Generators in Python\n",
    "\n",
    "Generators are a powerful feature in Python that allow you to create iterators in a clean and concise way using the `yield` keyword. Unlike normal functions that return a single value using `return`, generators can yield multiple values one at a time, suspending and resuming execution as needed.\n",
    "\n",
    "---\n",
    "\n",
    "## 🚀 Why Use Generators?\n",
    "\n",
    "- 🔁 Efficient memory usage — values are generated on the fly.\n",
    "- 🐍 Useful for working with large datasets or infinite sequences.\n",
    "- 💡 Cleaner syntax compared to writing an iterator class.\n",
    "\n",
    "---\n",
    "\n",
    "## 🧠 Generator Function vs Normal Function\n",
    "\n",
    "| Feature               | Normal Function           | Generator Function         |\n",
    "|-----------------------|---------------------------|-----------------------------|\n",
    "| Returns value         | `return`                  | `yield`                     |\n",
    "| Returns all at once   | Yes                       | No (one at a time)          |\n",
    "| Stores state          | No                        | Yes                         |\n",
    "| Memory efficient      | No                        | Yes                         |\n",
    "\n",
    "---\n",
    "\n",
    "## ✅ Syntax of a Generator Function\n",
    "\n",
    "```python\n",
    "def my_generator():\n",
    "    yield 1\n",
    "    yield 2\n",
    "    yield 3\n",
    "````\n",
    "\n",
    "Calling this function doesn't run the code immediately. Instead, it returns a generator object.\n",
    "\n",
    "```python\n",
    "gen = my_generator()\n",
    "print(next(gen))  # Output: 1\n",
    "print(next(gen))  # Output: 2\n",
    "print(next(gen))  # Output: 3\n",
    "```\n",
    "\n",
    "---\n",
    "\n",
    "## 🎯 Generator Expressions\n",
    "\n",
    "Just like list comprehensions, but with parentheses:\n",
    "\n",
    "```python\n",
    "squares = (x * x for x in range(5))\n",
    "for sq in squares:\n",
    "    print(sq)\n",
    "```\n",
    "\n",
    "---\n",
    "\n",
    "## ❗Common Use Cases\n",
    "\n",
    "* Reading large files line-by-line\n",
    "* Infinite sequences (like Fibonacci or prime numbers)\n",
    "* Streaming data pipelines\n",
    "\n",
    "---\n",
    "\n",
    "## ⚠️ Common Mistakes\n",
    "\n",
    "* ❌ Using `return` instead of `yield` (ends the generator immediately)\n",
    "* ❌ Forgetting to handle StopIteration when using `next()` manually\n",
    "* ❌ Treating generator like a list (you can only iterate once)\n",
    "\n",
    "---\n",
    "\n",
    "## 📘 Tip\n",
    "\n",
    "Generators are one of the best ways to improve performance and efficiency in data-heavy applications or stream processing systems.\n",
    "\n",
    "```"
   ]
  },
  {
   "cell_type": "markdown",
   "id": "a973b235",
   "metadata": {},
   "source": []
  },
  {
   "cell_type": "code",
   "execution_count": 9,
   "id": "8b422b89",
   "metadata": {},
   "outputs": [
    {
     "data": {
      "text/plain": [
       "<generator object square at 0x11222a260>"
      ]
     },
     "execution_count": 9,
     "metadata": {},
     "output_type": "execute_result"
    }
   ],
   "source": [
    "def square(n):\n",
    "    for i in range(3):\n",
    "        yield i**2\n",
    "square(3)"
   ]
  },
  {
   "cell_type": "code",
   "execution_count": 10,
   "id": "36f086da",
   "metadata": {},
   "outputs": [
    {
     "name": "stdout",
     "output_type": "stream",
     "text": [
      "0\n",
      "1\n",
      "4\n"
     ]
    }
   ],
   "source": [
    "for i in square(3):\n",
    "    print(i)"
   ]
  },
  {
   "cell_type": "code",
   "execution_count": 11,
   "id": "86a11c03",
   "metadata": {},
   "outputs": [
    {
     "data": {
      "text/plain": [
       "<generator object my_generator at 0x10d8d7a00>"
      ]
     },
     "execution_count": 11,
     "metadata": {},
     "output_type": "execute_result"
    }
   ],
   "source": [
    "def my_generator():\n",
    "    yield 1\n",
    "    yield 2\n",
    "    yield 3\n",
    "gen = my_generator()\n",
    "gen\n"
   ]
  },
  {
   "cell_type": "code",
   "execution_count": 12,
   "id": "3b22e83b",
   "metadata": {},
   "outputs": [
    {
     "data": {
      "text/plain": [
       "1"
      ]
     },
     "execution_count": 12,
     "metadata": {},
     "output_type": "execute_result"
    }
   ],
   "source": [
    "next(gen)"
   ]
  },
  {
   "cell_type": "code",
   "execution_count": 13,
   "id": "3b749de6",
   "metadata": {},
   "outputs": [
    {
     "name": "stdout",
     "output_type": "stream",
     "text": [
      "2\n",
      "3\n"
     ]
    }
   ],
   "source": [
    "for val in gen:\n",
    "    print(val)"
   ]
  },
  {
   "cell_type": "code",
   "execution_count": 15,
   "id": "f792997d",
   "metadata": {},
   "outputs": [],
   "source": [
    "def yield_func(a):\n",
    "    for val in a:\n",
    "        yield val "
   ]
  },
  {
   "cell_type": "code",
   "execution_count": 18,
   "id": "9adc43a1",
   "metadata": {},
   "outputs": [
    {
     "name": "stdout",
     "output_type": "stream",
     "text": [
      "1\n",
      "2\n",
      "3\n",
      "4\n",
      "5\n",
      "6\n",
      "7\n"
     ]
    }
   ],
   "source": [
    "a = [1,2,3,4,5,6,7]\n",
    "for val in yield_func(a):\n",
    "    print(val)"
   ]
  },
  {
   "cell_type": "code",
   "execution_count": 19,
   "id": "b53f305a",
   "metadata": {},
   "outputs": [],
   "source": [
    "# Decorator \n",
    "def my_decorator(func):\n",
    "    def wrapper():\n",
    "        print(\"Something is happening before the function is called.\")\n",
    "        func()\n",
    "        print(\"Something is happening before the function is called.\")\n",
    "    return wrapper\n"
   ]
  },
  {
   "cell_type": "code",
   "execution_count": 20,
   "id": "2c46e54b",
   "metadata": {},
   "outputs": [],
   "source": [
    "@my_decorator\n",
    "def say_hello():\n",
    "    print(\"Hello\")"
   ]
  },
  {
   "cell_type": "code",
   "execution_count": 21,
   "id": "fe307294",
   "metadata": {},
   "outputs": [
    {
     "name": "stdout",
     "output_type": "stream",
     "text": [
      "Something is happening before the function is called.\n",
      "Hello\n",
      "Something is happening before the function is called.\n"
     ]
    }
   ],
   "source": [
    "say_hello()"
   ]
  },
  {
   "cell_type": "code",
   "execution_count": 22,
   "id": "8095fcbe",
   "metadata": {},
   "outputs": [],
   "source": [
    "# decorators with arguments\n",
    "def repeat(n):\n",
    "    def decorator(func):\n",
    "        def wrapper(*args,**kwargs):\n",
    "            for _ in range(n):\n",
    "                func(*args,**kwargs)\n",
    "        return wrapper\n",
    "    return decorator\n"
   ]
  },
  {
   "cell_type": "code",
   "execution_count": null,
   "id": "3fadd090",
   "metadata": {},
   "outputs": [],
   "source": [
    "@repeat(3)\n",
    "def say_hello():\n",
    "    print(\"Hello\")"
   ]
  },
  {
   "cell_type": "markdown",
   "id": "0b6aecd3",
   "metadata": {},
   "source": [
    "Here are some **Python decorator-based questions** ranging from beginner to intermediate level:\n",
    "\n",
    "---\n",
    "\n",
    "### 🟢 **Beginner Level:**\n",
    "\n",
    "1. **What is a decorator in Python? Explain with an example.**\n",
    "\n",
    "2. **Write a decorator that prints \"Function started\" before and \"Function ended\" after calling the function.**\n",
    "\n",
    "3. **Create a decorator that logs the arguments and return value of a function.**\n",
    "\n",
    "4. **Use a decorator to limit a function so it can only be called once.**\n",
    "\n",
    "5. **Write a decorator that times how long a function takes to run.**\n",
    "\n",
    "---\n",
    "\n",
    "### 🟡 **Intermediate Level:**\n",
    "\n",
    "6. **Create a decorator that only allows a function to run if the user is authenticated.**\n",
    "   (Hint: Pass a boolean `is_authenticated` to the wrapper)\n",
    "\n",
    "7. **Write a decorator that modifies the return value of a function (e.g., always returns uppercase text).**\n",
    "\n",
    "8. **Use a decorator to cache results of an expensive function (simple memoization).**\n",
    "\n",
    "9. **Create a decorator that repeats the execution of a function `n` times.**\n",
    "\n",
    "10. **Write a class-based decorator that counts how many times a function is called.**\n",
    "\n",
    "---\n",
    "\n",
    "### 🔵 **Built-in Decorators Questions:**\n",
    "\n",
    "11. **Explain the difference between `@staticmethod`, `@classmethod`, and instance methods.**\n",
    "\n",
    "12. **Write a class that uses `@staticmethod` to validate a value.**\n",
    "\n",
    "13. **How does `functools.wraps` help when writing decorators? Show with and without `wraps`.**\n",
    "\n",
    "---"
   ]
  },
  {
   "cell_type": "markdown",
   "id": "062a6d69",
   "metadata": {},
   "source": []
  }
 ],
 "metadata": {
  "kernelspec": {
   "display_name": "venv",
   "language": "python",
   "name": "python3"
  },
  "language_info": {
   "codemirror_mode": {
    "name": "ipython",
    "version": 3
   },
   "file_extension": ".py",
   "mimetype": "text/x-python",
   "name": "python",
   "nbconvert_exporter": "python",
   "pygments_lexer": "ipython3",
   "version": "3.12.9"
  }
 },
 "nbformat": 4,
 "nbformat_minor": 5
}
