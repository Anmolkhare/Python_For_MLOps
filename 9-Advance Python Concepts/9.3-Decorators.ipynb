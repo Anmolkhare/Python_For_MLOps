{
 "cells": [
  {
   "cell_type": "markdown",
   "id": "b501380c",
   "metadata": {},
   "source": [
    "### ✅ Decorators in Python – Explained Simply\n",
    "\n",
    "---\n",
    "\n",
    "### 💡 What is a Decorator?\n",
    "\n",
    "A **decorator** is a special function in Python that **modifies the behavior of another function** without changing its code.\n",
    "\n",
    "Think of it like wrapping a gift: 🎁\n",
    "You take a function and \"wrap\" it with another function to add extra features.\n",
    "\n",
    "---\n",
    "\n",
    "### 🔧 Basic Syntax:\n",
    "\n",
    "```python\n",
    "def decorator_func(original_func):\n",
    "    def wrapper():\n",
    "        print(\"Before the original function\")\n",
    "        original_func()\n",
    "        print(\"After the original function\")\n",
    "    return wrapper\n",
    "\n",
    "@decorator_func\n",
    "def say_hello():\n",
    "    print(\"Hello!\")\n",
    "\n",
    "say_hello()\n",
    "```\n",
    "\n",
    "#### 📤 Output:\n",
    "\n",
    "```\n",
    "Before the original function\n",
    "Hello!\n",
    "After the original function\n",
    "```\n",
    "\n",
    "---\n",
    "\n",
    "### 🧰 How it Works:\n",
    "\n",
    "* `@decorator_func` is **syntactic sugar** for:\n",
    "\n",
    "  ```python\n",
    "  say_hello = decorator_func(say_hello)\n",
    "  ```\n",
    "\n",
    "---\n",
    "\n",
    "### 🧪 Example with Arguments:\n",
    "\n",
    "```python\n",
    "def log_arguments(func):\n",
    "    def wrapper(*args, **kwargs):\n",
    "        print(f\"Arguments: {args} {kwargs}\")\n",
    "        return func(*args, **kwargs)\n",
    "    return wrapper\n",
    "\n",
    "@log_arguments\n",
    "def add(a, b):\n",
    "    return a + b\n",
    "\n",
    "print(add(3, 5))\n",
    "```\n",
    "\n",
    "---\n",
    "\n",
    "### 🎯 Real-Life Uses:\n",
    "\n",
    "* Logging\n",
    "* Authentication\n",
    "* Measuring execution time\n",
    "* Input validation\n",
    "\n",
    "---\n",
    "\n",
    "### ✅ Summary:\n",
    "\n",
    "* A **decorator** is a function that takes another function and **extends or changes its behavior**.\n",
    "* Use `@decorator_name` to apply it easily.\n",
    "* Decorators help write **clean**, **reusable**, and **DRY** code.\n"
   ]
  },
  {
   "cell_type": "markdown",
   "id": "ac6ae986",
   "metadata": {},
   "source": []
  },
  {
   "cell_type": "code",
   "execution_count": 5,
   "id": "6f547563",
   "metadata": {},
   "outputs": [
    {
     "data": {
      "text/plain": [
       "'Wellcome to the advance python course'"
      ]
     },
     "execution_count": 5,
     "metadata": {},
     "output_type": "execute_result"
    }
   ],
   "source": [
    "# function copy\n",
    "def wellcome():\n",
    "    return \"Wellcome to the advance python course\"\n",
    "wellcome()"
   ]
  },
  {
   "cell_type": "code",
   "execution_count": 6,
   "id": "7698f699",
   "metadata": {},
   "outputs": [
    {
     "name": "stdout",
     "output_type": "stream",
     "text": [
      "Wellcome to the advance python course\n",
      "Wellcome to the advance python course\n"
     ]
    }
   ],
   "source": [
    "well = wellcome\n",
    "print(well())\n",
    "del wellcome\n",
    "print(well())"
   ]
  },
  {
   "cell_type": "code",
   "execution_count": 12,
   "id": "89c675f4",
   "metadata": {},
   "outputs": [],
   "source": [
    "# closures\n",
    "def main_func(msg):\n",
    "    def sub_func_method():\n",
    "        print(\"Wellcome to the advance python course\")\n",
    "        print(msg)\n",
    "        print(\"Please learn these concepts properly\")\n",
    "    return sub_func_method()"
   ]
  },
  {
   "cell_type": "code",
   "execution_count": 13,
   "id": "25dbc507",
   "metadata": {},
   "outputs": [
    {
     "name": "stdout",
     "output_type": "stream",
     "text": [
      "Wellcome to the advance python course\n",
      "Wellcome everyone\n",
      "Please learn these concepts properly\n"
     ]
    }
   ],
   "source": [
    "main_func(\"Wellcome everyone\")"
   ]
  },
  {
   "cell_type": "code",
   "execution_count": 16,
   "id": "3a6ded58",
   "metadata": {},
   "outputs": [
    {
     "name": "stdout",
     "output_type": "stream",
     "text": [
      "Wellcome to the advance python course\n",
      "Passing function here\n",
      "Please learn these concepts properly\n"
     ]
    }
   ],
   "source": [
    "def main_func(func):\n",
    "    def sub_func_method():\n",
    "        print(\"Wellcome to the advance python course\")\n",
    "        func(\"Passing function here\")\n",
    "        print(\"Please learn these concepts properly\")\n",
    "    return sub_func_method()\n",
    "main_func(print)"
   ]
  },
  {
   "cell_type": "code",
   "execution_count": 18,
   "id": "f2bbcb5e",
   "metadata": {},
   "outputs": [
    {
     "name": "stdout",
     "output_type": "stream",
     "text": [
      "Wellcome to the advance python course\n",
      "7\n",
      "Please learn these concepts properly\n"
     ]
    }
   ],
   "source": [
    "def main_func(func,lst):\n",
    "    def sub_func_method():\n",
    "        print(\"Wellcome to the advance python course\")\n",
    "        print(func(lst))\n",
    "        print(\"Please learn these concepts properly\")\n",
    "    return sub_func_method()\n",
    "main_func(len,[1,2,3,4,5,6,7]) "
   ]
  },
  {
   "cell_type": "code",
   "execution_count": 21,
   "id": "bdec7abf",
   "metadata": {},
   "outputs": [],
   "source": [
    "#Decorator\n",
    "def main_func(func):\n",
    "    def sub_func_method():\n",
    "        print(\"Wellcome to the advance python course\")\n",
    "        func()\n",
    "        print(\"Please learn these concepts properly\")\n",
    "    return sub_func_method()"
   ]
  },
  {
   "cell_type": "code",
   "execution_count": 22,
   "id": "32b65f79",
   "metadata": {},
   "outputs": [
    {
     "name": "stdout",
     "output_type": "stream",
     "text": [
      "This is an advanced python course\n"
     ]
    }
   ],
   "source": [
    "def core_func():\n",
    "    print(\"This is an advanced python course\")\n",
    "core_func()"
   ]
  },
  {
   "cell_type": "code",
   "execution_count": 23,
   "id": "32fde37e",
   "metadata": {},
   "outputs": [
    {
     "name": "stdout",
     "output_type": "stream",
     "text": [
      "Wellcome to the advance python course\n",
      "This is an advanced python course\n",
      "Please learn these concepts properly\n"
     ]
    }
   ],
   "source": [
    "main_func(core_func)"
   ]
  },
  {
   "cell_type": "code",
   "execution_count": null,
   "id": "af02ce35",
   "metadata": {},
   "outputs": [
    {
     "name": "stdout",
     "output_type": "stream",
     "text": [
      "Wellcome to the advance python course\n",
      "This is an advanced python course\n",
      "Please learn these concepts properly\n"
     ]
    }
   ],
   "source": [
    "# createing decorator\n",
    "@main_func\n",
    "def core_func():\n",
    "    print(\"This is an advanced python course\")"
   ]
  },
  {
   "cell_type": "code",
   "execution_count": null,
   "id": "ddc73f9e",
   "metadata": {},
   "outputs": [],
   "source": []
  }
 ],
 "metadata": {
  "kernelspec": {
   "display_name": "venv",
   "language": "python",
   "name": "python3"
  },
  "language_info": {
   "codemirror_mode": {
    "name": "ipython",
    "version": 3
   },
   "file_extension": ".py",
   "mimetype": "text/x-python",
   "name": "python",
   "nbconvert_exporter": "python",
   "pygments_lexer": "ipython3",
   "version": "3.12.9"
  }
 },
 "nbformat": 4,
 "nbformat_minor": 5
}
