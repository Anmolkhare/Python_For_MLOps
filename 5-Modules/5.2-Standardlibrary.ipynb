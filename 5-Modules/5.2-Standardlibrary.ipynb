{
 "cells": [
  {
   "cell_type": "markdown",
   "id": "5f1d3416",
   "metadata": {},
   "source": [
    "# 📚 Python Standard Library Overview\n",
    "\n",
    "---\n",
    "\n",
    "## 🌟 Introduction\n",
    "\n",
    "The Python Standard Library is a powerful collection of modules and packages that come pre-installed with Python. These built-in tools allow you to perform a wide range of tasks—such as working with files, data formats, dates and times, math operations, and system operations—without the need to install any external libraries.\n",
    "\n",
    "---\n",
    "\n",
    "## 🔧 Why Use the Standard Library?\n",
    "\n",
    "✅ No need for extra installation  \n",
    "✅ Well-documented and widely used  \n",
    "✅ Time-tested and optimized for performance  \n",
    "✅ Maintained by the Python Software Foundation\n",
    "\n",
    "---\n",
    "\n",
    "## 📦 Categories & Popular Modules\n",
    "\n",
    "### 📁 File & Directory Handling\n",
    "- `os` – Interact with the operating system\n",
    "- `shutil` – File operations (copy, move, etc.)\n",
    "- `pathlib` – Object-oriented path handling\n",
    "\n",
    "### 📄 File Formats\n",
    "- `json` – Read and write JSON\n",
    "- `csv` – Work with CSV files\n",
    "- `pickle` – Serialize and deserialize Python objects\n",
    "\n",
    "### 📅 Date & Time\n",
    "- `datetime` – Manipulate dates and times\n",
    "- `time` – Time-related functions\n",
    "\n",
    "### 🔢 Mathematics\n",
    "- `math` – Mathematical functions\n",
    "- `random` – Generate random numbers\n",
    "- `statistics` – Basic statistical operations\n",
    "\n",
    "### 🔐 Data Compression and Encryption\n",
    "- `gzip` – Work with gzip-compressed files\n",
    "- `hashlib` – Secure hashes and message digests\n",
    "\n",
    "### 🧪 Data Serialization\n",
    "- `json` – Encode and decode JSON objects\n",
    "- `pickle` – Persist Python objects\n",
    "\n",
    "### 🌐 Internet & Web\n",
    "- `urllib` – URL handling\n",
    "- `http.client` – HTTP protocol client\n",
    "\n",
    "### 📬 Email Handling\n",
    "- `smtplib` – Send emails\n",
    "- `email` – Manage email messages\n",
    "\n",
    "### 🧪 Testing & Debugging\n",
    "- `unittest` – Unit testing framework\n",
    "- `logging` – Log events for debugging\n",
    "\n",
    "### 🖧 Networking\n",
    "- `socket` – Low-level networking interface\n",
    "\n",
    "---\n",
    "\n",
    "## 🛠 Utility Modules\n",
    "- `itertools` – Efficient looping\n",
    "- `collections` – Specialized container datatypes\n",
    "- `functools` – Higher-order functions\n",
    "- `re` – Regular expressions\n",
    "- `sys` – Access to interpreter variables\n",
    "\n",
    "---\n",
    "\n",
    "## 🧠 Pro Tip\n",
    "\n",
    "Use the built-in `help()` function to explore any module:\n",
    "\n",
    "```python\n",
    "import math\n",
    "help(math)\n",
    "````\n",
    "\n",
    "Or use `dir(module_name)` to see what functions and classes it contains.\n",
    "\n",
    "---\n",
    "\n",
    "## ✅ Conclusion\n",
    "\n",
    "Mastering the Standard Library saves time, improves code efficiency, and keeps your project lightweight. It's one of the best parts of Python's \"batteries included\" philosophy!\n",
    "\n",
    "---\n",
    "\n",
    "```"
   ]
  },
  {
   "cell_type": "code",
   "execution_count": 2,
   "id": "b8b47f47",
   "metadata": {},
   "outputs": [
    {
     "name": "stdout",
     "output_type": "stream",
     "text": [
      "array('i', [1, 2, 3, 4])\n"
     ]
    }
   ],
   "source": [
    "import array\n",
    "arr = array.array(\"i\",[1,2,3,4])\n",
    "print(arr)"
   ]
  },
  {
   "cell_type": "code",
   "execution_count": 16,
   "id": "680e7726",
   "metadata": {},
   "outputs": [
    {
     "name": "stdout",
     "output_type": "stream",
     "text": [
      "9\n",
      "apple\n"
     ]
    }
   ],
   "source": [
    "# Random\n",
    "import random\n",
    "print(random.randint(1,10))\n",
    "print(random.choice([\"apple\",\"banana\",\"cherry\"]))"
   ]
  },
  {
   "cell_type": "code",
   "execution_count": 17,
   "id": "888e0ad0",
   "metadata": {},
   "outputs": [
    {
     "name": "stdout",
     "output_type": "stream",
     "text": [
      "/Users/anmolkhare/Documents/Mlops/MLOps_Coding/5-Modules\n"
     ]
    }
   ],
   "source": [
    "# File and Directory Access\n",
    "\n",
    "import os \n",
    "print(os.getcwd())"
   ]
  },
  {
   "cell_type": "code",
   "execution_count": null,
   "id": "91a0a8d7",
   "metadata": {},
   "outputs": [],
   "source": [
    "# create new dir\n",
    "os.mkdir('test_dir')"
   ]
  },
  {
   "cell_type": "code",
   "execution_count": null,
   "id": "4ac1911c",
   "metadata": {},
   "outputs": [],
   "source": [
    "# create new file\n",
    "open(\"new_file.py\", \"a\").close()"
   ]
  },
  {
   "cell_type": "code",
   "execution_count": 24,
   "id": "c4854530",
   "metadata": {},
   "outputs": [
    {
     "data": {
      "text/plain": [
       "'destination.txt'"
      ]
     },
     "execution_count": 24,
     "metadata": {},
     "output_type": "execute_result"
    }
   ],
   "source": [
    "# High level operations on files and collection fo files\n",
    "import shutil\n",
    "shutil.copyfile(\"source.txt\",\"destination.txt\")"
   ]
  },
  {
   "cell_type": "code",
   "execution_count": null,
   "id": "af5c7c12",
   "metadata": {},
   "outputs": [
    {
     "name": "stdout",
     "output_type": "stream",
     "text": [
      "{\"name\": \"Krish\", \"age\": 25}\n",
      "<class 'str'>\n",
      "{'name': 'Krish', 'age': 25}\n",
      "<class 'dict'>\n"
     ]
    }
   ],
   "source": [
    "# Data serialization\n",
    "import json\n",
    "data = {'name':'Krish','age':25}\n",
    "json_str = json.dumps(data)\n",
    "print(json_str)\n",
    "print(type(json_str))\n",
    "\n",
    "parsed_data = json.loads(json_str)\n",
    "print(parsed_data)\n",
    "print(type(parsed_data))"
   ]
  },
  {
   "cell_type": "code",
   "execution_count": 27,
   "id": "b3a27924",
   "metadata": {},
   "outputs": [
    {
     "name": "stdout",
     "output_type": "stream",
     "text": [
      "['name', 'age']\n",
      "['Anmol', '32']\n"
     ]
    }
   ],
   "source": [
    "# CSV\n",
    "\n",
    "import csv\n",
    "with open(\"example.csv\",mode=\"w\",newline=\"\") as file :\n",
    "    writer = csv.writer(file)\n",
    "    writer.writerow(['name','age'])\n",
    "    writer.writerow(['Anmol',32])\n",
    "with open('example.csv', mode = 'r') as file:\n",
    "    reader = csv.reader(file)\n",
    "    for row in reader:\n",
    "        print(row)"
   ]
  },
  {
   "cell_type": "code",
   "execution_count": 31,
   "id": "492fb49e",
   "metadata": {},
   "outputs": [
    {
     "name": "stdout",
     "output_type": "stream",
     "text": [
      "2025-05-20 00:58:21.472184\n",
      "2025-05-19 00:58:21.472184\n"
     ]
    }
   ],
   "source": [
    "from datetime import datetime,timedelta\n",
    "now = datetime.now()\n",
    "print(now)\n",
    "\n",
    "yesterday = now-timedelta(days=1)\n",
    "print(yesterday)"
   ]
  },
  {
   "cell_type": "code",
   "execution_count": 32,
   "id": "35ec9d0f",
   "metadata": {},
   "outputs": [
    {
     "name": "stdout",
     "output_type": "stream",
     "text": [
      "1747682966.187582\n",
      "1747682968.189056\n"
     ]
    }
   ],
   "source": [
    "# Time\n",
    "import time\n",
    "print(time.time())\n",
    "time.sleep(2)\n",
    "print(time.time())"
   ]
  },
  {
   "cell_type": "code",
   "execution_count": 37,
   "id": "a62edd8b",
   "metadata": {},
   "outputs": [
    {
     "name": "stdout",
     "output_type": "stream",
     "text": [
      "123\n"
     ]
    }
   ],
   "source": [
    "# Regular expresion\n",
    "import re\n",
    "pattern =r'\\d+'\n",
    "text = \"There are 123 apples  678\"\n",
    "match = re.search(pattern,text)\n",
    "print(match.group())"
   ]
  },
  {
   "cell_type": "markdown",
   "id": "6d818fe3",
   "metadata": {},
   "source": [
    "\n",
    "# 📝 Practice Questions: Python Standard Library\n",
    "\n",
    "1. **What is the Python Standard Library? Why is it useful?**  \n",
    "   _Hint: Think about the phrase \"batteries included.\"_\n",
    "\n",
    "2. **How do you import and use the `math` module to calculate the square root of 16?**  \n",
    "   _Hint: Use `import math` and `math.sqrt()`._\n",
    "\n",
    "3. **Write a Python program that reads a JSON string and converts it into a Python dictionary using the standard library.**  \n",
    "   _Hint: Use the `json` module's `loads()` method._\n",
    "\n",
    "4. **Using the `datetime` module, write a program to print the current date and time.**  \n",
    "   _Hint: Use `datetime.datetime.now()`._\n",
    "\n",
    "5. **How do you list all the files and directories in the current directory using the standard library?**  \n",
    "   _Hint: Explore the `os` module._\n",
    "\n",
    "6. **Write a Python script that compresses a text file using the `gzip` module.**  \n",
    "   _Hint: Use `gzip.open()` with write mode._\n",
    "\n",
    "7. **Explain the difference between `pickle` and `json` modules. When would you use one over the other?**  \n",
    "   _Hint: Consider the data types and interoperability with other languages._\n",
    "\n",
    "8. **Write a program using the `random` module to generate a random integer between 1 and 100.**  \n",
    "   _Hint: Use `random.randint()`._\n",
    "\n",
    "9. **How can you catch and handle exceptions thrown when importing a module that might not exist?**  \n",
    "   _Hint: Use `try` and `except` blocks around the import statement._\n",
    "\n",
    "10. **Write a Python function that logs messages to a file named `app.log` using the `logging` module.**  \n",
    "    _Hint: Use `logging.basicConfig()`._\n",
    "\n",
    "11. **Demonstrate how to use the `collections` module to count the frequency of elements in a list.**  \n",
    "    _Hint: Use `collections.Counter`._\n",
    "\n",
    "12. **How would you read a CSV file using the Python Standard Library?**  \n",
    "    _Hint: Look at the `csv` module and `csv.reader`._\n",
    "\n",
    "13. **Explain what the `itertools` module is used for. Provide an example of using `itertools.cycle()`.**\n",
    "\n",
    "14. **Write a Python program to download the content of a web page using `urllib.request`.**\n",
    "\n",
    "15. **What module would you use to match patterns in text strings and how? Provide a basic example.**  \n",
    "    _Hint: `re` module and `re.match()` or `re.search()`._\n",
    "\n",
    "---\n"
   ]
  },
  {
   "cell_type": "markdown",
   "id": "90024922",
   "metadata": {},
   "source": []
  }
 ],
 "metadata": {
  "kernelspec": {
   "display_name": "venv",
   "language": "python",
   "name": "python3"
  },
  "language_info": {
   "codemirror_mode": {
    "name": "ipython",
    "version": 3
   },
   "file_extension": ".py",
   "mimetype": "text/x-python",
   "name": "python",
   "nbconvert_exporter": "python",
   "pygments_lexer": "ipython3",
   "version": "3.12.9"
  }
 },
 "nbformat": 4,
 "nbformat_minor": 5
}
