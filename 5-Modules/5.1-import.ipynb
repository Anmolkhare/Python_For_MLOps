{
 "cells": [
  {
   "cell_type": "markdown",
   "id": "6c987106",
   "metadata": {},
   "source": [
    "# 📦 Python Modules and Packages\n",
    "\n",
    "---\n",
    "\n",
    "## 📘 What is a Module?\n",
    "\n",
    "A Module in Python is simply a file containing Python code (functions, variables, classes) which can be imported and used in other Python files.\n",
    "\n",
    "✅ It helps in organizing code into smaller, manageable, and reusable parts.\n",
    "\n",
    "📄 Example of creating and using a module:\n",
    "\n",
    "Suppose you have a file named `math_utils.py`:\n",
    "\n",
    "```python\n",
    "# math_utils.py\n",
    "def add(a, b):\n",
    "    return a + b\n",
    "````\n",
    "\n",
    "You can use it in another Python file:\n",
    "\n",
    "```python\n",
    "# main.py\n",
    "import math_utils\n",
    "\n",
    "print(math_utils.add(3, 4))  # Output: 7\n",
    "```\n",
    "\n",
    "---\n",
    "\n",
    "## 📦 What is a Package?\n",
    "\n",
    "A Package is a directory that contains a special file called `__init__.py` and one or more Python modules. The presence of `__init__.py` indicates that the directory is a Python package.\n",
    "\n",
    "📁 Example structure:\n",
    "\n",
    "```\n",
    "my_package/\n",
    "│\n",
    "├── __init__.py\n",
    "├── math_utils.py\n",
    "└── string_utils.py\n",
    "```\n",
    "\n",
    "You can import like this:\n",
    "\n",
    "```python\n",
    "from my_package import math_utils\n",
    "```\n",
    "\n",
    "---\n",
    "\n",
    "## 📦 Types of Imports:\n",
    "\n",
    "* import module\\_name\n",
    "* from module\\_name import specific\\_function\n",
    "* from module\\_name import \\* (not recommended)\n",
    "* import module\\_name as alias\n",
    "\n",
    "---\n",
    "\n",
    "## 🧠 Built-in Modules in Python:\n",
    "\n",
    "Python comes with many powerful built-in modules:\n",
    "\n",
    "* math\n",
    "* datetime\n",
    "* random\n",
    "* os\n",
    "* sys\n",
    "* json\n",
    "\n",
    "Example:\n",
    "\n",
    "```python\n",
    "import math\n",
    "\n",
    "print(math.sqrt(25))  # Output: 5.0\n",
    "```\n",
    "\n",
    "---\n",
    "\n",
    "## ✅ Advantages of Using Modules and Packages:\n",
    "\n",
    "🔹 Code Reusability\n",
    "🔹 Better Code Organization\n",
    "🔹 Avoid Code Redundancy\n",
    "🔹 Easy to Maintain and Debug\n",
    "🔹 Helps in Collaboration\n",
    "\n",
    "---\n",
    "\n",
    "🧪 Ready to start using and creating your own modules and packages? Let's dive in with examples and exercises next!\n",
    "\n",
    "```\n"
   ]
  },
  {
   "cell_type": "code",
   "execution_count": 2,
   "id": "b5ff3cea",
   "metadata": {},
   "outputs": [
    {
     "data": {
      "text/plain": [
       "4.0"
      ]
     },
     "execution_count": 2,
     "metadata": {},
     "output_type": "execute_result"
    }
   ],
   "source": [
    "import math\n",
    "math.sqrt(16)"
   ]
  },
  {
   "cell_type": "code",
   "execution_count": 3,
   "id": "fd09df99",
   "metadata": {},
   "outputs": [
    {
     "name": "stdout",
     "output_type": "stream",
     "text": [
      "4.123105625617661\n",
      "6.708203932499369\n",
      "3.141592653589793\n"
     ]
    }
   ],
   "source": [
    "from math import sqrt,pi\n",
    "print(sqrt(17))\n",
    "print(sqrt(45))\n",
    "print(pi)"
   ]
  },
  {
   "cell_type": "code",
   "execution_count": 1,
   "id": "1dbbf00c",
   "metadata": {},
   "outputs": [
    {
     "data": {
      "text/plain": [
       "array([1, 2, 3, 4])"
      ]
     },
     "execution_count": 1,
     "metadata": {},
     "output_type": "execute_result"
    }
   ],
   "source": [
    "import numpy as np\n",
    "np.array([1,2,3,4])"
   ]
  },
  {
   "cell_type": "code",
   "execution_count": 4,
   "id": "61cb0bb8",
   "metadata": {},
   "outputs": [
    {
     "name": "stdout",
     "output_type": "stream",
     "text": [
      "3.872983346207417\n",
      "3.141592653589793\n"
     ]
    }
   ],
   "source": [
    "from math import *\n",
    "print(sqrt(15))\n",
    "print(pi)"
   ]
  },
  {
   "cell_type": "code",
   "execution_count": 1,
   "id": "6ab0bb16",
   "metadata": {},
   "outputs": [
    {
     "data": {
      "text/plain": [
       "10"
      ]
     },
     "execution_count": 1,
     "metadata": {},
     "output_type": "execute_result"
    }
   ],
   "source": [
    "from package.maths import addition\n",
    "addition(5,5)"
   ]
  },
  {
   "cell_type": "code",
   "execution_count": 2,
   "id": "2b39e398",
   "metadata": {},
   "outputs": [
    {
     "data": {
      "text/plain": [
       "10"
      ]
     },
     "execution_count": 2,
     "metadata": {},
     "output_type": "execute_result"
    }
   ],
   "source": [
    "from package import maths\n",
    "maths.addition(5,5)"
   ]
  },
  {
   "cell_type": "markdown",
   "id": "06f87423",
   "metadata": {},
   "source": [
    "# 🧪 Practice Questions – Modules & Packages in Python\n",
    "\n",
    "---\n",
    "\n",
    "## 📌 Basic Level\n",
    "\n",
    "1. 💡 Create a Python module named `calculator.py` that contains functions for addition, subtraction, multiplication, and division. Import and use it in a separate file.\n",
    "\n",
    "2. 🧩 Import the built-in `math` module and:\n",
    "   - Calculate the factorial of 6\n",
    "   - Find the value of pi\n",
    "   - Compute the square root of 49\n",
    "\n",
    "3. 🕰 Use the `datetime` module to:\n",
    "   - Print the current date and time\n",
    "   - Extract the current year, month, and day\n",
    "\n",
    "4. 🔀 Use the `random` module to:\n",
    "   - Generate a random number between 1 and 100\n",
    "   - Choose a random element from a list\n",
    "\n",
    "---\n",
    "\n",
    "## 📌 Intermediate Level\n",
    "\n",
    "5. 📂 Create a package called `geometry` with modules `circle.py` and `rectangle.py`. Each module should contain functions to calculate area and perimeter.\n",
    "\n",
    "6. 🔐 Explore the `os` module:\n",
    "   - Print the current working directory\n",
    "   - List all files in the current directory\n",
    "\n",
    "7. 🧮 Use `from math import *` to use all functions without prefix. Discuss its pros and cons.\n",
    "\n",
    "8. 🧠 Use aliasing: import the `statistics` module as `stats` and compute:\n",
    "   - Mean of a list\n",
    "   - Median of a list\n",
    "\n",
    "---\n",
    "\n",
    "## 📌 Advanced Level\n",
    "\n",
    "9. 📦 Create a package named `utils` with:\n",
    "   - `string_ops.py` for string manipulations\n",
    "   - `list_ops.py` for list operations\n",
    "   - Use `__init__.py` to import necessary functions\n",
    "\n",
    "10. 🔧 Use `sys.path` to dynamically add a module path and import it.\n",
    "\n",
    "11. 🧪 Use `__name__ == \"__main__\"` in a module and explain its use with an example.\n",
    "\n",
    "12. 📁 Explore how to build and install a custom package locally using `setup.py`.\n",
    "\n",
    "---\n",
    "\n",
    "## 📝 Bonus Discussion\n",
    "\n",
    "🔎 What is the difference between absolute and relative imports in packages? Give code examples.\n",
    "\n",
    "🧩 Can a module import another module from the same package? How?\n",
    "\n",
    "---\n",
    "\n",
    "💬 Hint: Use built-in documentation functions like help(module_name) or dir(module_name) to explore modules.\n"
   ]
  },
  {
   "cell_type": "markdown",
   "id": "2b8e4f30",
   "metadata": {},
   "source": []
  }
 ],
 "metadata": {
  "kernelspec": {
   "display_name": "venv",
   "language": "python",
   "name": "python3"
  },
  "language_info": {
   "codemirror_mode": {
    "name": "ipython",
    "version": 3
   },
   "file_extension": ".py",
   "mimetype": "text/x-python",
   "name": "python",
   "nbconvert_exporter": "python",
   "pygments_lexer": "ipython3",
   "version": "3.12.9"
  }
 },
 "nbformat": 4,
 "nbformat_minor": 5
}
